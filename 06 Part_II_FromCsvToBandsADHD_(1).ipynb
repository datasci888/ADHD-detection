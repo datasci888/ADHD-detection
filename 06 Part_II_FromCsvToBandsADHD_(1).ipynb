{
  "nbformat": 4,
  "nbformat_minor": 0,
  "metadata": {
    "colab": {
      "provenance": []
    },
    "kernelspec": {
      "name": "python3",
      "display_name": "Python 3"
    },
    "language_info": {
      "name": "python"
    }
  },
  "cells": [
    {
      "cell_type": "code",
      "execution_count": 1,
      "metadata": {
        "id": "jPrKr6XhL4C8"
      },
      "outputs": [],
      "source": [
        "import numpy as np\n",
        "import pandas as pd\n",
        "import os\n",
        "import scipy.io\n",
        "import matplotlib.pyplot as plt\n",
        "from scipy import signal"
      ]
    },
    {
      "cell_type": "code",
      "source": [
        "# !pip install mne"
      ],
      "metadata": {
        "id": "Rrevml0PL_nm"
      },
      "execution_count": 2,
      "outputs": []
    },
    {
      "cell_type": "code",
      "source": [
        "from google.colab import drive\n",
        "drive.mount('/content/drive')"
      ],
      "metadata": {
        "colab": {
          "base_uri": "https://localhost:8080/"
        },
        "id": "9ImzuLsVMDBs",
        "outputId": "14681a69-81c1-419a-d277-56b97ada8be2"
      },
      "execution_count": 4,
      "outputs": [
        {
          "output_type": "stream",
          "name": "stdout",
          "text": [
            "Mounted at /content/drive\n"
          ]
        }
      ]
    },
    {
      "cell_type": "code",
      "source": [
        "channel_range = np.array(range(0, 18))\n",
        "channel_list = ['Fp1', 'Fp2', 'F3', 'F4', 'C3', 'C4', 'P3', 'P4', 'O1', 'O2', 'F7', 'F8', 'T7', 'T8','P7','P8','Fz','Cz','Pz']\n",
        "channel_mymap = dict(zip(channel_list, channel_range))"
      ],
      "metadata": {
        "id": "z_ypz_gDMMWL"
      },
      "execution_count": 4,
      "outputs": []
    },
    {
      "cell_type": "code",
      "source": [
        "# df = pd.DataFrame.from_dict(data)"
      ],
      "metadata": {
        "id": "0phGqVpnMgEy"
      },
      "execution_count": 5,
      "outputs": []
    },
    {
      "cell_type": "code",
      "source": [
        "# Import dfICAFiltered file from AttentionNewDatasetToCSV_ICA_FIltering_doneTOCSV.ipynb\n",
        "df1 = pd.read_csv('/content/drive/MyDrive/CSVsb4filterADHDAndNon/dfICA_Dataset1ADHD.csv') \n",
        "df1.head()\n"
      ],
      "metadata": {
        "colab": {
          "base_uri": "https://localhost:8080/",
          "height": 206
        },
        "id": "s77Ue_nKxVWn",
        "outputId": "a80d9fd8-85c8-4dd2-bf74-8d08325c8e37"
      },
      "execution_count": 6,
      "outputs": [
        {
          "output_type": "execute_result",
          "data": {
            "text/plain": [
              "   Unnamed: 0         A         B         C         D         E         F  \\\n",
              "0           0  0.000021 -0.000046  0.000018  0.000025  0.000149 -0.000028   \n",
              "1           1 -0.000009 -0.000086  0.000308  0.000030 -0.000380 -0.000483   \n",
              "2           2  0.000108 -0.000195  0.000367  0.000077 -0.000571 -0.000431   \n",
              "3           3  0.000192 -0.000518  0.000434  0.000163 -0.000516 -0.000299   \n",
              "4           4  0.000095 -0.000843  0.000581  0.000183 -0.000386 -0.000387   \n",
              "\n",
              "          G Label  \n",
              "0 -0.000028  ADHD  \n",
              "1 -0.000045  ADHD  \n",
              "2  0.000026  ADHD  \n",
              "3  0.000106  ADHD  \n",
              "4  0.000104  ADHD  "
            ],
            "text/html": [
              "\n",
              "  <div id=\"df-7ad4b2f7-6dff-40e5-9044-3d2d7b2b3791\">\n",
              "    <div class=\"colab-df-container\">\n",
              "      <div>\n",
              "<style scoped>\n",
              "    .dataframe tbody tr th:only-of-type {\n",
              "        vertical-align: middle;\n",
              "    }\n",
              "\n",
              "    .dataframe tbody tr th {\n",
              "        vertical-align: top;\n",
              "    }\n",
              "\n",
              "    .dataframe thead th {\n",
              "        text-align: right;\n",
              "    }\n",
              "</style>\n",
              "<table border=\"1\" class=\"dataframe\">\n",
              "  <thead>\n",
              "    <tr style=\"text-align: right;\">\n",
              "      <th></th>\n",
              "      <th>Unnamed: 0</th>\n",
              "      <th>A</th>\n",
              "      <th>B</th>\n",
              "      <th>C</th>\n",
              "      <th>D</th>\n",
              "      <th>E</th>\n",
              "      <th>F</th>\n",
              "      <th>G</th>\n",
              "      <th>Label</th>\n",
              "    </tr>\n",
              "  </thead>\n",
              "  <tbody>\n",
              "    <tr>\n",
              "      <th>0</th>\n",
              "      <td>0</td>\n",
              "      <td>0.000021</td>\n",
              "      <td>-0.000046</td>\n",
              "      <td>0.000018</td>\n",
              "      <td>0.000025</td>\n",
              "      <td>0.000149</td>\n",
              "      <td>-0.000028</td>\n",
              "      <td>-0.000028</td>\n",
              "      <td>ADHD</td>\n",
              "    </tr>\n",
              "    <tr>\n",
              "      <th>1</th>\n",
              "      <td>1</td>\n",
              "      <td>-0.000009</td>\n",
              "      <td>-0.000086</td>\n",
              "      <td>0.000308</td>\n",
              "      <td>0.000030</td>\n",
              "      <td>-0.000380</td>\n",
              "      <td>-0.000483</td>\n",
              "      <td>-0.000045</td>\n",
              "      <td>ADHD</td>\n",
              "    </tr>\n",
              "    <tr>\n",
              "      <th>2</th>\n",
              "      <td>2</td>\n",
              "      <td>0.000108</td>\n",
              "      <td>-0.000195</td>\n",
              "      <td>0.000367</td>\n",
              "      <td>0.000077</td>\n",
              "      <td>-0.000571</td>\n",
              "      <td>-0.000431</td>\n",
              "      <td>0.000026</td>\n",
              "      <td>ADHD</td>\n",
              "    </tr>\n",
              "    <tr>\n",
              "      <th>3</th>\n",
              "      <td>3</td>\n",
              "      <td>0.000192</td>\n",
              "      <td>-0.000518</td>\n",
              "      <td>0.000434</td>\n",
              "      <td>0.000163</td>\n",
              "      <td>-0.000516</td>\n",
              "      <td>-0.000299</td>\n",
              "      <td>0.000106</td>\n",
              "      <td>ADHD</td>\n",
              "    </tr>\n",
              "    <tr>\n",
              "      <th>4</th>\n",
              "      <td>4</td>\n",
              "      <td>0.000095</td>\n",
              "      <td>-0.000843</td>\n",
              "      <td>0.000581</td>\n",
              "      <td>0.000183</td>\n",
              "      <td>-0.000386</td>\n",
              "      <td>-0.000387</td>\n",
              "      <td>0.000104</td>\n",
              "      <td>ADHD</td>\n",
              "    </tr>\n",
              "  </tbody>\n",
              "</table>\n",
              "</div>\n",
              "      <button class=\"colab-df-convert\" onclick=\"convertToInteractive('df-7ad4b2f7-6dff-40e5-9044-3d2d7b2b3791')\"\n",
              "              title=\"Convert this dataframe to an interactive table.\"\n",
              "              style=\"display:none;\">\n",
              "        \n",
              "  <svg xmlns=\"http://www.w3.org/2000/svg\" height=\"24px\"viewBox=\"0 0 24 24\"\n",
              "       width=\"24px\">\n",
              "    <path d=\"M0 0h24v24H0V0z\" fill=\"none\"/>\n",
              "    <path d=\"M18.56 5.44l.94 2.06.94-2.06 2.06-.94-2.06-.94-.94-2.06-.94 2.06-2.06.94zm-11 1L8.5 8.5l.94-2.06 2.06-.94-2.06-.94L8.5 2.5l-.94 2.06-2.06.94zm10 10l.94 2.06.94-2.06 2.06-.94-2.06-.94-.94-2.06-.94 2.06-2.06.94z\"/><path d=\"M17.41 7.96l-1.37-1.37c-.4-.4-.92-.59-1.43-.59-.52 0-1.04.2-1.43.59L10.3 9.45l-7.72 7.72c-.78.78-.78 2.05 0 2.83L4 21.41c.39.39.9.59 1.41.59.51 0 1.02-.2 1.41-.59l7.78-7.78 2.81-2.81c.8-.78.8-2.07 0-2.86zM5.41 20L4 18.59l7.72-7.72 1.47 1.35L5.41 20z\"/>\n",
              "  </svg>\n",
              "      </button>\n",
              "      \n",
              "  <style>\n",
              "    .colab-df-container {\n",
              "      display:flex;\n",
              "      flex-wrap:wrap;\n",
              "      gap: 12px;\n",
              "    }\n",
              "\n",
              "    .colab-df-convert {\n",
              "      background-color: #E8F0FE;\n",
              "      border: none;\n",
              "      border-radius: 50%;\n",
              "      cursor: pointer;\n",
              "      display: none;\n",
              "      fill: #1967D2;\n",
              "      height: 32px;\n",
              "      padding: 0 0 0 0;\n",
              "      width: 32px;\n",
              "    }\n",
              "\n",
              "    .colab-df-convert:hover {\n",
              "      background-color: #E2EBFA;\n",
              "      box-shadow: 0px 1px 2px rgba(60, 64, 67, 0.3), 0px 1px 3px 1px rgba(60, 64, 67, 0.15);\n",
              "      fill: #174EA6;\n",
              "    }\n",
              "\n",
              "    [theme=dark] .colab-df-convert {\n",
              "      background-color: #3B4455;\n",
              "      fill: #D2E3FC;\n",
              "    }\n",
              "\n",
              "    [theme=dark] .colab-df-convert:hover {\n",
              "      background-color: #434B5C;\n",
              "      box-shadow: 0px 1px 3px 1px rgba(0, 0, 0, 0.15);\n",
              "      filter: drop-shadow(0px 1px 2px rgba(0, 0, 0, 0.3));\n",
              "      fill: #FFFFFF;\n",
              "    }\n",
              "  </style>\n",
              "\n",
              "      <script>\n",
              "        const buttonEl =\n",
              "          document.querySelector('#df-7ad4b2f7-6dff-40e5-9044-3d2d7b2b3791 button.colab-df-convert');\n",
              "        buttonEl.style.display =\n",
              "          google.colab.kernel.accessAllowed ? 'block' : 'none';\n",
              "\n",
              "        async function convertToInteractive(key) {\n",
              "          const element = document.querySelector('#df-7ad4b2f7-6dff-40e5-9044-3d2d7b2b3791');\n",
              "          const dataTable =\n",
              "            await google.colab.kernel.invokeFunction('convertToInteractive',\n",
              "                                                     [key], {});\n",
              "          if (!dataTable) return;\n",
              "\n",
              "          const docLinkHtml = 'Like what you see? Visit the ' +\n",
              "            '<a target=\"_blank\" href=https://colab.research.google.com/notebooks/data_table.ipynb>data table notebook</a>'\n",
              "            + ' to learn more about interactive tables.';\n",
              "          element.innerHTML = '';\n",
              "          dataTable['output_type'] = 'display_data';\n",
              "          await google.colab.output.renderOutput(dataTable, element);\n",
              "          const docLink = document.createElement('div');\n",
              "          docLink.innerHTML = docLinkHtml;\n",
              "          element.appendChild(docLink);\n",
              "        }\n",
              "      </script>\n",
              "    </div>\n",
              "  </div>\n",
              "  "
            ]
          },
          "metadata": {},
          "execution_count": 6
        }
      ]
    },
    {
      "cell_type": "code",
      "source": [
        "df1.shape"
      ],
      "metadata": {
        "colab": {
          "base_uri": "https://localhost:8080/"
        },
        "id": "VTY8TqYhbew9",
        "outputId": "6952bb01-2d3a-404c-de65-db92718e65eb"
      },
      "execution_count": 7,
      "outputs": [
        {
          "output_type": "execute_result",
          "data": {
            "text/plain": [
              "(9912822, 9)"
            ]
          },
          "metadata": {},
          "execution_count": 7
        }
      ]
    },
    {
      "cell_type": "code",
      "source": [
        "df1.drop(['A'], axis=1)  #dropped after visualisation below."
      ],
      "metadata": {
        "colab": {
          "base_uri": "https://localhost:8080/",
          "height": 424
        },
        "id": "BRira_BOA7NF",
        "outputId": "f1f9c3a8-fc5a-4e6f-e990-14eaf94ade7f"
      },
      "execution_count": 8,
      "outputs": [
        {
          "output_type": "execute_result",
          "data": {
            "text/plain": [
              "         Unnamed: 0         B         C         D         E         F  \\\n",
              "0                 0 -0.000046  0.000018  0.000025  0.000149 -0.000028   \n",
              "1                 1 -0.000086  0.000308  0.000030 -0.000380 -0.000483   \n",
              "2                 2 -0.000195  0.000367  0.000077 -0.000571 -0.000431   \n",
              "3                 3 -0.000518  0.000434  0.000163 -0.000516 -0.000299   \n",
              "4                 4 -0.000843  0.000581  0.000183 -0.000386 -0.000387   \n",
              "...             ...       ...       ...       ...       ...       ...   \n",
              "9912817     9912817 -0.000348 -0.000105 -0.000164 -0.000136 -0.000026   \n",
              "9912818     9912818 -0.000324 -0.000129 -0.000177 -0.000168 -0.000065   \n",
              "9912819     9912819 -0.000345 -0.000177 -0.000193 -0.000103  0.000058   \n",
              "9912820     9912820 -0.000325 -0.000170 -0.000148 -0.000017  0.000143   \n",
              "9912821     9912821 -0.000043  0.000075 -0.000008 -0.000019 -0.000019   \n",
              "\n",
              "                G Label  \n",
              "0       -0.000028  ADHD  \n",
              "1       -0.000045  ADHD  \n",
              "2        0.000026  ADHD  \n",
              "3        0.000106  ADHD  \n",
              "4        0.000104  ADHD  \n",
              "...           ...   ...  \n",
              "9912817 -0.000104  ADHD  \n",
              "9912818 -0.000261  ADHD  \n",
              "9912819 -0.000162  ADHD  \n",
              "9912820  0.000006  ADHD  \n",
              "9912821 -0.000044  ADHD  \n",
              "\n",
              "[9912822 rows x 8 columns]"
            ],
            "text/html": [
              "\n",
              "  <div id=\"df-533a6d0e-de02-4c6f-925b-140ccd58966e\">\n",
              "    <div class=\"colab-df-container\">\n",
              "      <div>\n",
              "<style scoped>\n",
              "    .dataframe tbody tr th:only-of-type {\n",
              "        vertical-align: middle;\n",
              "    }\n",
              "\n",
              "    .dataframe tbody tr th {\n",
              "        vertical-align: top;\n",
              "    }\n",
              "\n",
              "    .dataframe thead th {\n",
              "        text-align: right;\n",
              "    }\n",
              "</style>\n",
              "<table border=\"1\" class=\"dataframe\">\n",
              "  <thead>\n",
              "    <tr style=\"text-align: right;\">\n",
              "      <th></th>\n",
              "      <th>Unnamed: 0</th>\n",
              "      <th>B</th>\n",
              "      <th>C</th>\n",
              "      <th>D</th>\n",
              "      <th>E</th>\n",
              "      <th>F</th>\n",
              "      <th>G</th>\n",
              "      <th>Label</th>\n",
              "    </tr>\n",
              "  </thead>\n",
              "  <tbody>\n",
              "    <tr>\n",
              "      <th>0</th>\n",
              "      <td>0</td>\n",
              "      <td>-0.000046</td>\n",
              "      <td>0.000018</td>\n",
              "      <td>0.000025</td>\n",
              "      <td>0.000149</td>\n",
              "      <td>-0.000028</td>\n",
              "      <td>-0.000028</td>\n",
              "      <td>ADHD</td>\n",
              "    </tr>\n",
              "    <tr>\n",
              "      <th>1</th>\n",
              "      <td>1</td>\n",
              "      <td>-0.000086</td>\n",
              "      <td>0.000308</td>\n",
              "      <td>0.000030</td>\n",
              "      <td>-0.000380</td>\n",
              "      <td>-0.000483</td>\n",
              "      <td>-0.000045</td>\n",
              "      <td>ADHD</td>\n",
              "    </tr>\n",
              "    <tr>\n",
              "      <th>2</th>\n",
              "      <td>2</td>\n",
              "      <td>-0.000195</td>\n",
              "      <td>0.000367</td>\n",
              "      <td>0.000077</td>\n",
              "      <td>-0.000571</td>\n",
              "      <td>-0.000431</td>\n",
              "      <td>0.000026</td>\n",
              "      <td>ADHD</td>\n",
              "    </tr>\n",
              "    <tr>\n",
              "      <th>3</th>\n",
              "      <td>3</td>\n",
              "      <td>-0.000518</td>\n",
              "      <td>0.000434</td>\n",
              "      <td>0.000163</td>\n",
              "      <td>-0.000516</td>\n",
              "      <td>-0.000299</td>\n",
              "      <td>0.000106</td>\n",
              "      <td>ADHD</td>\n",
              "    </tr>\n",
              "    <tr>\n",
              "      <th>4</th>\n",
              "      <td>4</td>\n",
              "      <td>-0.000843</td>\n",
              "      <td>0.000581</td>\n",
              "      <td>0.000183</td>\n",
              "      <td>-0.000386</td>\n",
              "      <td>-0.000387</td>\n",
              "      <td>0.000104</td>\n",
              "      <td>ADHD</td>\n",
              "    </tr>\n",
              "    <tr>\n",
              "      <th>...</th>\n",
              "      <td>...</td>\n",
              "      <td>...</td>\n",
              "      <td>...</td>\n",
              "      <td>...</td>\n",
              "      <td>...</td>\n",
              "      <td>...</td>\n",
              "      <td>...</td>\n",
              "      <td>...</td>\n",
              "    </tr>\n",
              "    <tr>\n",
              "      <th>9912817</th>\n",
              "      <td>9912817</td>\n",
              "      <td>-0.000348</td>\n",
              "      <td>-0.000105</td>\n",
              "      <td>-0.000164</td>\n",
              "      <td>-0.000136</td>\n",
              "      <td>-0.000026</td>\n",
              "      <td>-0.000104</td>\n",
              "      <td>ADHD</td>\n",
              "    </tr>\n",
              "    <tr>\n",
              "      <th>9912818</th>\n",
              "      <td>9912818</td>\n",
              "      <td>-0.000324</td>\n",
              "      <td>-0.000129</td>\n",
              "      <td>-0.000177</td>\n",
              "      <td>-0.000168</td>\n",
              "      <td>-0.000065</td>\n",
              "      <td>-0.000261</td>\n",
              "      <td>ADHD</td>\n",
              "    </tr>\n",
              "    <tr>\n",
              "      <th>9912819</th>\n",
              "      <td>9912819</td>\n",
              "      <td>-0.000345</td>\n",
              "      <td>-0.000177</td>\n",
              "      <td>-0.000193</td>\n",
              "      <td>-0.000103</td>\n",
              "      <td>0.000058</td>\n",
              "      <td>-0.000162</td>\n",
              "      <td>ADHD</td>\n",
              "    </tr>\n",
              "    <tr>\n",
              "      <th>9912820</th>\n",
              "      <td>9912820</td>\n",
              "      <td>-0.000325</td>\n",
              "      <td>-0.000170</td>\n",
              "      <td>-0.000148</td>\n",
              "      <td>-0.000017</td>\n",
              "      <td>0.000143</td>\n",
              "      <td>0.000006</td>\n",
              "      <td>ADHD</td>\n",
              "    </tr>\n",
              "    <tr>\n",
              "      <th>9912821</th>\n",
              "      <td>9912821</td>\n",
              "      <td>-0.000043</td>\n",
              "      <td>0.000075</td>\n",
              "      <td>-0.000008</td>\n",
              "      <td>-0.000019</td>\n",
              "      <td>-0.000019</td>\n",
              "      <td>-0.000044</td>\n",
              "      <td>ADHD</td>\n",
              "    </tr>\n",
              "  </tbody>\n",
              "</table>\n",
              "<p>9912822 rows × 8 columns</p>\n",
              "</div>\n",
              "      <button class=\"colab-df-convert\" onclick=\"convertToInteractive('df-533a6d0e-de02-4c6f-925b-140ccd58966e')\"\n",
              "              title=\"Convert this dataframe to an interactive table.\"\n",
              "              style=\"display:none;\">\n",
              "        \n",
              "  <svg xmlns=\"http://www.w3.org/2000/svg\" height=\"24px\"viewBox=\"0 0 24 24\"\n",
              "       width=\"24px\">\n",
              "    <path d=\"M0 0h24v24H0V0z\" fill=\"none\"/>\n",
              "    <path d=\"M18.56 5.44l.94 2.06.94-2.06 2.06-.94-2.06-.94-.94-2.06-.94 2.06-2.06.94zm-11 1L8.5 8.5l.94-2.06 2.06-.94-2.06-.94L8.5 2.5l-.94 2.06-2.06.94zm10 10l.94 2.06.94-2.06 2.06-.94-2.06-.94-.94-2.06-.94 2.06-2.06.94z\"/><path d=\"M17.41 7.96l-1.37-1.37c-.4-.4-.92-.59-1.43-.59-.52 0-1.04.2-1.43.59L10.3 9.45l-7.72 7.72c-.78.78-.78 2.05 0 2.83L4 21.41c.39.39.9.59 1.41.59.51 0 1.02-.2 1.41-.59l7.78-7.78 2.81-2.81c.8-.78.8-2.07 0-2.86zM5.41 20L4 18.59l7.72-7.72 1.47 1.35L5.41 20z\"/>\n",
              "  </svg>\n",
              "      </button>\n",
              "      \n",
              "  <style>\n",
              "    .colab-df-container {\n",
              "      display:flex;\n",
              "      flex-wrap:wrap;\n",
              "      gap: 12px;\n",
              "    }\n",
              "\n",
              "    .colab-df-convert {\n",
              "      background-color: #E8F0FE;\n",
              "      border: none;\n",
              "      border-radius: 50%;\n",
              "      cursor: pointer;\n",
              "      display: none;\n",
              "      fill: #1967D2;\n",
              "      height: 32px;\n",
              "      padding: 0 0 0 0;\n",
              "      width: 32px;\n",
              "    }\n",
              "\n",
              "    .colab-df-convert:hover {\n",
              "      background-color: #E2EBFA;\n",
              "      box-shadow: 0px 1px 2px rgba(60, 64, 67, 0.3), 0px 1px 3px 1px rgba(60, 64, 67, 0.15);\n",
              "      fill: #174EA6;\n",
              "    }\n",
              "\n",
              "    [theme=dark] .colab-df-convert {\n",
              "      background-color: #3B4455;\n",
              "      fill: #D2E3FC;\n",
              "    }\n",
              "\n",
              "    [theme=dark] .colab-df-convert:hover {\n",
              "      background-color: #434B5C;\n",
              "      box-shadow: 0px 1px 3px 1px rgba(0, 0, 0, 0.15);\n",
              "      filter: drop-shadow(0px 1px 2px rgba(0, 0, 0, 0.3));\n",
              "      fill: #FFFFFF;\n",
              "    }\n",
              "  </style>\n",
              "\n",
              "      <script>\n",
              "        const buttonEl =\n",
              "          document.querySelector('#df-533a6d0e-de02-4c6f-925b-140ccd58966e button.colab-df-convert');\n",
              "        buttonEl.style.display =\n",
              "          google.colab.kernel.accessAllowed ? 'block' : 'none';\n",
              "\n",
              "        async function convertToInteractive(key) {\n",
              "          const element = document.querySelector('#df-533a6d0e-de02-4c6f-925b-140ccd58966e');\n",
              "          const dataTable =\n",
              "            await google.colab.kernel.invokeFunction('convertToInteractive',\n",
              "                                                     [key], {});\n",
              "          if (!dataTable) return;\n",
              "\n",
              "          const docLinkHtml = 'Like what you see? Visit the ' +\n",
              "            '<a target=\"_blank\" href=https://colab.research.google.com/notebooks/data_table.ipynb>data table notebook</a>'\n",
              "            + ' to learn more about interactive tables.';\n",
              "          element.innerHTML = '';\n",
              "          dataTable['output_type'] = 'display_data';\n",
              "          await google.colab.output.renderOutput(dataTable, element);\n",
              "          const docLink = document.createElement('div');\n",
              "          docLink.innerHTML = docLinkHtml;\n",
              "          element.appendChild(docLink);\n",
              "        }\n",
              "      </script>\n",
              "    </div>\n",
              "  </div>\n",
              "  "
            ]
          },
          "metadata": {},
          "execution_count": 8
        }
      ]
    },
    {
      "cell_type": "code",
      "source": [
        "df1.drop(['Unnamed: 0'], axis=1)\n"
      ],
      "metadata": {
        "colab": {
          "base_uri": "https://localhost:8080/",
          "height": 424
        },
        "id": "-byC6Ma0e2dO",
        "outputId": "6cb00e73-95c7-43b7-a8da-d7e1c8422902"
      },
      "execution_count": 9,
      "outputs": [
        {
          "output_type": "execute_result",
          "data": {
            "text/plain": [
              "                A         B         C         D         E         F         G  \\\n",
              "0        0.000021 -0.000046  0.000018  0.000025  0.000149 -0.000028 -0.000028   \n",
              "1       -0.000009 -0.000086  0.000308  0.000030 -0.000380 -0.000483 -0.000045   \n",
              "2        0.000108 -0.000195  0.000367  0.000077 -0.000571 -0.000431  0.000026   \n",
              "3        0.000192 -0.000518  0.000434  0.000163 -0.000516 -0.000299  0.000106   \n",
              "4        0.000095 -0.000843  0.000581  0.000183 -0.000386 -0.000387  0.000104   \n",
              "...           ...       ...       ...       ...       ...       ...       ...   \n",
              "9912817 -0.000394 -0.000348 -0.000105 -0.000164 -0.000136 -0.000026 -0.000104   \n",
              "9912818 -0.000427 -0.000324 -0.000129 -0.000177 -0.000168 -0.000065 -0.000261   \n",
              "9912819 -0.000455 -0.000345 -0.000177 -0.000193 -0.000103  0.000058 -0.000162   \n",
              "9912820 -0.000320 -0.000325 -0.000170 -0.000148 -0.000017  0.000143  0.000006   \n",
              "9912821 -0.000047 -0.000043  0.000075 -0.000008 -0.000019 -0.000019 -0.000044   \n",
              "\n",
              "        Label  \n",
              "0        ADHD  \n",
              "1        ADHD  \n",
              "2        ADHD  \n",
              "3        ADHD  \n",
              "4        ADHD  \n",
              "...       ...  \n",
              "9912817  ADHD  \n",
              "9912818  ADHD  \n",
              "9912819  ADHD  \n",
              "9912820  ADHD  \n",
              "9912821  ADHD  \n",
              "\n",
              "[9912822 rows x 8 columns]"
            ],
            "text/html": [
              "\n",
              "  <div id=\"df-8ef7621e-8a3a-4d52-85a3-9d8ef3c7c7f2\">\n",
              "    <div class=\"colab-df-container\">\n",
              "      <div>\n",
              "<style scoped>\n",
              "    .dataframe tbody tr th:only-of-type {\n",
              "        vertical-align: middle;\n",
              "    }\n",
              "\n",
              "    .dataframe tbody tr th {\n",
              "        vertical-align: top;\n",
              "    }\n",
              "\n",
              "    .dataframe thead th {\n",
              "        text-align: right;\n",
              "    }\n",
              "</style>\n",
              "<table border=\"1\" class=\"dataframe\">\n",
              "  <thead>\n",
              "    <tr style=\"text-align: right;\">\n",
              "      <th></th>\n",
              "      <th>A</th>\n",
              "      <th>B</th>\n",
              "      <th>C</th>\n",
              "      <th>D</th>\n",
              "      <th>E</th>\n",
              "      <th>F</th>\n",
              "      <th>G</th>\n",
              "      <th>Label</th>\n",
              "    </tr>\n",
              "  </thead>\n",
              "  <tbody>\n",
              "    <tr>\n",
              "      <th>0</th>\n",
              "      <td>0.000021</td>\n",
              "      <td>-0.000046</td>\n",
              "      <td>0.000018</td>\n",
              "      <td>0.000025</td>\n",
              "      <td>0.000149</td>\n",
              "      <td>-0.000028</td>\n",
              "      <td>-0.000028</td>\n",
              "      <td>ADHD</td>\n",
              "    </tr>\n",
              "    <tr>\n",
              "      <th>1</th>\n",
              "      <td>-0.000009</td>\n",
              "      <td>-0.000086</td>\n",
              "      <td>0.000308</td>\n",
              "      <td>0.000030</td>\n",
              "      <td>-0.000380</td>\n",
              "      <td>-0.000483</td>\n",
              "      <td>-0.000045</td>\n",
              "      <td>ADHD</td>\n",
              "    </tr>\n",
              "    <tr>\n",
              "      <th>2</th>\n",
              "      <td>0.000108</td>\n",
              "      <td>-0.000195</td>\n",
              "      <td>0.000367</td>\n",
              "      <td>0.000077</td>\n",
              "      <td>-0.000571</td>\n",
              "      <td>-0.000431</td>\n",
              "      <td>0.000026</td>\n",
              "      <td>ADHD</td>\n",
              "    </tr>\n",
              "    <tr>\n",
              "      <th>3</th>\n",
              "      <td>0.000192</td>\n",
              "      <td>-0.000518</td>\n",
              "      <td>0.000434</td>\n",
              "      <td>0.000163</td>\n",
              "      <td>-0.000516</td>\n",
              "      <td>-0.000299</td>\n",
              "      <td>0.000106</td>\n",
              "      <td>ADHD</td>\n",
              "    </tr>\n",
              "    <tr>\n",
              "      <th>4</th>\n",
              "      <td>0.000095</td>\n",
              "      <td>-0.000843</td>\n",
              "      <td>0.000581</td>\n",
              "      <td>0.000183</td>\n",
              "      <td>-0.000386</td>\n",
              "      <td>-0.000387</td>\n",
              "      <td>0.000104</td>\n",
              "      <td>ADHD</td>\n",
              "    </tr>\n",
              "    <tr>\n",
              "      <th>...</th>\n",
              "      <td>...</td>\n",
              "      <td>...</td>\n",
              "      <td>...</td>\n",
              "      <td>...</td>\n",
              "      <td>...</td>\n",
              "      <td>...</td>\n",
              "      <td>...</td>\n",
              "      <td>...</td>\n",
              "    </tr>\n",
              "    <tr>\n",
              "      <th>9912817</th>\n",
              "      <td>-0.000394</td>\n",
              "      <td>-0.000348</td>\n",
              "      <td>-0.000105</td>\n",
              "      <td>-0.000164</td>\n",
              "      <td>-0.000136</td>\n",
              "      <td>-0.000026</td>\n",
              "      <td>-0.000104</td>\n",
              "      <td>ADHD</td>\n",
              "    </tr>\n",
              "    <tr>\n",
              "      <th>9912818</th>\n",
              "      <td>-0.000427</td>\n",
              "      <td>-0.000324</td>\n",
              "      <td>-0.000129</td>\n",
              "      <td>-0.000177</td>\n",
              "      <td>-0.000168</td>\n",
              "      <td>-0.000065</td>\n",
              "      <td>-0.000261</td>\n",
              "      <td>ADHD</td>\n",
              "    </tr>\n",
              "    <tr>\n",
              "      <th>9912819</th>\n",
              "      <td>-0.000455</td>\n",
              "      <td>-0.000345</td>\n",
              "      <td>-0.000177</td>\n",
              "      <td>-0.000193</td>\n",
              "      <td>-0.000103</td>\n",
              "      <td>0.000058</td>\n",
              "      <td>-0.000162</td>\n",
              "      <td>ADHD</td>\n",
              "    </tr>\n",
              "    <tr>\n",
              "      <th>9912820</th>\n",
              "      <td>-0.000320</td>\n",
              "      <td>-0.000325</td>\n",
              "      <td>-0.000170</td>\n",
              "      <td>-0.000148</td>\n",
              "      <td>-0.000017</td>\n",
              "      <td>0.000143</td>\n",
              "      <td>0.000006</td>\n",
              "      <td>ADHD</td>\n",
              "    </tr>\n",
              "    <tr>\n",
              "      <th>9912821</th>\n",
              "      <td>-0.000047</td>\n",
              "      <td>-0.000043</td>\n",
              "      <td>0.000075</td>\n",
              "      <td>-0.000008</td>\n",
              "      <td>-0.000019</td>\n",
              "      <td>-0.000019</td>\n",
              "      <td>-0.000044</td>\n",
              "      <td>ADHD</td>\n",
              "    </tr>\n",
              "  </tbody>\n",
              "</table>\n",
              "<p>9912822 rows × 8 columns</p>\n",
              "</div>\n",
              "      <button class=\"colab-df-convert\" onclick=\"convertToInteractive('df-8ef7621e-8a3a-4d52-85a3-9d8ef3c7c7f2')\"\n",
              "              title=\"Convert this dataframe to an interactive table.\"\n",
              "              style=\"display:none;\">\n",
              "        \n",
              "  <svg xmlns=\"http://www.w3.org/2000/svg\" height=\"24px\"viewBox=\"0 0 24 24\"\n",
              "       width=\"24px\">\n",
              "    <path d=\"M0 0h24v24H0V0z\" fill=\"none\"/>\n",
              "    <path d=\"M18.56 5.44l.94 2.06.94-2.06 2.06-.94-2.06-.94-.94-2.06-.94 2.06-2.06.94zm-11 1L8.5 8.5l.94-2.06 2.06-.94-2.06-.94L8.5 2.5l-.94 2.06-2.06.94zm10 10l.94 2.06.94-2.06 2.06-.94-2.06-.94-.94-2.06-.94 2.06-2.06.94z\"/><path d=\"M17.41 7.96l-1.37-1.37c-.4-.4-.92-.59-1.43-.59-.52 0-1.04.2-1.43.59L10.3 9.45l-7.72 7.72c-.78.78-.78 2.05 0 2.83L4 21.41c.39.39.9.59 1.41.59.51 0 1.02-.2 1.41-.59l7.78-7.78 2.81-2.81c.8-.78.8-2.07 0-2.86zM5.41 20L4 18.59l7.72-7.72 1.47 1.35L5.41 20z\"/>\n",
              "  </svg>\n",
              "      </button>\n",
              "      \n",
              "  <style>\n",
              "    .colab-df-container {\n",
              "      display:flex;\n",
              "      flex-wrap:wrap;\n",
              "      gap: 12px;\n",
              "    }\n",
              "\n",
              "    .colab-df-convert {\n",
              "      background-color: #E8F0FE;\n",
              "      border: none;\n",
              "      border-radius: 50%;\n",
              "      cursor: pointer;\n",
              "      display: none;\n",
              "      fill: #1967D2;\n",
              "      height: 32px;\n",
              "      padding: 0 0 0 0;\n",
              "      width: 32px;\n",
              "    }\n",
              "\n",
              "    .colab-df-convert:hover {\n",
              "      background-color: #E2EBFA;\n",
              "      box-shadow: 0px 1px 2px rgba(60, 64, 67, 0.3), 0px 1px 3px 1px rgba(60, 64, 67, 0.15);\n",
              "      fill: #174EA6;\n",
              "    }\n",
              "\n",
              "    [theme=dark] .colab-df-convert {\n",
              "      background-color: #3B4455;\n",
              "      fill: #D2E3FC;\n",
              "    }\n",
              "\n",
              "    [theme=dark] .colab-df-convert:hover {\n",
              "      background-color: #434B5C;\n",
              "      box-shadow: 0px 1px 3px 1px rgba(0, 0, 0, 0.15);\n",
              "      filter: drop-shadow(0px 1px 2px rgba(0, 0, 0, 0.3));\n",
              "      fill: #FFFFFF;\n",
              "    }\n",
              "  </style>\n",
              "\n",
              "      <script>\n",
              "        const buttonEl =\n",
              "          document.querySelector('#df-8ef7621e-8a3a-4d52-85a3-9d8ef3c7c7f2 button.colab-df-convert');\n",
              "        buttonEl.style.display =\n",
              "          google.colab.kernel.accessAllowed ? 'block' : 'none';\n",
              "\n",
              "        async function convertToInteractive(key) {\n",
              "          const element = document.querySelector('#df-8ef7621e-8a3a-4d52-85a3-9d8ef3c7c7f2');\n",
              "          const dataTable =\n",
              "            await google.colab.kernel.invokeFunction('convertToInteractive',\n",
              "                                                     [key], {});\n",
              "          if (!dataTable) return;\n",
              "\n",
              "          const docLinkHtml = 'Like what you see? Visit the ' +\n",
              "            '<a target=\"_blank\" href=https://colab.research.google.com/notebooks/data_table.ipynb>data table notebook</a>'\n",
              "            + ' to learn more about interactive tables.';\n",
              "          element.innerHTML = '';\n",
              "          dataTable['output_type'] = 'display_data';\n",
              "          await google.colab.output.renderOutput(dataTable, element);\n",
              "          const docLink = document.createElement('div');\n",
              "          docLink.innerHTML = docLinkHtml;\n",
              "          element.appendChild(docLink);\n",
              "        }\n",
              "      </script>\n",
              "    </div>\n",
              "  </div>\n",
              "  "
            ]
          },
          "metadata": {},
          "execution_count": 9
        }
      ]
    },
    {
      "cell_type": "code",
      "source": [
        "channel_range = np.array(range(0, 7))\n",
        "channel_list = ['A','B', 'C', 'D', 'E', 'F', 'G']\n",
        "channel_mymap = dict(zip(channel_list, channel_range))"
      ],
      "metadata": {
        "id": "IGK1Rk1O8Ban"
      },
      "execution_count": 10,
      "outputs": []
    },
    {
      "cell_type": "code",
      "source": [
        "df1.head()"
      ],
      "metadata": {
        "colab": {
          "base_uri": "https://localhost:8080/",
          "height": 206
        },
        "id": "KkUQW1iMfF1X",
        "outputId": "506df998-e567-45aa-cac4-52921c8df228"
      },
      "execution_count": 12,
      "outputs": [
        {
          "output_type": "execute_result",
          "data": {
            "text/plain": [
              "   Unnamed: 0         A         B         C         D         E         F  \\\n",
              "0           0  0.000021 -0.000046  0.000018  0.000025  0.000149 -0.000028   \n",
              "1           1 -0.000009 -0.000086  0.000308  0.000030 -0.000380 -0.000483   \n",
              "2           2  0.000108 -0.000195  0.000367  0.000077 -0.000571 -0.000431   \n",
              "3           3  0.000192 -0.000518  0.000434  0.000163 -0.000516 -0.000299   \n",
              "4           4  0.000095 -0.000843  0.000581  0.000183 -0.000386 -0.000387   \n",
              "\n",
              "          G Label  \n",
              "0 -0.000028  ADHD  \n",
              "1 -0.000045  ADHD  \n",
              "2  0.000026  ADHD  \n",
              "3  0.000106  ADHD  \n",
              "4  0.000104  ADHD  "
            ],
            "text/html": [
              "\n",
              "  <div id=\"df-f3a0d690-6eea-4825-9cc4-3f3c5184d090\">\n",
              "    <div class=\"colab-df-container\">\n",
              "      <div>\n",
              "<style scoped>\n",
              "    .dataframe tbody tr th:only-of-type {\n",
              "        vertical-align: middle;\n",
              "    }\n",
              "\n",
              "    .dataframe tbody tr th {\n",
              "        vertical-align: top;\n",
              "    }\n",
              "\n",
              "    .dataframe thead th {\n",
              "        text-align: right;\n",
              "    }\n",
              "</style>\n",
              "<table border=\"1\" class=\"dataframe\">\n",
              "  <thead>\n",
              "    <tr style=\"text-align: right;\">\n",
              "      <th></th>\n",
              "      <th>Unnamed: 0</th>\n",
              "      <th>A</th>\n",
              "      <th>B</th>\n",
              "      <th>C</th>\n",
              "      <th>D</th>\n",
              "      <th>E</th>\n",
              "      <th>F</th>\n",
              "      <th>G</th>\n",
              "      <th>Label</th>\n",
              "    </tr>\n",
              "  </thead>\n",
              "  <tbody>\n",
              "    <tr>\n",
              "      <th>0</th>\n",
              "      <td>0</td>\n",
              "      <td>0.000021</td>\n",
              "      <td>-0.000046</td>\n",
              "      <td>0.000018</td>\n",
              "      <td>0.000025</td>\n",
              "      <td>0.000149</td>\n",
              "      <td>-0.000028</td>\n",
              "      <td>-0.000028</td>\n",
              "      <td>ADHD</td>\n",
              "    </tr>\n",
              "    <tr>\n",
              "      <th>1</th>\n",
              "      <td>1</td>\n",
              "      <td>-0.000009</td>\n",
              "      <td>-0.000086</td>\n",
              "      <td>0.000308</td>\n",
              "      <td>0.000030</td>\n",
              "      <td>-0.000380</td>\n",
              "      <td>-0.000483</td>\n",
              "      <td>-0.000045</td>\n",
              "      <td>ADHD</td>\n",
              "    </tr>\n",
              "    <tr>\n",
              "      <th>2</th>\n",
              "      <td>2</td>\n",
              "      <td>0.000108</td>\n",
              "      <td>-0.000195</td>\n",
              "      <td>0.000367</td>\n",
              "      <td>0.000077</td>\n",
              "      <td>-0.000571</td>\n",
              "      <td>-0.000431</td>\n",
              "      <td>0.000026</td>\n",
              "      <td>ADHD</td>\n",
              "    </tr>\n",
              "    <tr>\n",
              "      <th>3</th>\n",
              "      <td>3</td>\n",
              "      <td>0.000192</td>\n",
              "      <td>-0.000518</td>\n",
              "      <td>0.000434</td>\n",
              "      <td>0.000163</td>\n",
              "      <td>-0.000516</td>\n",
              "      <td>-0.000299</td>\n",
              "      <td>0.000106</td>\n",
              "      <td>ADHD</td>\n",
              "    </tr>\n",
              "    <tr>\n",
              "      <th>4</th>\n",
              "      <td>4</td>\n",
              "      <td>0.000095</td>\n",
              "      <td>-0.000843</td>\n",
              "      <td>0.000581</td>\n",
              "      <td>0.000183</td>\n",
              "      <td>-0.000386</td>\n",
              "      <td>-0.000387</td>\n",
              "      <td>0.000104</td>\n",
              "      <td>ADHD</td>\n",
              "    </tr>\n",
              "  </tbody>\n",
              "</table>\n",
              "</div>\n",
              "      <button class=\"colab-df-convert\" onclick=\"convertToInteractive('df-f3a0d690-6eea-4825-9cc4-3f3c5184d090')\"\n",
              "              title=\"Convert this dataframe to an interactive table.\"\n",
              "              style=\"display:none;\">\n",
              "        \n",
              "  <svg xmlns=\"http://www.w3.org/2000/svg\" height=\"24px\"viewBox=\"0 0 24 24\"\n",
              "       width=\"24px\">\n",
              "    <path d=\"M0 0h24v24H0V0z\" fill=\"none\"/>\n",
              "    <path d=\"M18.56 5.44l.94 2.06.94-2.06 2.06-.94-2.06-.94-.94-2.06-.94 2.06-2.06.94zm-11 1L8.5 8.5l.94-2.06 2.06-.94-2.06-.94L8.5 2.5l-.94 2.06-2.06.94zm10 10l.94 2.06.94-2.06 2.06-.94-2.06-.94-.94-2.06-.94 2.06-2.06.94z\"/><path d=\"M17.41 7.96l-1.37-1.37c-.4-.4-.92-.59-1.43-.59-.52 0-1.04.2-1.43.59L10.3 9.45l-7.72 7.72c-.78.78-.78 2.05 0 2.83L4 21.41c.39.39.9.59 1.41.59.51 0 1.02-.2 1.41-.59l7.78-7.78 2.81-2.81c.8-.78.8-2.07 0-2.86zM5.41 20L4 18.59l7.72-7.72 1.47 1.35L5.41 20z\"/>\n",
              "  </svg>\n",
              "      </button>\n",
              "      \n",
              "  <style>\n",
              "    .colab-df-container {\n",
              "      display:flex;\n",
              "      flex-wrap:wrap;\n",
              "      gap: 12px;\n",
              "    }\n",
              "\n",
              "    .colab-df-convert {\n",
              "      background-color: #E8F0FE;\n",
              "      border: none;\n",
              "      border-radius: 50%;\n",
              "      cursor: pointer;\n",
              "      display: none;\n",
              "      fill: #1967D2;\n",
              "      height: 32px;\n",
              "      padding: 0 0 0 0;\n",
              "      width: 32px;\n",
              "    }\n",
              "\n",
              "    .colab-df-convert:hover {\n",
              "      background-color: #E2EBFA;\n",
              "      box-shadow: 0px 1px 2px rgba(60, 64, 67, 0.3), 0px 1px 3px 1px rgba(60, 64, 67, 0.15);\n",
              "      fill: #174EA6;\n",
              "    }\n",
              "\n",
              "    [theme=dark] .colab-df-convert {\n",
              "      background-color: #3B4455;\n",
              "      fill: #D2E3FC;\n",
              "    }\n",
              "\n",
              "    [theme=dark] .colab-df-convert:hover {\n",
              "      background-color: #434B5C;\n",
              "      box-shadow: 0px 1px 3px 1px rgba(0, 0, 0, 0.15);\n",
              "      filter: drop-shadow(0px 1px 2px rgba(0, 0, 0, 0.3));\n",
              "      fill: #FFFFFF;\n",
              "    }\n",
              "  </style>\n",
              "\n",
              "      <script>\n",
              "        const buttonEl =\n",
              "          document.querySelector('#df-f3a0d690-6eea-4825-9cc4-3f3c5184d090 button.colab-df-convert');\n",
              "        buttonEl.style.display =\n",
              "          google.colab.kernel.accessAllowed ? 'block' : 'none';\n",
              "\n",
              "        async function convertToInteractive(key) {\n",
              "          const element = document.querySelector('#df-f3a0d690-6eea-4825-9cc4-3f3c5184d090');\n",
              "          const dataTable =\n",
              "            await google.colab.kernel.invokeFunction('convertToInteractive',\n",
              "                                                     [key], {});\n",
              "          if (!dataTable) return;\n",
              "\n",
              "          const docLinkHtml = 'Like what you see? Visit the ' +\n",
              "            '<a target=\"_blank\" href=https://colab.research.google.com/notebooks/data_table.ipynb>data table notebook</a>'\n",
              "            + ' to learn more about interactive tables.';\n",
              "          element.innerHTML = '';\n",
              "          dataTable['output_type'] = 'display_data';\n",
              "          await google.colab.output.renderOutput(dataTable, element);\n",
              "          const docLink = document.createElement('div');\n",
              "          docLink.innerHTML = docLinkHtml;\n",
              "          element.appendChild(docLink);\n",
              "        }\n",
              "      </script>\n",
              "    </div>\n",
              "  </div>\n",
              "  "
            ]
          },
          "metadata": {},
          "execution_count": 12
        }
      ]
    },
    {
      "cell_type": "code",
      "source": [
        "df2 = df1.drop(['Unnamed: 0','A'], axis=1)\n",
        "df2.head()"
      ],
      "metadata": {
        "colab": {
          "base_uri": "https://localhost:8080/",
          "height": 206
        },
        "id": "IVDxajRhfLKo",
        "outputId": "e0cc364f-1830-4f43-a310-116179fce4ab"
      },
      "execution_count": 13,
      "outputs": [
        {
          "output_type": "execute_result",
          "data": {
            "text/plain": [
              "          B         C         D         E         F         G Label\n",
              "0 -0.000046  0.000018  0.000025  0.000149 -0.000028 -0.000028  ADHD\n",
              "1 -0.000086  0.000308  0.000030 -0.000380 -0.000483 -0.000045  ADHD\n",
              "2 -0.000195  0.000367  0.000077 -0.000571 -0.000431  0.000026  ADHD\n",
              "3 -0.000518  0.000434  0.000163 -0.000516 -0.000299  0.000106  ADHD\n",
              "4 -0.000843  0.000581  0.000183 -0.000386 -0.000387  0.000104  ADHD"
            ],
            "text/html": [
              "\n",
              "  <div id=\"df-47b8b57b-fc79-4438-afac-d8b34d83ee73\">\n",
              "    <div class=\"colab-df-container\">\n",
              "      <div>\n",
              "<style scoped>\n",
              "    .dataframe tbody tr th:only-of-type {\n",
              "        vertical-align: middle;\n",
              "    }\n",
              "\n",
              "    .dataframe tbody tr th {\n",
              "        vertical-align: top;\n",
              "    }\n",
              "\n",
              "    .dataframe thead th {\n",
              "        text-align: right;\n",
              "    }\n",
              "</style>\n",
              "<table border=\"1\" class=\"dataframe\">\n",
              "  <thead>\n",
              "    <tr style=\"text-align: right;\">\n",
              "      <th></th>\n",
              "      <th>B</th>\n",
              "      <th>C</th>\n",
              "      <th>D</th>\n",
              "      <th>E</th>\n",
              "      <th>F</th>\n",
              "      <th>G</th>\n",
              "      <th>Label</th>\n",
              "    </tr>\n",
              "  </thead>\n",
              "  <tbody>\n",
              "    <tr>\n",
              "      <th>0</th>\n",
              "      <td>-0.000046</td>\n",
              "      <td>0.000018</td>\n",
              "      <td>0.000025</td>\n",
              "      <td>0.000149</td>\n",
              "      <td>-0.000028</td>\n",
              "      <td>-0.000028</td>\n",
              "      <td>ADHD</td>\n",
              "    </tr>\n",
              "    <tr>\n",
              "      <th>1</th>\n",
              "      <td>-0.000086</td>\n",
              "      <td>0.000308</td>\n",
              "      <td>0.000030</td>\n",
              "      <td>-0.000380</td>\n",
              "      <td>-0.000483</td>\n",
              "      <td>-0.000045</td>\n",
              "      <td>ADHD</td>\n",
              "    </tr>\n",
              "    <tr>\n",
              "      <th>2</th>\n",
              "      <td>-0.000195</td>\n",
              "      <td>0.000367</td>\n",
              "      <td>0.000077</td>\n",
              "      <td>-0.000571</td>\n",
              "      <td>-0.000431</td>\n",
              "      <td>0.000026</td>\n",
              "      <td>ADHD</td>\n",
              "    </tr>\n",
              "    <tr>\n",
              "      <th>3</th>\n",
              "      <td>-0.000518</td>\n",
              "      <td>0.000434</td>\n",
              "      <td>0.000163</td>\n",
              "      <td>-0.000516</td>\n",
              "      <td>-0.000299</td>\n",
              "      <td>0.000106</td>\n",
              "      <td>ADHD</td>\n",
              "    </tr>\n",
              "    <tr>\n",
              "      <th>4</th>\n",
              "      <td>-0.000843</td>\n",
              "      <td>0.000581</td>\n",
              "      <td>0.000183</td>\n",
              "      <td>-0.000386</td>\n",
              "      <td>-0.000387</td>\n",
              "      <td>0.000104</td>\n",
              "      <td>ADHD</td>\n",
              "    </tr>\n",
              "  </tbody>\n",
              "</table>\n",
              "</div>\n",
              "      <button class=\"colab-df-convert\" onclick=\"convertToInteractive('df-47b8b57b-fc79-4438-afac-d8b34d83ee73')\"\n",
              "              title=\"Convert this dataframe to an interactive table.\"\n",
              "              style=\"display:none;\">\n",
              "        \n",
              "  <svg xmlns=\"http://www.w3.org/2000/svg\" height=\"24px\"viewBox=\"0 0 24 24\"\n",
              "       width=\"24px\">\n",
              "    <path d=\"M0 0h24v24H0V0z\" fill=\"none\"/>\n",
              "    <path d=\"M18.56 5.44l.94 2.06.94-2.06 2.06-.94-2.06-.94-.94-2.06-.94 2.06-2.06.94zm-11 1L8.5 8.5l.94-2.06 2.06-.94-2.06-.94L8.5 2.5l-.94 2.06-2.06.94zm10 10l.94 2.06.94-2.06 2.06-.94-2.06-.94-.94-2.06-.94 2.06-2.06.94z\"/><path d=\"M17.41 7.96l-1.37-1.37c-.4-.4-.92-.59-1.43-.59-.52 0-1.04.2-1.43.59L10.3 9.45l-7.72 7.72c-.78.78-.78 2.05 0 2.83L4 21.41c.39.39.9.59 1.41.59.51 0 1.02-.2 1.41-.59l7.78-7.78 2.81-2.81c.8-.78.8-2.07 0-2.86zM5.41 20L4 18.59l7.72-7.72 1.47 1.35L5.41 20z\"/>\n",
              "  </svg>\n",
              "      </button>\n",
              "      \n",
              "  <style>\n",
              "    .colab-df-container {\n",
              "      display:flex;\n",
              "      flex-wrap:wrap;\n",
              "      gap: 12px;\n",
              "    }\n",
              "\n",
              "    .colab-df-convert {\n",
              "      background-color: #E8F0FE;\n",
              "      border: none;\n",
              "      border-radius: 50%;\n",
              "      cursor: pointer;\n",
              "      display: none;\n",
              "      fill: #1967D2;\n",
              "      height: 32px;\n",
              "      padding: 0 0 0 0;\n",
              "      width: 32px;\n",
              "    }\n",
              "\n",
              "    .colab-df-convert:hover {\n",
              "      background-color: #E2EBFA;\n",
              "      box-shadow: 0px 1px 2px rgba(60, 64, 67, 0.3), 0px 1px 3px 1px rgba(60, 64, 67, 0.15);\n",
              "      fill: #174EA6;\n",
              "    }\n",
              "\n",
              "    [theme=dark] .colab-df-convert {\n",
              "      background-color: #3B4455;\n",
              "      fill: #D2E3FC;\n",
              "    }\n",
              "\n",
              "    [theme=dark] .colab-df-convert:hover {\n",
              "      background-color: #434B5C;\n",
              "      box-shadow: 0px 1px 3px 1px rgba(0, 0, 0, 0.15);\n",
              "      filter: drop-shadow(0px 1px 2px rgba(0, 0, 0, 0.3));\n",
              "      fill: #FFFFFF;\n",
              "    }\n",
              "  </style>\n",
              "\n",
              "      <script>\n",
              "        const buttonEl =\n",
              "          document.querySelector('#df-47b8b57b-fc79-4438-afac-d8b34d83ee73 button.colab-df-convert');\n",
              "        buttonEl.style.display =\n",
              "          google.colab.kernel.accessAllowed ? 'block' : 'none';\n",
              "\n",
              "        async function convertToInteractive(key) {\n",
              "          const element = document.querySelector('#df-47b8b57b-fc79-4438-afac-d8b34d83ee73');\n",
              "          const dataTable =\n",
              "            await google.colab.kernel.invokeFunction('convertToInteractive',\n",
              "                                                     [key], {});\n",
              "          if (!dataTable) return;\n",
              "\n",
              "          const docLinkHtml = 'Like what you see? Visit the ' +\n",
              "            '<a target=\"_blank\" href=https://colab.research.google.com/notebooks/data_table.ipynb>data table notebook</a>'\n",
              "            + ' to learn more about interactive tables.';\n",
              "          element.innerHTML = '';\n",
              "          dataTable['output_type'] = 'display_data';\n",
              "          await google.colab.output.renderOutput(dataTable, element);\n",
              "          const docLink = document.createElement('div');\n",
              "          docLink.innerHTML = docLinkHtml;\n",
              "          element.appendChild(docLink);\n",
              "        }\n",
              "      </script>\n",
              "    </div>\n",
              "  </div>\n",
              "  "
            ]
          },
          "metadata": {},
          "execution_count": 13
        }
      ]
    },
    {
      "cell_type": "code",
      "source": [
        "df2.shape"
      ],
      "metadata": {
        "colab": {
          "base_uri": "https://localhost:8080/"
        },
        "id": "J1U04aamfWvf",
        "outputId": "3d6d1111-13ce-45d1-a64d-dafeb927ae3f"
      },
      "execution_count": 54,
      "outputs": [
        {
          "output_type": "execute_result",
          "data": {
            "text/plain": [
              "(9912822, 7)"
            ]
          },
          "metadata": {},
          "execution_count": 54
        }
      ]
    },
    {
      "cell_type": "code",
      "source": [
        "datadf2 = np.array(df2)\n",
        "datadf2"
      ],
      "metadata": {
        "colab": {
          "base_uri": "https://localhost:8080/"
        },
        "id": "oskZ3AvMPp11",
        "outputId": "743d1bd2-1520-4bae-cede-be3756969157"
      },
      "execution_count": 56,
      "outputs": [
        {
          "output_type": "execute_result",
          "data": {
            "text/plain": [
              "array([[-4.570278560600562e-05, 1.8043650708042103e-05,\n",
              "        2.5410841273014277e-05, ..., -2.808468097991868e-05,\n",
              "        -2.8143195620236824e-05, 'ADHD'],\n",
              "       [-8.568214994241642e-05, 0.0003081004273338,\n",
              "        2.9966535767914423e-05, ..., -0.0004827634675077,\n",
              "        -4.537589916100973e-05, 'ADHD'],\n",
              "       [-0.000194989028617, 0.0003671622746215, 7.701935843977435e-05,\n",
              "        ..., -0.0004306543715605, 2.579487943667049e-05, 'ADHD'],\n",
              "       ...,\n",
              "       [-0.0003446882149372, -0.0001773655469026, -0.0001927932382083,\n",
              "        ..., 5.813161315464147e-05, -0.0001615843858757, 'ADHD'],\n",
              "       [-0.0003249841939262, -0.0001704755942282, -0.0001481054715356,\n",
              "        ..., 0.0001432756814677, 6.08886636687503e-06, 'ADHD'],\n",
              "       [-4.274456802933482e-05, 7.54371820279912e-05,\n",
              "        -8.130016913522356e-06, ..., -1.9164000267254384e-05,\n",
              "        -4.374953980164775e-05, 'ADHD']], dtype=object)"
            ]
          },
          "metadata": {},
          "execution_count": 56
        }
      ]
    },
    {
      "cell_type": "code",
      "source": [
        "sf=128\n",
        "i_ch = 0\n",
        "time = np.arange(128) / sf\n",
        "channel = datadf2[:128, channel_range[i_ch]]\n",
        "plt.plot(time, channel)\n",
        "plt.xlabel('time (s)')\n",
        "plt.ylabel(f'EEG channel {channel_list[i_ch]}')"
      ],
      "metadata": {
        "colab": {
          "base_uri": "https://localhost:8080/",
          "height": 299
        },
        "id": "ePn6_QrG8G5M",
        "outputId": "a09360bd-05c1-4a02-ab5f-09e69db8ca23"
      },
      "execution_count": 57,
      "outputs": [
        {
          "output_type": "execute_result",
          "data": {
            "text/plain": [
              "Text(0, 0.5, 'EEG channel A')"
            ]
          },
          "metadata": {},
          "execution_count": 57
        },
        {
          "output_type": "display_data",
          "data": {
            "text/plain": [
              "<Figure size 432x288 with 1 Axes>"
            ],
            "image/png": "[encoded data removed]"
          },
          "metadata": {
            "needs_background": "light"
          }
        }
      ]
    },
    {
      "cell_type": "code",
      "source": [
        "states = {\n",
        " 'ADHD': datadf2[:, :],\n",
        "}\n",
        "states.items()"
      ],
      "metadata": {
        "id": "qicbgOvq8G9t",
        "colab": {
          "base_uri": "https://localhost:8080/"
        },
        "outputId": "491afda4-694d-4d10-f144-657558b7a915"
      },
      "execution_count": 58,
      "outputs": [
        {
          "output_type": "execute_result",
          "data": {
            "text/plain": [
              "dict_items([('ADHD', array([[-4.570278560600562e-05, 1.8043650708042103e-05,\n",
              "        2.5410841273014277e-05, ..., -2.808468097991868e-05,\n",
              "        -2.8143195620236824e-05, 'ADHD'],\n",
              "       [-8.568214994241642e-05, 0.0003081004273338,\n",
              "        2.9966535767914423e-05, ..., -0.0004827634675077,\n",
              "        -4.537589916100973e-05, 'ADHD'],\n",
              "       [-0.000194989028617, 0.0003671622746215, 7.701935843977435e-05,\n",
              "        ..., -0.0004306543715605, 2.579487943667049e-05, 'ADHD'],\n",
              "       ...,\n",
              "       [-0.0003446882149372, -0.0001773655469026, -0.0001927932382083,\n",
              "        ..., 5.813161315464147e-05, -0.0001615843858757, 'ADHD'],\n",
              "       [-0.0003249841939262, -0.0001704755942282, -0.0001481054715356,\n",
              "        ..., 0.0001432756814677, 6.08886636687503e-06, 'ADHD'],\n",
              "       [-4.274456802933482e-05, 7.54371820279912e-05,\n",
              "        -8.130016913522356e-06, ..., -1.9164000267254384e-05,\n",
              "        -4.374953980164775e-05, 'ADHD']], dtype=object))])"
            ]
          },
          "metadata": {},
          "execution_count": 58
        }
      ]
    },
    {
      "cell_type": "code",
      "source": [
        "for k,v in states.items():\n",
        "  print(type(v))\n",
        "  print(v.shape)"
      ],
      "metadata": {
        "colab": {
          "base_uri": "https://localhost:8080/"
        },
        "id": "o_x1sTssereR",
        "outputId": "6d86f699-357d-4448-ff31-6b59033f8fb9"
      },
      "execution_count": 59,
      "outputs": [
        {
          "output_type": "stream",
          "name": "stdout",
          "text": [
            "<class 'numpy.ndarray'>\n",
            "(9912822, 7)\n"
          ]
        }
      ]
    },
    {
      "cell_type": "code",
      "source": [
        "dfStates = pd.DataFrame.from_dict(list(states))\n",
        "dfStates"
      ],
      "metadata": {
        "id": "I-YflhgCM7UR",
        "colab": {
          "base_uri": "https://localhost:8080/",
          "height": 81
        },
        "outputId": "5274850f-c701-47b6-9877-c515cef84eba"
      },
      "execution_count": 60,
      "outputs": [
        {
          "output_type": "execute_result",
          "data": {
            "text/plain": [
              "      0\n",
              "0  ADHD"
            ],
            "text/html": [
              "\n",
              "  <div id=\"df-942eff8f-b092-4502-bba8-c6b8c71abf2f\">\n",
              "    <div class=\"colab-df-container\">\n",
              "      <div>\n",
              "<style scoped>\n",
              "    .dataframe tbody tr th:only-of-type {\n",
              "        vertical-align: middle;\n",
              "    }\n",
              "\n",
              "    .dataframe tbody tr th {\n",
              "        vertical-align: top;\n",
              "    }\n",
              "\n",
              "    .dataframe thead th {\n",
              "        text-align: right;\n",
              "    }\n",
              "</style>\n",
              "<table border=\"1\" class=\"dataframe\">\n",
              "  <thead>\n",
              "    <tr style=\"text-align: right;\">\n",
              "      <th></th>\n",
              "      <th>0</th>\n",
              "    </tr>\n",
              "  </thead>\n",
              "  <tbody>\n",
              "    <tr>\n",
              "      <th>0</th>\n",
              "      <td>ADHD</td>\n",
              "    </tr>\n",
              "  </tbody>\n",
              "</table>\n",
              "</div>\n",
              "      <button class=\"colab-df-convert\" onclick=\"convertToInteractive('df-942eff8f-b092-4502-bba8-c6b8c71abf2f')\"\n",
              "              title=\"Convert this dataframe to an interactive table.\"\n",
              "              style=\"display:none;\">\n",
              "        \n",
              "  <svg xmlns=\"http://www.w3.org/2000/svg\" height=\"24px\"viewBox=\"0 0 24 24\"\n",
              "       width=\"24px\">\n",
              "    <path d=\"M0 0h24v24H0V0z\" fill=\"none\"/>\n",
              "    <path d=\"M18.56 5.44l.94 2.06.94-2.06 2.06-.94-2.06-.94-.94-2.06-.94 2.06-2.06.94zm-11 1L8.5 8.5l.94-2.06 2.06-.94-2.06-.94L8.5 2.5l-.94 2.06-2.06.94zm10 10l.94 2.06.94-2.06 2.06-.94-2.06-.94-.94-2.06-.94 2.06-2.06.94z\"/><path d=\"M17.41 7.96l-1.37-1.37c-.4-.4-.92-.59-1.43-.59-.52 0-1.04.2-1.43.59L10.3 9.45l-7.72 7.72c-.78.78-.78 2.05 0 2.83L4 21.41c.39.39.9.59 1.41.59.51 0 1.02-.2 1.41-.59l7.78-7.78 2.81-2.81c.8-.78.8-2.07 0-2.86zM5.41 20L4 18.59l7.72-7.72 1.47 1.35L5.41 20z\"/>\n",
              "  </svg>\n",
              "      </button>\n",
              "      \n",
              "  <style>\n",
              "    .colab-df-container {\n",
              "      display:flex;\n",
              "      flex-wrap:wrap;\n",
              "      gap: 12px;\n",
              "    }\n",
              "\n",
              "    .colab-df-convert {\n",
              "      background-color: #E8F0FE;\n",
              "      border: none;\n",
              "      border-radius: 50%;\n",
              "      cursor: pointer;\n",
              "      display: none;\n",
              "      fill: #1967D2;\n",
              "      height: 32px;\n",
              "      padding: 0 0 0 0;\n",
              "      width: 32px;\n",
              "    }\n",
              "\n",
              "    .colab-df-convert:hover {\n",
              "      background-color: #E2EBFA;\n",
              "      box-shadow: 0px 1px 2px rgba(60, 64, 67, 0.3), 0px 1px 3px 1px rgba(60, 64, 67, 0.15);\n",
              "      fill: #174EA6;\n",
              "    }\n",
              "\n",
              "    [theme=dark] .colab-df-convert {\n",
              "      background-color: #3B4455;\n",
              "      fill: #D2E3FC;\n",
              "    }\n",
              "\n",
              "    [theme=dark] .colab-df-convert:hover {\n",
              "      background-color: #434B5C;\n",
              "      box-shadow: 0px 1px 3px 1px rgba(0, 0, 0, 0.15);\n",
              "      filter: drop-shadow(0px 1px 2px rgba(0, 0, 0, 0.3));\n",
              "      fill: #FFFFFF;\n",
              "    }\n",
              "  </style>\n",
              "\n",
              "      <script>\n",
              "        const buttonEl =\n",
              "          document.querySelector('#df-942eff8f-b092-4502-bba8-c6b8c71abf2f button.colab-df-convert');\n",
              "        buttonEl.style.display =\n",
              "          google.colab.kernel.accessAllowed ? 'block' : 'none';\n",
              "\n",
              "        async function convertToInteractive(key) {\n",
              "          const element = document.querySelector('#df-942eff8f-b092-4502-bba8-c6b8c71abf2f');\n",
              "          const dataTable =\n",
              "            await google.colab.kernel.invokeFunction('convertToInteractive',\n",
              "                                                     [key], {});\n",
              "          if (!dataTable) return;\n",
              "\n",
              "          const docLinkHtml = 'Like what you see? Visit the ' +\n",
              "            '<a target=\"_blank\" href=https://colab.research.google.com/notebooks/data_table.ipynb>data table notebook</a>'\n",
              "            + ' to learn more about interactive tables.';\n",
              "          element.innerHTML = '';\n",
              "          dataTable['output_type'] = 'display_data';\n",
              "          await google.colab.output.renderOutput(dataTable, element);\n",
              "          const docLink = document.createElement('div');\n",
              "          docLink.innerHTML = docLinkHtml;\n",
              "          element.appendChild(docLink);\n",
              "        }\n",
              "      </script>\n",
              "    </div>\n",
              "  </div>\n",
              "  "
            ]
          },
          "metadata": {},
          "execution_count": 60
        }
      ]
    },
    {
      "cell_type": "code",
      "source": [
        "states.items()"
      ],
      "metadata": {
        "id": "dNPThDACfDbC",
        "colab": {
          "base_uri": "https://localhost:8080/"
        },
        "outputId": "0895d747-eda3-4e71-8631-9f30c7382aac"
      },
      "execution_count": 61,
      "outputs": [
        {
          "output_type": "execute_result",
          "data": {
            "text/plain": [
              "dict_items([('ADHD', array([[-4.570278560600562e-05, 1.8043650708042103e-05,\n",
              "        2.5410841273014277e-05, ..., -2.808468097991868e-05,\n",
              "        -2.8143195620236824e-05, 'ADHD'],\n",
              "       [-8.568214994241642e-05, 0.0003081004273338,\n",
              "        2.9966535767914423e-05, ..., -0.0004827634675077,\n",
              "        -4.537589916100973e-05, 'ADHD'],\n",
              "       [-0.000194989028617, 0.0003671622746215, 7.701935843977435e-05,\n",
              "        ..., -0.0004306543715605, 2.579487943667049e-05, 'ADHD'],\n",
              "       ...,\n",
              "       [-0.0003446882149372, -0.0001773655469026, -0.0001927932382083,\n",
              "        ..., 5.813161315464147e-05, -0.0001615843858757, 'ADHD'],\n",
              "       [-0.0003249841939262, -0.0001704755942282, -0.0001481054715356,\n",
              "        ..., 0.0001432756814677, 6.08886636687503e-06, 'ADHD'],\n",
              "       [-4.274456802933482e-05, 7.54371820279912e-05,\n",
              "        -8.130016913522356e-06, ..., -1.9164000267254384e-05,\n",
              "        -4.374953980164775e-05, 'ADHD']], dtype=object))])"
            ]
          },
          "metadata": {},
          "execution_count": 61
        }
      ]
    },
    {
      "cell_type": "code",
      "source": [
        "bands = {'alpha': (8, 13), 'delta': (0.5, 4), 'beta': (13, 30), 'gamma': (30, np.inf)}"
      ],
      "metadata": {
        "id": "dE0KIKRZ8HAW"
      },
      "execution_count": 62,
      "outputs": []
    },
    {
      "cell_type": "code",
      "source": [
        "def get_powers(channel, sf=128):\n",
        "    channel = channel - channel.mean()\n",
        "    freq, psd = signal.periodogram(channel, fs=sf, nfft=256)\n",
        "\n",
        "    powers = {}\n",
        "    for band_name, band_limits in bands.items():\n",
        "        low, high = band_limits\n",
        "        powers[band_name] = psd[(freq >= low) & (freq < high)].mean().real\n",
        "    return powers"
      ],
      "metadata": {
        "id": "7eTUDJdh8QCm"
      },
      "execution_count": 5,
      "outputs": []
    },
    {
      "cell_type": "code",
      "source": [
        "states.items()"
      ],
      "metadata": {
        "colab": {
          "base_uri": "https://localhost:8080/"
        },
        "id": "aAbh3tG8iml-",
        "outputId": "bdf69daa-42e6-4431-8b18-2a68136855d5"
      },
      "execution_count": 64,
      "outputs": [
        {
          "output_type": "execute_result",
          "data": {
            "text/plain": [
              "dict_items([('ADHD', array([[-4.570278560600562e-05, 1.8043650708042103e-05,\n",
              "        2.5410841273014277e-05, ..., -2.808468097991868e-05,\n",
              "        -2.8143195620236824e-05, 'ADHD'],\n",
              "       [-8.568214994241642e-05, 0.0003081004273338,\n",
              "        2.9966535767914423e-05, ..., -0.0004827634675077,\n",
              "        -4.537589916100973e-05, 'ADHD'],\n",
              "       [-0.000194989028617, 0.0003671622746215, 7.701935843977435e-05,\n",
              "        ..., -0.0004306543715605, 2.579487943667049e-05, 'ADHD'],\n",
              "       ...,\n",
              "       [-0.0003446882149372, -0.0001773655469026, -0.0001927932382083,\n",
              "        ..., 5.813161315464147e-05, -0.0001615843858757, 'ADHD'],\n",
              "       [-0.0003249841939262, -0.0001704755942282, -0.0001481054715356,\n",
              "        ..., 0.0001432756814677, 6.08886636687503e-06, 'ADHD'],\n",
              "       [-4.274456802933482e-05, 7.54371820279912e-05,\n",
              "        -8.130016913522356e-06, ..., -1.9164000267254384e-05,\n",
              "        -4.374953980164775e-05, 'ADHD']], dtype=object))])"
            ]
          },
          "metadata": {},
          "execution_count": 64
        }
      ]
    },
    {
      "cell_type": "code",
      "source": [
        "len(states)"
      ],
      "metadata": {
        "colab": {
          "base_uri": "https://localhost:8080/"
        },
        "id": "FM0FeYz9iphS",
        "outputId": "c08581e9-4119-4c98-d1ff-90181f24a84c"
      },
      "execution_count": 65,
      "outputs": [
        {
          "output_type": "execute_result",
          "data": {
            "text/plain": [
              "1"
            ]
          },
          "metadata": {},
          "execution_count": 65
        }
      ]
    },
    {
      "cell_type": "code",
      "source": [
        "subjects = list(range(0,60))"
      ],
      "metadata": {
        "id": "jsk-Pj_gxooc"
      },
      "execution_count": 66,
      "outputs": []
    },
    {
      "cell_type": "code",
      "source": [
        "channel_mymap.items()"
      ],
      "metadata": {
        "id": "K3zeQEvX8QFJ",
        "colab": {
          "base_uri": "https://localhost:8080/"
        },
        "outputId": "c723a168-2a9c-419a-caf0-0020cbe93d2f"
      },
      "execution_count": 67,
      "outputs": [
        {
          "output_type": "execute_result",
          "data": {
            "text/plain": [
              "dict_items([('A', 0), ('B', 1), ('C', 2), ('D', 3), ('E', 4), ('F', 5), ('G', 6)])"
            ]
          },
          "metadata": {},
          "execution_count": 67
        }
      ]
    },
    {
      "cell_type": "code",
      "source": [
        "#### subject range = 60 \n",
        "# Participants were 61 children with ADHD and 60 healthy controls (boys and girls, ages 7-12). \n",
        "# 121 total children\n",
        "# 61 x 1 recording each ADHD\n",
        "# 60 non-adhd\n"
      ],
      "metadata": {
        "id": "4MX2boPRvQID"
      },
      "execution_count": 68,
      "outputs": []
    },
    {
      "cell_type": "code",
      "source": [
        "# df1\n",
        "listOfRows = []\n",
        "for subject_idx in subjects:\n",
        "    #states = get_data(f\"eeg_record{subject_idx}.mat\")\n",
        "  for ch_name, ch_idx in channel_mymap.items():\n",
        "        for state, eeg in states.items():\n",
        "            powers = get_powers(eeg[:, ch_idx])\n",
        "            powers['state'] = state\n",
        "            powers['channel'] = ch_name\n",
        "            # powers['subject'] = f\"subject_{subject_idx}\"\n",
        "            listOfRows.append(powers)"
      ],
      "metadata": {
        "id": "JfxiDnTfO4vF"
      },
      "execution_count": null,
      "outputs": []
    },
    {
      "cell_type": "code",
      "source": [
        "listOfRows"
      ],
      "metadata": {
        "id": "SRNLTndh-d5e"
      },
      "execution_count": null,
      "outputs": []
    },
    {
      "cell_type": "code",
      "source": [
        "dfrowslist = pd.DataFrame.from_dict(listOfRows)"
      ],
      "metadata": {
        "id": "CFsSOuD28eJk"
      },
      "execution_count": null,
      "outputs": []
    },
    {
      "cell_type": "code",
      "source": [
        "len(dfrowslist)"
      ],
      "metadata": {
        "id": "s9l-wAI485RA"
      },
      "execution_count": null,
      "outputs": []
    },
    {
      "cell_type": "code",
      "source": [
        "len(listOfRows )"
      ],
      "metadata": {
        "id": "b_cMRUKC9pxI"
      },
      "execution_count": null,
      "outputs": []
    },
    {
      "cell_type": "code",
      "source": [
        "dfrowslist"
      ],
      "metadata": {
        "id": "mMWO63zF8t2T"
      },
      "execution_count": null,
      "outputs": []
    },
    {
      "cell_type": "code",
      "source": [
        "dfrowslist = dfrowslist.rename(columns = {'alpha':'Alpha', 'delta':'Delta', 'beta':'Beta','gamma':'Gamma','state':'Label'})"
      ],
      "metadata": {
        "id": "ozi3KChYhGGM"
      },
      "execution_count": null,
      "outputs": []
    },
    {
      "cell_type": "code",
      "source": [
        "dfrowslist.head()"
      ],
      "metadata": {
        "id": "4OmiQNjYhouc"
      },
      "execution_count": null,
      "outputs": []
    },
    {
      "cell_type": "code",
      "source": [
        "dfrowslist.drop(columns = ['channel'])"
      ],
      "metadata": {
        "id": "0w_qFFel8t5J"
      },
      "execution_count": null,
      "outputs": []
    },
    {
      "cell_type": "code",
      "source": [
        "dftoCSVADHD_DS_I=dfrowslist[dfrowslist[\"Label\"] == 'ADHD'] \n",
        "dftoCSVADHD_DS_I.replace(to_replace=0,\n",
        "           value=dfrowslist.mean())"
      ],
      "metadata": {
        "id": "67amp2oh8t7-"
      },
      "execution_count": null,
      "outputs": []
    },
    {
      "cell_type": "code",
      "source": [
        "dftoCSVADHD_DS_I.drop(columns = ['channel']) \n"
      ],
      "metadata": {
        "id": "ViGEzYKOij3M"
      },
      "execution_count": null,
      "outputs": []
    },
    {
      "cell_type": "code",
      "source": [
        "dftoCSVADHD_DS_I.to_csv('/content/drive/MyDrive/NewCSVs_Dataset_I_BandstoPart-III')"
      ],
      "metadata": {
        "id": "WmG2fICyij7j"
      },
      "execution_count": null,
      "outputs": []
    },
    {
      "cell_type": "markdown",
      "source": [],
      "metadata": {
        "id": "tCnF2Hyzlzrp"
      }
    }
  ]
}