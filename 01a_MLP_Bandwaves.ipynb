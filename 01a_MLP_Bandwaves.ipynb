{
  "cells": [
    {
      "cell_type": "code",
      "execution_count": 4,
      "metadata": {
        "colab": {
          "base_uri": "https://localhost:8080/"
        },
        "id": "Kj2yC0EGykp3",
        "outputId": "143aa91a-a87e-4a13-d881-c58336eecaaa"
      },
      "outputs": [
        {
          "output_type": "stream",
          "name": "stdout",
          "text": [
            "Drive already mounted at /content/drive; to attempt to forcibly remount, call drive.mount(\"/content/drive\", force_remount=True).\n"
          ]
        }
      ],
      "source": [
        "from google.colab import drive\n",
        "drive.mount('/content/drive')"
      ]
    },
    {
      "cell_type": "code",
      "execution_count": 5,
      "metadata": {
        "id": "zslnKsESdkci"
      },
      "outputs": [],
      "source": [
        "# Enter your path here which contains directories named ADHD_part1 and so on and so forth, the /content is path on my setup\n",
        "PATH = \"/content/drive/MyDrive/Archive/\""
      ]
    },
    {
      "cell_type": "code",
      "execution_count": 6,
      "metadata": {
        "id": "rffmIw3XfJy9"
      },
      "outputs": [],
      "source": [
        "ADHD_directories = [\"ADHD_part1\",\"ADHD_part2\"]\n",
        "NonADHD_directories = [\"Control_part1\",\"Control_part2\"]"
      ]
    },
    {
      "cell_type": "code",
      "execution_count": 7,
      "metadata": {
        "id": "EHQ-FSlpRMMR"
      },
      "outputs": [],
      "source": [
        "import os\n",
        "import scipy.io\n",
        "import tensorflow as tf\n",
        "import numpy as np\n",
        "import matplotlib.pyplot as plt\n",
        "%matplotlib inline\n",
        "import pandas as pd"
      ]
    },
    {
      "cell_type": "code",
      "execution_count": 8,
      "metadata": {
        "id": "VBNbeVobLiIY"
      },
      "outputs": [],
      "source": [
        "import matplotlib.pyplot as plt\n",
        "import seaborn as sns\n",
        "def get_params(data):  \n",
        "  # Define sampling frequency and time vector\n",
        "  sf = 128.\n",
        "  time = np.arange(data.size) / sf\n",
        "  return sf,time\n"
      ]
    },
    {
      "cell_type": "code",
      "execution_count": 9,
      "metadata": {
        "id": "2VEuruUNM8jv"
      },
      "outputs": [],
      "source": [
        "from scipy import signal\n",
        "\n",
        "def get_welch_params(data,sf):\n",
        "# Define window length (4 seconds)\n",
        "  win = 4 * sf\n",
        "  freqs, psd = signal.welch(data, sf, nperseg=win)\n",
        "  return freqs, psd"
      ]
    },
    {
      "cell_type": "code",
      "execution_count": 10,
      "metadata": {
        "id": "OrG5hDAZP_gx"
      },
      "outputs": [],
      "source": [
        "from scipy.integrate import simps\n",
        "def get_absolute_power(psd,freqs,idx):\n",
        "  freq_res = freqs[1] - freqs[0] \n",
        "  # Compute the absolute power by approximating the area under the curve\n",
        "  power = simps(psd[idx],dx=freq_res)\n",
        "  return power"
      ]
    },
    {
      "cell_type": "code",
      "execution_count": 11,
      "metadata": {
        "id": "3r4pzn0i4AOy"
      },
      "outputs": [],
      "source": [
        "def get_relative_power(psd,freqs,power):\n",
        "  freq_res = freqs[1] - freqs[0]\n",
        "  total_power = simps(psd, dx=freq_res)\n",
        "  rel_power = power / total_power\n",
        "  return rel_power"
      ]
    },
    {
      "cell_type": "code",
      "execution_count": 12,
      "metadata": {
        "id": "1Pj_ksihSKX0"
      },
      "outputs": [],
      "source": [
        "def bandpower(data, sf, band, window_sec=None, relative=False):\n",
        "    \n",
        "    from scipy.signal import welch\n",
        "    from scipy.integrate import simps\n",
        "    band = np.asarray(band)\n",
        "    low, high = band\n",
        "\n",
        "    # Define window length\n",
        "    if window_sec is not None:\n",
        "        nperseg = window_sec * sf\n",
        "    else:\n",
        "        nperseg = (2 / low) * sf\n",
        "\n",
        "    # Compute the modified periodogram (Welch)\n",
        "    freqs, psd = welch(data, sf, nperseg=nperseg)\n",
        "\n",
        "    # Frequency resolution\n",
        "    freq_res = freqs[1] - freqs[0]\n",
        "\n",
        "    # Find closest indices of band in frequency vector\n",
        "    idx_band = np.logical_and(freqs >= low, freqs <= high)\n",
        "\n",
        "    # Integral approximation of the spectrum using Simpson's rule.\n",
        "    bp = simps(psd[idx_band], dx=freq_res)\n",
        "\n",
        "    if relative:\n",
        "        bp /= simps(psd, dx=freq_res)\n",
        "    return bp\n"
      ]
    },
    {
      "cell_type": "code",
      "execution_count": 13,
      "metadata": {
        "id": "DjgJvtNpSMNU"
      },
      "outputs": [],
      "source": [
        "def get_ratio(data,sf):\n",
        "  win_sec = 4\n",
        "\n",
        "  # Delta/beta ratio based on the absolute power\n",
        "  db = bandpower(data, sf, [0.5, 4], win_sec) / bandpower(data, sf, [12, 30], win_sec)\n",
        "\n",
        "  # Delta/beta ratio based on the relative power\n",
        "  db_rel = bandpower(data, sf, [0.5, 4], win_sec, True) / bandpower(data, sf, [12, 30], win_sec, True)\n",
        "\n",
        "  "
      ]
    },
    {
      "cell_type": "code",
      "execution_count": 14,
      "metadata": {
        "id": "_1COxbX1fiMU"
      },
      "outputs": [],
      "source": [
        "channel_dict = {'Fp1':0,'Fp2':1,'F3':2,'F4':3,'C3':4,'C4':5,'P3':6,'P4':7,'O1':8,'O2':9,'F7':10,'F8':11,'T7':12,'T8':13,'P7':14,'P8':15,'Fz':16,'Cz':17,'Pz':18}\t\n"
      ]
    },
    {
      "cell_type": "code",
      "execution_count": 15,
      "metadata": {
        "id": "1mOUX8VHjWqR"
      },
      "outputs": [],
      "source": [
        "bands = {'alpha':[8,12],'beta':[12,30],'theta':[4,8],'delta':[0.5,4]}\n"
      ]
    },
    {
      "cell_type": "code",
      "execution_count": 16,
      "metadata": {
        "id": "D2xf3uGI2-uK"
      },
      "outputs": [],
      "source": [
        "def get_band_indexes(low,high,freqs):\n",
        "  idx = np.logical_and(freqs >= low, freqs <= high)\n",
        "  return idx\n",
        "  "
      ]
    },
    {
      "cell_type": "code",
      "execution_count": 17,
      "metadata": {
        "id": "urD4i-0jLxAf"
      },
      "outputs": [],
      "source": [
        "#Considering all channels and generating ratios for all channels now\n",
        "for channel_name in channel_dict:\n",
        "#Change the channel name here whichever data or ratios needed\n",
        "  #Dataframe to store absolute bandpower\n",
        "  dataframe_bands = pd.DataFrame()\n",
        "  for directory in ADHD_directories: \n",
        "    for mat_file in os.listdir(os.path.join(PATH,directory)):\n",
        "      #loading the file\n",
        "      if \".mat\" in mat_file:\n",
        "        loaded_file = scipy.io.loadmat(os.path.join(PATH,directory,mat_file))\n",
        "      #getting data from the loaded file, mat_file[:-4] gives name of file without .mat\n",
        "        per_person_data = loaded_file[mat_file[:-4]]\n",
        "      #Get the exact column information\n",
        "        data = per_person_data[:,channel_dict[channel_name]]\n",
        "        sf,time = get_params(data)\n",
        "        freqs,psd = get_welch_params(data,sf)\n",
        "      #add alpha ,beta,theta and delta info one by one\n",
        "        idx_alpha = get_band_indexes(bands['alpha'][0],bands['alpha'][1],freqs)\n",
        "        alpha = get_absolute_power(psd,freqs,idx_alpha)\n",
        "        rel_alpha = get_relative_power(psd,freqs,alpha)\n",
        "        idx_beta = get_band_indexes(bands['beta'][0],bands['beta'][1],freqs)\n",
        "        beta = get_absolute_power(psd,freqs,idx_beta)\n",
        "        rel_beta = get_relative_power(psd,freqs,beta)\n",
        "        idx_theta = get_band_indexes(bands['theta'][0],bands['theta'][1],freqs)\n",
        "        theta = get_absolute_power(psd,freqs,idx_theta)\n",
        "        rel_theta = get_relative_power(psd,freqs,theta)\n",
        "        idx_delta = get_band_indexes(bands['delta'][0],bands['delta'][1],freqs)\n",
        "        delta = get_absolute_power(psd,freqs,idx_delta)\n",
        "        rel_delta = get_relative_power(psd,freqs,delta)\n",
        "        dataframe_bands = dataframe_bands.append({'Filename' : mat_file,'Label': 'ADHD', 'Absolute_Alpha':alpha,'Relative_Alpha':rel_alpha,'Absolute_Beta':beta,'Relative_Beta':rel_beta,'Absolute_Theta':theta,'Relative_Theta':rel_theta,'Absolute_Delta':delta,'Relative_Delta':rel_delta},ignore_index=True)\n",
        "\n",
        "  for directory in NonADHD_directories:\n",
        "    for mat_file in os.listdir(os.path.join(PATH,directory)):\n",
        "      loaded_file = scipy.io.loadmat(os.path.join(PATH,directory,mat_file))\n",
        "      if \".mat\" in mat_file:\n",
        "        per_person_data = loaded_file[mat_file[:-4]]\n",
        "        #Get the exact column information\n",
        "        data = per_person_data[:,channel_dict[channel_name]]\n",
        "        sf,time = get_params(data)\n",
        "        freqs,psd = get_welch_params(data,sf)\n",
        "        #add alpha ,beta,theta and delta info one by one\n",
        "        idx_alpha = get_band_indexes(bands['alpha'][0],bands['alpha'][1],freqs)\n",
        "        alpha = get_absolute_power(psd,freqs,idx_alpha)\n",
        "        rel_alpha = get_relative_power(psd,freqs,alpha)\n",
        "        idx_beta = get_band_indexes(bands['beta'][0],bands['beta'][1],freqs)\n",
        "        beta = get_absolute_power(psd,freqs,idx_beta)\n",
        "        rel_beta = get_relative_power(psd,freqs,beta)\n",
        "        idx_theta = get_band_indexes(bands['theta'][0],bands['theta'][1],freqs)\n",
        "        theta = get_absolute_power(psd,freqs,idx_theta)\n",
        "        rel_theta = get_relative_power(psd,freqs,theta)\n",
        "        idx_delta = get_band_indexes(bands['delta'][0],bands['delta'][1],freqs)\n",
        "        delta = get_absolute_power(psd,freqs,idx_delta)\n",
        "        rel_delta = get_relative_power(psd,freqs,delta)\n",
        "        dataframe_bands = dataframe_bands.append({'Filename' : mat_file,'Label': 'Non_ADHD', 'Absolute_Alpha':alpha,'Relative_Alpha':rel_alpha,'Absolute_Beta':beta,'Relative_Beta':rel_beta,'Absolute_Theta':theta,'Relative_Theta':rel_theta,'Absolute_Delta':delta,'Relative_Delta':rel_delta},ignore_index=True)\n",
        "  dataframe_bands.to_csv('/content/'+channel_name+'.csv')\n"
      ]
    },
    {
      "cell_type": "code",
      "execution_count": 18,
      "metadata": {
        "id": "BWPEclO-6MS8"
      },
      "outputs": [],
      "source": [
        "#Pass nominator and denominator as whose ratio needed\n",
        "#Example Theta to Beta ratio \n",
        "#For above example check column names in csv for the channel \n",
        "#It is Absolute_Theta and Absolute_Beta\n",
        "#So, call function with get_ratio(\"Absolute_Theta\",\"Absolute_Beta\",\"Cz\")\n",
        "def get_ratio_c(nominator,denominator,channel_name):\n",
        "  band_data = pd.read_csv(\"/content/\" + channel_name + \".csv\")\n",
        "  nominator_array = np.array(band_data[nominator])\n",
        "  denominator_array = np.array(band_data[denominator])\n",
        "  ratios = nominator_array/denominator_array\n",
        "  \n",
        "  labels = band_data['Label']\n",
        "  del band_data\n",
        "  return np.array(ratios),np.array(labels)\n",
        "\n"
      ]
    },
    {
      "cell_type": "code",
      "execution_count": 19,
      "metadata": {
        "id": "tihX3pT7pEJh"
      },
      "outputs": [],
      "source": [
        "#Write channel names here which you want to use for calculation. For now I have included all channels\n",
        "channels_for_training =  ['Fp1','Fp2','F3','F4','C3','C4','P3','P4','O1','O2','F7','F8','T7','T8','P7','P8','Fz','Cz','Pz']\n",
        "#Included two ratios here, if more needed add here in same way\n",
        "ratios_to_be_included = [(\"Absolute_Theta\",\"Absolute_Beta\"),(\"Absolute_Alpha\",\"Absolute_Beta\")]\t\n"
      ]
    },
    {
      "cell_type": "code",
      "execution_count": 20,
      "metadata": {
        "id": "6366YZtJhr0l"
      },
      "outputs": [],
      "source": [
        "#power band is whichever pwer is needed specify Absolute_Alpha,Absolute_Beta and so on and forth\n",
        "def get_absolute_power(channel_name,power_band):\n",
        "  band_data = pd.read_csv(\"/content/\" + channel_name + \".csv\")\n",
        "  data_array = np.array(band_data[power_band])\n",
        "  \n",
        "  labels = band_data['Label']\n",
        "  return data_array,labels"
      ]
    },
    {
      "cell_type": "code",
      "execution_count": 21,
      "metadata": {
        "id": "7_NoWOApIVQe"
      },
      "outputs": [],
      "source": [
        "# #Create datset with ratio NOT absolute power\n",
        "# tensors_data_temp = []\n",
        "# for ratio_name in ratios_to_be_included:\n",
        "#   for channel in channels_for_training:\n",
        "#     a = ratio_name[0]\n",
        "#     b = ratio_name[1] \n",
        "#     ratios,labels = get_ratio_c(a,b,channel) \n",
        "#     tensors_data_temp.append(ratios)\n",
        "# tensors_data_temp = np.transpose(np.array(tensors_data_temp))\n",
        "# tensors_data = tf.data.Dataset.from_tensor_slices(tensors_data_temp)\n",
        "# label_encode = []\n",
        "# for i in labels:\n",
        "#   if i ==\"ADHD\":\n",
        "#     label_encode.append(0)\n",
        "#   else:\n",
        "#     label_encode.append(1)\n",
        "# print(label_encode)\n",
        "# tensors_labels = tf.data.Dataset.from_tensor_slices(np.array(label_encode))\n",
        "# # adding two datasets together so that we have data with classes/labels\n",
        "# dataset = tf.data.Dataset.zip((tensors_data,tensors_labels))"
      ]
    },
    {
      "cell_type": "code",
      "execution_count": 22,
      "metadata": {
        "colab": {
          "base_uri": "https://localhost:8080/"
        },
        "id": "k1jDJ767ihLv",
        "outputId": "f7334a10-ae81-48e5-e349-a857dd955556"
      },
      "outputs": [
        {
          "output_type": "stream",
          "name": "stdout",
          "text": [
            "[0, 0, 0, 0, 0, 0, 0, 0, 0, 0, 0, 0, 0, 0, 0, 0, 0, 0, 0, 0, 0, 0, 0, 0, 0, 0, 0, 0, 0, 0, 0, 0, 0, 0, 0, 0, 0, 0, 0, 0, 0, 0, 0, 0, 0, 0, 0, 0, 0, 0, 0, 0, 0, 0, 0, 0, 0, 0, 0, 0, 0, 1, 1, 1, 1, 1, 1, 1, 1, 1, 1, 1, 1, 1, 1, 1, 1, 1, 1, 1, 1, 1, 1, 1, 1, 1, 1, 1, 1, 1, 1, 1, 1, 1, 1, 1, 1, 1, 1, 1, 1, 1, 1, 1, 1, 1, 1, 1, 1, 1, 1, 1, 1, 1, 1, 1, 1, 1, 1, 1, 1]\n"
          ]
        }
      ],
      "source": [
        "#Create dataset with absolute power\n",
        "tensors_data_temp = []\n",
        "for power_name in [\"Absolute_Alpha\",\"Absolute_Beta\",\"Absolute_Theta\"]:\n",
        "  for channel in channels_for_training:\n",
        "    data_arrays,labels = get_absolute_power(channel,power_name) \n",
        "    tensors_data_temp.append(data_arrays)\n",
        "tensors_data_temp = np.transpose(np.array(tensors_data_temp))\n",
        "tensors_data = tf.data.Dataset.from_tensor_slices(tensors_data_temp)\n",
        "label_encode = []\n",
        "for i in labels:\n",
        "  if i ==\"ADHD\":\n",
        "    label_encode.append(0)\n",
        "  else:\n",
        "    label_encode.append(1)\n",
        "print(label_encode)\n",
        "tensors_labels = tf.data.Dataset.from_tensor_slices(np.array(label_encode))\n",
        "# adding two datasets together so that we have data with classes/labels\n",
        "dataset = tf.data.Dataset.zip((tensors_data,tensors_labels))"
      ]
    },
    {
      "cell_type": "code",
      "execution_count": 23,
      "metadata": {
        "id": "qYVzLtEQJXp7"
      },
      "outputs": [],
      "source": [
        "def get_dataset_partitions_tf(ds, ds_size, train_split=0.8, val_split=0.1, test_split=0.1, shuffle=True, shuffle_size=10000):\n",
        "    assert (train_split + test_split + val_split) == 1\n",
        "    if shuffle:\n",
        "        # Specify seed to always have the same split distribution between runs\n",
        "        ds = ds.shuffle(shuffle_size, seed=12)\n",
        "    \n",
        "    train_size = int(train_split * ds_size)\n",
        "    val_size = int(val_split * ds_size)\n",
        "    \n",
        "    train_ds = ds.take(train_size)    \n",
        "    val_ds = ds.skip(train_size).take(val_size)\n",
        "    test_ds = ds.skip(train_size).skip(val_size)\n",
        "  \n",
        "    return train_ds, val_ds, test_ds"
      ]
    },
    {
      "cell_type": "code",
      "execution_count": 24,
      "metadata": {
        "colab": {
          "base_uri": "https://localhost:8080/"
        },
        "id": "ZroQGxNYJbsh",
        "outputId": "3f08198c-762e-4fa9-d4d1-96e9d20c0dac"
      },
      "outputs": [
        {
          "output_type": "stream",
          "name": "stdout",
          "text": [
            "Total number of people involved in dataset  121\n"
          ]
        }
      ],
      "source": [
        "train_ds,val_ds,test_ds = get_dataset_partitions_tf(dataset,len(dataset))\n",
        "print(\"Total number of people involved in dataset \",len(dataset))\n",
        "train_ds = train_ds.batch(32)\n",
        "val_ds = val_ds.batch(32)\n",
        "test_ds = test_ds.batch(32)"
      ]
    },
    {
      "cell_type": "code",
      "execution_count": 25,
      "metadata": {
        "id": "LrSa-KcdJ9jc"
      },
      "outputs": [],
      "source": [
        "# # This model is for ratios  NOT absolute power\n",
        "# def create_model():\n",
        "#   keras_model = tf.keras.Sequential([\n",
        "#       tf.keras.layers.Input(shape=(len(channels_for_training)*len(ratios_to_be_included))),\n",
        "#       tf.keras.layers.Dense(50),\n",
        "#       tf.keras.layers.Activation(tf.nn.relu),\n",
        "#       tf.keras.layers.Dense(30),\n",
        "#       tf.keras.layers.Activation(tf.nn.relu),\n",
        "#       tf.keras.layers.Dense(2),\n",
        "#       tf.keras.layers.Activation(tf.nn.softmax),\n",
        "# ])\n",
        "#   return keras_model"
      ]
    },
    {
      "cell_type": "code",
      "execution_count": 26,
      "metadata": {
        "id": "lW1K3fkUjQwf"
      },
      "outputs": [],
      "source": [
        "#This model is for absolute values\n",
        "def create_model():\n",
        "  keras_model = tf.keras.Sequential([\n",
        "      tf.keras.layers.Input(shape=(len(channels_for_training)*3)),\n",
        "      tf.keras.layers.Dense(50),\n",
        "      tf.keras.layers.Activation(tf.nn.relu),\n",
        "      tf.keras.layers.Dense(30),\n",
        "      tf.keras.layers.Activation(tf.nn.relu),\n",
        "      tf.keras.layers.Dense(2),\n",
        "      tf.keras.layers.Activation(tf.nn.softmax),\n",
        "])\n",
        "  return keras_model"
      ]
    },
    {
      "cell_type": "code",
      "execution_count": 27,
      "metadata": {
        "id": "9zC_Y-QiKIJ0"
      },
      "outputs": [],
      "source": [
        "model = create_model()"
      ]
    },
    {
      "cell_type": "code",
      "execution_count": 28,
      "metadata": {
        "id": "wo08PTKLKKXg"
      },
      "outputs": [],
      "source": [
        "#Optimization LR=0.0001 used as per TaghiBeyglou et al., 2022\n",
        "model.compile(optimizer=tf.keras.optimizers.SGD(learning_rate=0.0001,momentum=0.0),\n",
        "              loss=tf.keras.losses.BinaryCrossentropy(),\n",
        "              metrics=[tf.keras.metrics.BinaryAccuracy()])"
      ]
    },
    {
      "cell_type": "code",
      "execution_count": 29,
      "metadata": {
        "colab": {
          "base_uri": "https://localhost:8080/"
        },
        "id": "2TwcsiRlKM-c",
        "outputId": "c11c923d-8826-4da4-e931-f09368379f11"
      },
      "outputs": [
        {
          "output_type": "stream",
          "name": "stdout",
          "text": [
            "Model: \"sequential\"\n",
            "_________________________________________________________________\n",
            " Layer (type)                Output Shape              Param #   \n",
            "=================================================================\n",
            " dense (Dense)               (None, 50)                2900      \n",
            "                                                                 \n",
            " activation (Activation)     (None, 50)                0         \n",
            "                                                                 \n",
            " dense_1 (Dense)             (None, 30)                1530      \n",
            "                                                                 \n",
            " activation_1 (Activation)   (None, 30)                0         \n",
            "                                                                 \n",
            " dense_2 (Dense)             (None, 2)                 62        \n",
            "                                                                 \n",
            " activation_2 (Activation)   (None, 2)                 0         \n",
            "                                                                 \n",
            "=================================================================\n",
            "Total params: 4,492\n",
            "Trainable params: 4,492\n",
            "Non-trainable params: 0\n",
            "_________________________________________________________________\n"
          ]
        }
      ],
      "source": [
        "model.summary()"
      ]
    },
    {
      "cell_type": "code",
      "execution_count": null,
      "metadata": {
        "id": "8_9llEIUKPmX"
      },
      "outputs": [],
      "source": [
        "history = model.fit(\n",
        "    train_ds,    \n",
        "    batch_size=32,\n",
        "    epochs=200,\n",
        "    shuffle=True,\n",
        "    validation_data = val_ds,verbose='auto'\n",
        ")"
      ]
    },
    {
      "cell_type": "code",
      "execution_count": 31,
      "metadata": {
        "colab": {
          "base_uri": "https://localhost:8080/",
          "height": 591
        },
        "id": "_GuWq8VDTnZu",
        "outputId": "036df8d9-fcf9-407c-9ea5-1c1e7a21d154"
      },
      "outputs": [
        {
          "output_type": "stream",
          "name": "stdout",
          "text": [
            "dict_keys(['loss', 'binary_accuracy', 'val_loss', 'val_binary_accuracy'])\n"
          ]
        },
        {
          "output_type": "display_data",
          "data": {
            "text/plain": [
              "<Figure size 432x288 with 1 Axes>"
            ],
            "image/png": "[encoded data removed]"
          },
          "metadata": {
            "needs_background": "light"
          }
        },
        {
          "output_type": "display_data",
          "data": {
            "text/plain": [
              "<Figure size 432x288 with 1 Axes>"
            ],
            "image/png": "[encoded data removed]"
          },
          "metadata": {
            "needs_background": "light"
          }
        }
      ],
      "source": [
        "print(history.history.keys())\n",
        "# summarize history for accuracy\n",
        "plt.plot(history.history['binary_accuracy'])\n",
        "plt.plot(history.history['val_binary_accuracy'])\n",
        "plt.title('model accuracy')\n",
        "plt.ylabel('accuracy')\n",
        "plt.xlabel('epoch')\n",
        "plt.legend(['train', 'test'], loc='upper left')\n",
        "plt.show()\n",
        "# summarize history for loss\n",
        "plt.plot(history.history['loss'])\n",
        "plt.plot(history.history['val_loss'])\n",
        "plt.title('model loss')\n",
        "plt.ylabel('loss')\n",
        "plt.xlabel('epoch')\n",
        "plt.legend(['train', 'test'], loc='upper left')\n",
        "plt.show()\n"
      ]
    },
    {
      "cell_type": "code",
      "execution_count": 32,
      "metadata": {
        "colab": {
          "base_uri": "https://localhost:8080/"
        },
        "id": "mbwtA8wSKpro",
        "outputId": "420cc144-498c-4350-c9c1-d39759872cd4"
      },
      "outputs": [
        {
          "output_type": "stream",
          "name": "stdout",
          "text": [
            "1/1 [==============================] - 0s 96ms/step\n",
            "[[0.99999994 0.        ]\n",
            " [0.99999994 0.        ]\n",
            " [0.99999994 0.        ]\n",
            " [0.99999994 0.        ]\n",
            " [0.99999994 0.        ]\n",
            " [0.99999994 0.        ]\n",
            " [0.99999994 0.        ]\n",
            " [0.99999994 0.        ]\n",
            " [1.         0.        ]\n",
            " [1.         0.        ]\n",
            " [1.         0.        ]\n",
            " [1.         0.        ]\n",
            " [1.         0.        ]]\n"
          ]
        }
      ],
      "source": [
        "print(model.predict(test_ds))"
      ]
    },
    {
      "cell_type": "code",
      "execution_count": 33,
      "metadata": {
        "id": "FkIiT2B3KzeO"
      },
      "outputs": [],
      "source": [
        "def print_accuracy(ds):\n",
        "  predictions = model.predict(ds)\n",
        "  predicted_labels = np.argmax(predictions, axis=1)\n",
        "  true_values = np.concatenate([y for x, y in ds], axis=0)\n",
        "  count = 0\n",
        "  for i in range(len(predicted_labels)):\n",
        "    if predicted_labels[i] == true_values[i]:\n",
        "      count = count + 1\n",
        "  print(\"The accuracy for given dataset is: \", count/len(predicted_labels)*100)\n",
        "    "
      ]
    },
    {
      "cell_type": "code",
      "execution_count": 34,
      "metadata": {
        "colab": {
          "base_uri": "https://localhost:8080/"
        },
        "id": "B4uYxZ2vK0zM",
        "outputId": "6f4c6978-9571-43fd-d3cb-7f27d1e278e0"
      },
      "outputs": [
        {
          "output_type": "stream",
          "name": "stdout",
          "text": [
            "1/1 [==============================] - 0s 9ms/step\n",
            "The accuracy for given dataset is:  53.84615384615385\n"
          ]
        }
      ],
      "source": [
        "print_accuracy(test_ds)"
      ]
    },
    {
      "cell_type": "code",
      "execution_count": 35,
      "metadata": {
        "id": "qySL-GZTK4Gg"
      },
      "outputs": [],
      "source": [
        "from sklearn.metrics import confusion_matrix\n",
        "import seaborn as sn\n",
        "import pandas as pd"
      ]
    },
    {
      "cell_type": "code",
      "execution_count": 36,
      "metadata": {
        "colab": {
          "base_uri": "https://localhost:8080/",
          "height": 555
        },
        "id": "w67NdtddK7fd",
        "outputId": "bec90b67-f707-41bd-eefd-bf72144cd51e"
      },
      "outputs": [
        {
          "output_type": "stream",
          "name": "stdout",
          "text": [
            "1/1 [==============================] - 0s 6ms/step\n",
            "[0 0 0 0 0 0 0 0 0 0 0 0 0]\n",
            "[0 0 0 0 1 1 0 0 0 1 1 0 0]\n"
          ]
        },
        {
          "output_type": "display_data",
          "data": {
            "text/plain": [
              "<Figure size 540x540 with 1 Axes>"
            ],
            "image/png": "[encoded data removed]"
          },
          "metadata": {
            "needs_background": "light"
          }
        }
      ],
      "source": [
        "predictions = model.predict(test_ds)\n",
        "predicted_labels = np.argmax(predictions, axis=1)\n",
        "print(predicted_labels)\n",
        "true_values = np.concatenate([y for x, y in test_ds], axis=0)\n",
        "print(true_values)\n",
        "cm =confusion_matrix(true_values,predicted_labels,labels=[0, 1])\n",
        "fig, ax = plt.subplots(figsize=(7.5, 7.5))\n",
        "ax.matshow(cm, cmap=plt.cm.Blues, alpha=0.3)\n",
        "for i in range(cm.shape[0]):\n",
        "    for j in range(cm.shape[1]):\n",
        "        ax.text(x=j, y=i,s=cm[i, j], va='center', ha='center', size='xx-large')\n",
        " \n",
        "plt.xlabel('Predictions', fontsize=18)\n",
        "plt.ylabel('Actuals', fontsize=18)\n",
        "plt.title('Confusion Matrix', fontsize=18)\n",
        "plt.show()"
      ]
    },
    {
      "cell_type": "code",
      "execution_count": 36,
      "metadata": {
        "id": "P5GwtpyI8-_S"
      },
      "outputs": [],
      "source": []
    }
  ],
  "metadata": {
    "colab": {
      "provenance": []
    },
    "kernelspec": {
      "display_name": "Python 3",
      "name": "python3"
    },
    "language_info": {
      "name": "python"
    }
  },
  "nbformat": 4,
  "nbformat_minor": 0
}