{
  "nbformat": 4,
  "nbformat_minor": 0,
  "metadata": {
    "colab": {
      "provenance": []
    },
    "kernelspec": {
      "name": "python3",
      "display_name": "Python 3"
    },
    "language_info": {
      "name": "python"
    }
  },
  "cells": [
    {
      "cell_type": "code",
      "execution_count": 1,
      "metadata": {
        "id": "jPrKr6XhL4C8"
      },
      "outputs": [],
      "source": [
        "import numpy as np\n",
        "import pandas as pd\n",
        "import os\n",
        "import scipy.io\n",
        "import matplotlib.pyplot as plt\n",
        "from scipy import signal"
      ]
    },
    {
      "cell_type": "code",
      "source": [],
      "metadata": {
        "id": "s0NPLN8dlrxv"
      },
      "execution_count": 1,
      "outputs": []
    },
    {
      "cell_type": "code",
      "source": [
        "# pip install mne\n"
      ],
      "metadata": {
        "id": "Rrevml0PL_nm"
      },
      "execution_count": 2,
      "outputs": []
    },
    {
      "cell_type": "code",
      "source": [
        "from google.colab import drive\n",
        "drive.mount('/content/drive')"
      ],
      "metadata": {
        "id": "9ImzuLsVMDBs",
        "colab": {
          "base_uri": "https://localhost:8080/"
        },
        "outputId": "609a406f-2efe-4079-9a91-ee7595aa35b1"
      },
      "execution_count": 3,
      "outputs": [
        {
          "output_type": "stream",
          "name": "stdout",
          "text": [
            "Mounted at /content/drive\n"
          ]
        }
      ]
    },
    {
      "cell_type": "code",
      "source": [
        "#Path which contains folders\n",
        "PATH = \"/content/drive/MyDrive/Dataset/\""
      ],
      "metadata": {
        "id": "6GQovyJRMDHv"
      },
      "execution_count": 4,
      "outputs": []
    },
    {
      "cell_type": "code",
      "source": [
        "PATH1 = \"/content/drive/MyDrive/Dataset_I_ADHD_All/\" \n",
        "channel_dict = {'Fp1':0,'Fp2':1,'F3':2,'F4':3,'C3':4,'C4':5,'P3':6,'P4':7,'O1':8,'O2':9,'F7':10,'F8':11,'T7':12,'T8':13,'P7':14,'P8':15,'Fz':16,'Cz':17,'Pz':18}\t\n"
      ],
      "metadata": {
        "id": "ciits9QXpi9l"
      },
      "execution_count": 5,
      "outputs": []
    },
    {
      "cell_type": "markdown",
      "source": [
        "#*DF* for ADHD only"
      ],
      "metadata": {
        "id": "H1rXigZ-XU6f"
      }
    },
    {
      "cell_type": "code",
      "source": [
        "#Considering all channels and generating ratios for all channels now - ADHD only\n",
        "all_eeg_dataADHD = []\n",
        "index = 0\n",
        "for channel_name in channel_dict:\n",
        "  for mat_file in os.listdir(os.path.join(PATH1)):\n",
        "      #loading the file\n",
        "      if \".mat\" in mat_file:\n",
        "          loaded_file = scipy.io.loadmat(os.path.join(PATH1,mat_file))\n",
        "          #getting data from the loaded file, mat_file[:-4] gives name of file without .mat\n",
        "          per_person_data1 = loaded_file[mat_file[:-4]]\n",
        "          all_eeg_dataADHD.append(per_person_data1)\n",
        "          #Get the exact column information\n",
        "          data1 = per_person_data1[:,channel_dict[channel_name]]\n",
        "per_person_data1 #Add all files with ADHD\n"
      ],
      "metadata": {
        "id": "sjPhDyTSsB5G",
        "colab": {
          "base_uri": "https://localhost:8080/"
        },
        "outputId": "62a1c397-ac28-45b9-8140-e0222f6f6191"
      },
      "execution_count": 6,
      "outputs": [
        {
          "output_type": "execute_result",
          "data": {
            "text/plain": [
              "array([[156., 121., 126., ..., 367., 261., 402.],\n",
              "       [ 50., -55., 126., ...,  15.,  85., 121.],\n",
              "       [121.,  15., 163., ..., 156., 297., 332.],\n",
              "       ...,\n",
              "       [121.,  15.,  89., ..., 121.,  50.,  85.],\n",
              "       [261., 226., 163., ..., 156., 156.,  85.],\n",
              "       [191., 261., 126., ..., 156., 121.,  50.]])"
            ]
          },
          "metadata": {},
          "execution_count": 6
        }
      ]
    },
    {
      "cell_type": "code",
      "source": [
        "len(all_eeg_dataADHD)"
      ],
      "metadata": {
        "id": "fTmE8X7H4t2y",
        "colab": {
          "base_uri": "https://localhost:8080/"
        },
        "outputId": "322339d7-e2c6-44e3-b679-0cf7f019277e"
      },
      "execution_count": 7,
      "outputs": [
        {
          "output_type": "execute_result",
          "data": {
            "text/plain": [
              "1159"
            ]
          },
          "metadata": {},
          "execution_count": 7
        }
      ]
    },
    {
      "cell_type": "code",
      "source": [
        "dfADHDnew = pd.DataFrame(all_eeg_dataADHD[0])\n",
        "dfADHDnew.head()\n",
        "len(dfADHDnew)"
      ],
      "metadata": {
        "id": "o87KLg2V63BF",
        "colab": {
          "base_uri": "https://localhost:8080/"
        },
        "outputId": "065f0bf9-c13c-4104-9827-07f49813060f"
      },
      "execution_count": 8,
      "outputs": [
        {
          "output_type": "execute_result",
          "data": {
            "text/plain": [
              "43252"
            ]
          },
          "metadata": {},
          "execution_count": 8
        }
      ]
    },
    {
      "cell_type": "code",
      "source": [
        "#Ignore:\n",
        "# for i in range(1,len(all_eeg_dataADHD[:500])):\n",
        "#   mee = all_eeg_dataADHD[i]\n",
        "#   mee = pd.DataFrame(mee)\n",
        "#   dfADHDnew = pd.concat([mee, dfADHDnew]) \n",
        "  "
      ],
      "metadata": {
        "id": "qVnk8Ngx4dnv"
      },
      "execution_count": 9,
      "outputs": []
    },
    {
      "cell_type": "code",
      "source": [
        "gg = all_eeg_dataADHD[0] \n",
        "for i in range(1, len(all_eeg_dataADHD[:500])):\n",
        "  ggg = all_eeg_dataADHD[i]\n",
        "  gg = np.concatenate((gg, ggg))\n"
      ],
      "metadata": {
        "id": "md4FYgAUTZUS"
      },
      "execution_count": 10,
      "outputs": []
    },
    {
      "cell_type": "code",
      "source": [
        "gg.shape"
      ],
      "metadata": {
        "colab": {
          "base_uri": "https://localhost:8080/"
        },
        "id": "OUQGmfgfUZTi",
        "outputId": "6f952aa2-c32b-4e3f-ece7-8ab41a12d0c6"
      },
      "execution_count": 12,
      "outputs": [
        {
          "output_type": "execute_result",
          "data": {
            "text/plain": [
              "(9912822, 19)"
            ]
          },
          "metadata": {},
          "execution_count": 12
        }
      ]
    },
    {
      "cell_type": "code",
      "source": [
        "dfhalfADHD = pd.DataFrame(gg)"
      ],
      "metadata": {
        "id": "Z9ca7bMjX_wU"
      },
      "execution_count": 13,
      "outputs": []
    },
    {
      "cell_type": "code",
      "source": [
        "dfhalfADHD.head()\n"
      ],
      "metadata": {
        "colab": {
          "base_uri": "https://localhost:8080/",
          "height": 270
        },
        "id": "t4Qv9ZlYYETT",
        "outputId": "1429afbd-b073-4925-e492-ac4b51cded51"
      },
      "execution_count": 14,
      "outputs": [
        {
          "output_type": "execute_result",
          "data": {
            "text/plain": [
              "       0      1       2      3       4       5       6      7       8      9   \\\n",
              "0  1317.0  719.0  1340.0  437.0  1304.0  1083.0  1120.0   52.0  1083.0  163.0   \n",
              "1  1317.0  825.0  1377.0  543.0  1377.0  1046.0  1120.0  273.0  1083.0  384.0   \n",
              "2  1458.0  930.0  1561.0  649.0  1488.0   825.0  1230.0  236.0  1230.0  200.0   \n",
              "3  1423.0  754.0  1304.0  508.0  1230.0  1193.0  1009.0  163.0  1156.0  163.0   \n",
              "4  1423.0  930.0  1377.0  649.0  1340.0   788.0  1083.0  347.0  1230.0  310.0   \n",
              "\n",
              "       10     11      12     13      14     15      16     17      18  \n",
              "0  1304.0  347.0  1156.0   52.0   862.0   52.0  1282.0  332.0   825.0  \n",
              "1  1451.0  384.0  1120.0  347.0  1120.0  273.0  1493.0  613.0  1106.0  \n",
              "2  1488.0  384.0  1230.0  347.0  1156.0  126.0  1458.0  332.0   930.0  \n",
              "3  1230.0  347.0  1046.0  273.0   972.0  163.0  1353.0  367.0   965.0  \n",
              "4  1267.0  494.0   972.0  457.0  1083.0  310.0  1458.0  437.0  1106.0  "
            ],
            "text/html": [
              "\n",
              "  <div id=\"df-84f91d0d-5c89-4e43-b1b8-0f6cc9c0b248\">\n",
              "    <div class=\"colab-df-container\">\n",
              "      <div>\n",
              "<style scoped>\n",
              "    .dataframe tbody tr th:only-of-type {\n",
              "        vertical-align: middle;\n",
              "    }\n",
              "\n",
              "    .dataframe tbody tr th {\n",
              "        vertical-align: top;\n",
              "    }\n",
              "\n",
              "    .dataframe thead th {\n",
              "        text-align: right;\n",
              "    }\n",
              "</style>\n",
              "<table border=\"1\" class=\"dataframe\">\n",
              "  <thead>\n",
              "    <tr style=\"text-align: right;\">\n",
              "      <th></th>\n",
              "      <th>0</th>\n",
              "      <th>1</th>\n",
              "      <th>2</th>\n",
              "      <th>3</th>\n",
              "      <th>4</th>\n",
              "      <th>5</th>\n",
              "      <th>6</th>\n",
              "      <th>7</th>\n",
              "      <th>8</th>\n",
              "      <th>9</th>\n",
              "      <th>10</th>\n",
              "      <th>11</th>\n",
              "      <th>12</th>\n",
              "      <th>13</th>\n",
              "      <th>14</th>\n",
              "      <th>15</th>\n",
              "      <th>16</th>\n",
              "      <th>17</th>\n",
              "      <th>18</th>\n",
              "    </tr>\n",
              "  </thead>\n",
              "  <tbody>\n",
              "    <tr>\n",
              "      <th>0</th>\n",
              "      <td>1317.0</td>\n",
              "      <td>719.0</td>\n",
              "      <td>1340.0</td>\n",
              "      <td>437.0</td>\n",
              "      <td>1304.0</td>\n",
              "      <td>1083.0</td>\n",
              "      <td>1120.0</td>\n",
              "      <td>52.0</td>\n",
              "      <td>1083.0</td>\n",
              "      <td>163.0</td>\n",
              "      <td>1304.0</td>\n",
              "      <td>347.0</td>\n",
              "      <td>1156.0</td>\n",
              "      <td>52.0</td>\n",
              "      <td>862.0</td>\n",
              "      <td>52.0</td>\n",
              "      <td>1282.0</td>\n",
              "      <td>332.0</td>\n",
              "      <td>825.0</td>\n",
              "    </tr>\n",
              "    <tr>\n",
              "      <th>1</th>\n",
              "      <td>1317.0</td>\n",
              "      <td>825.0</td>\n",
              "      <td>1377.0</td>\n",
              "      <td>543.0</td>\n",
              "      <td>1377.0</td>\n",
              "      <td>1046.0</td>\n",
              "      <td>1120.0</td>\n",
              "      <td>273.0</td>\n",
              "      <td>1083.0</td>\n",
              "      <td>384.0</td>\n",
              "      <td>1451.0</td>\n",
              "      <td>384.0</td>\n",
              "      <td>1120.0</td>\n",
              "      <td>347.0</td>\n",
              "      <td>1120.0</td>\n",
              "      <td>273.0</td>\n",
              "      <td>1493.0</td>\n",
              "      <td>613.0</td>\n",
              "      <td>1106.0</td>\n",
              "    </tr>\n",
              "    <tr>\n",
              "      <th>2</th>\n",
              "      <td>1458.0</td>\n",
              "      <td>930.0</td>\n",
              "      <td>1561.0</td>\n",
              "      <td>649.0</td>\n",
              "      <td>1488.0</td>\n",
              "      <td>825.0</td>\n",
              "      <td>1230.0</td>\n",
              "      <td>236.0</td>\n",
              "      <td>1230.0</td>\n",
              "      <td>200.0</td>\n",
              "      <td>1488.0</td>\n",
              "      <td>384.0</td>\n",
              "      <td>1230.0</td>\n",
              "      <td>347.0</td>\n",
              "      <td>1156.0</td>\n",
              "      <td>126.0</td>\n",
              "      <td>1458.0</td>\n",
              "      <td>332.0</td>\n",
              "      <td>930.0</td>\n",
              "    </tr>\n",
              "    <tr>\n",
              "      <th>3</th>\n",
              "      <td>1423.0</td>\n",
              "      <td>754.0</td>\n",
              "      <td>1304.0</td>\n",
              "      <td>508.0</td>\n",
              "      <td>1230.0</td>\n",
              "      <td>1193.0</td>\n",
              "      <td>1009.0</td>\n",
              "      <td>163.0</td>\n",
              "      <td>1156.0</td>\n",
              "      <td>163.0</td>\n",
              "      <td>1230.0</td>\n",
              "      <td>347.0</td>\n",
              "      <td>1046.0</td>\n",
              "      <td>273.0</td>\n",
              "      <td>972.0</td>\n",
              "      <td>163.0</td>\n",
              "      <td>1353.0</td>\n",
              "      <td>367.0</td>\n",
              "      <td>965.0</td>\n",
              "    </tr>\n",
              "    <tr>\n",
              "      <th>4</th>\n",
              "      <td>1423.0</td>\n",
              "      <td>930.0</td>\n",
              "      <td>1377.0</td>\n",
              "      <td>649.0</td>\n",
              "      <td>1340.0</td>\n",
              "      <td>788.0</td>\n",
              "      <td>1083.0</td>\n",
              "      <td>347.0</td>\n",
              "      <td>1230.0</td>\n",
              "      <td>310.0</td>\n",
              "      <td>1267.0</td>\n",
              "      <td>494.0</td>\n",
              "      <td>972.0</td>\n",
              "      <td>457.0</td>\n",
              "      <td>1083.0</td>\n",
              "      <td>310.0</td>\n",
              "      <td>1458.0</td>\n",
              "      <td>437.0</td>\n",
              "      <td>1106.0</td>\n",
              "    </tr>\n",
              "  </tbody>\n",
              "</table>\n",
              "</div>\n",
              "      <button class=\"colab-df-convert\" onclick=\"convertToInteractive('df-84f91d0d-5c89-4e43-b1b8-0f6cc9c0b248')\"\n",
              "              title=\"Convert this dataframe to an interactive table.\"\n",
              "              style=\"display:none;\">\n",
              "        \n",
              "  <svg xmlns=\"http://www.w3.org/2000/svg\" height=\"24px\"viewBox=\"0 0 24 24\"\n",
              "       width=\"24px\">\n",
              "    <path d=\"M0 0h24v24H0V0z\" fill=\"none\"/>\n",
              "    <path d=\"M18.56 5.44l.94 2.06.94-2.06 2.06-.94-2.06-.94-.94-2.06-.94 2.06-2.06.94zm-11 1L8.5 8.5l.94-2.06 2.06-.94-2.06-.94L8.5 2.5l-.94 2.06-2.06.94zm10 10l.94 2.06.94-2.06 2.06-.94-2.06-.94-.94-2.06-.94 2.06-2.06.94z\"/><path d=\"M17.41 7.96l-1.37-1.37c-.4-.4-.92-.59-1.43-.59-.52 0-1.04.2-1.43.59L10.3 9.45l-7.72 7.72c-.78.78-.78 2.05 0 2.83L4 21.41c.39.39.9.59 1.41.59.51 0 1.02-.2 1.41-.59l7.78-7.78 2.81-2.81c.8-.78.8-2.07 0-2.86zM5.41 20L4 18.59l7.72-7.72 1.47 1.35L5.41 20z\"/>\n",
              "  </svg>\n",
              "      </button>\n",
              "      \n",
              "  <style>\n",
              "    .colab-df-container {\n",
              "      display:flex;\n",
              "      flex-wrap:wrap;\n",
              "      gap: 12px;\n",
              "    }\n",
              "\n",
              "    .colab-df-convert {\n",
              "      background-color: #E8F0FE;\n",
              "      border: none;\n",
              "      border-radius: 50%;\n",
              "      cursor: pointer;\n",
              "      display: none;\n",
              "      fill: #1967D2;\n",
              "      height: 32px;\n",
              "      padding: 0 0 0 0;\n",
              "      width: 32px;\n",
              "    }\n",
              "\n",
              "    .colab-df-convert:hover {\n",
              "      background-color: #E2EBFA;\n",
              "      box-shadow: 0px 1px 2px rgba(60, 64, 67, 0.3), 0px 1px 3px 1px rgba(60, 64, 67, 0.15);\n",
              "      fill: #174EA6;\n",
              "    }\n",
              "\n",
              "    [theme=dark] .colab-df-convert {\n",
              "      background-color: #3B4455;\n",
              "      fill: #D2E3FC;\n",
              "    }\n",
              "\n",
              "    [theme=dark] .colab-df-convert:hover {\n",
              "      background-color: #434B5C;\n",
              "      box-shadow: 0px 1px 3px 1px rgba(0, 0, 0, 0.15);\n",
              "      filter: drop-shadow(0px 1px 2px rgba(0, 0, 0, 0.3));\n",
              "      fill: #FFFFFF;\n",
              "    }\n",
              "  </style>\n",
              "\n",
              "      <script>\n",
              "        const buttonEl =\n",
              "          document.querySelector('#df-84f91d0d-5c89-4e43-b1b8-0f6cc9c0b248 button.colab-df-convert');\n",
              "        buttonEl.style.display =\n",
              "          google.colab.kernel.accessAllowed ? 'block' : 'none';\n",
              "\n",
              "        async function convertToInteractive(key) {\n",
              "          const element = document.querySelector('#df-84f91d0d-5c89-4e43-b1b8-0f6cc9c0b248');\n",
              "          const dataTable =\n",
              "            await google.colab.kernel.invokeFunction('convertToInteractive',\n",
              "                                                     [key], {});\n",
              "          if (!dataTable) return;\n",
              "\n",
              "          const docLinkHtml = 'Like what you see? Visit the ' +\n",
              "            '<a target=\"_blank\" href=https://colab.research.google.com/notebooks/data_table.ipynb>data table notebook</a>'\n",
              "            + ' to learn more about interactive tables.';\n",
              "          element.innerHTML = '';\n",
              "          dataTable['output_type'] = 'display_data';\n",
              "          await google.colab.output.renderOutput(dataTable, element);\n",
              "          const docLink = document.createElement('div');\n",
              "          docLink.innerHTML = docLinkHtml;\n",
              "          element.appendChild(docLink);\n",
              "        }\n",
              "      </script>\n",
              "    </div>\n",
              "  </div>\n",
              "  "
            ]
          },
          "metadata": {},
          "execution_count": 14
        }
      ]
    },
    {
      "cell_type": "code",
      "source": [
        "dfhalfADHD.shape\n"
      ],
      "metadata": {
        "colab": {
          "base_uri": "https://localhost:8080/"
        },
        "id": "82ssxoNCYGct",
        "outputId": "32f54371-57ed-4101-8b52-5d45dde85460"
      },
      "execution_count": 17,
      "outputs": [
        {
          "output_type": "execute_result",
          "data": {
            "text/plain": [
              "(9912822, 19)"
            ]
          },
          "metadata": {},
          "execution_count": 17
        }
      ]
    },
    {
      "cell_type": "code",
      "source": [
        "dfhalfADHD['Label'] = pd.Series(['ADHD' for x in range(len(dfhalfADHD.index))])"
      ],
      "metadata": {
        "id": "hYMOmJGVYp8v"
      },
      "execution_count": 18,
      "outputs": []
    },
    {
      "cell_type": "code",
      "source": [
        "dfhalfADHD.shape"
      ],
      "metadata": {
        "id": "-pBBHcnhYvz1",
        "outputId": "a90cb930-0fc7-438e-ac8f-852e7da85592",
        "colab": {
          "base_uri": "https://localhost:8080/"
        }
      },
      "execution_count": 19,
      "outputs": [
        {
          "output_type": "execute_result",
          "data": {
            "text/plain": [
              "(9912822, 20)"
            ]
          },
          "metadata": {},
          "execution_count": 19
        }
      ]
    },
    {
      "cell_type": "code",
      "source": [
        "dfADHDnew.shape"
      ],
      "metadata": {
        "id": "ICrN4YEi7zMp",
        "colab": {
          "base_uri": "https://localhost:8080/"
        },
        "outputId": "3af630a7-3e49-4bb8-be19-649f872f648a"
      },
      "execution_count": 20,
      "outputs": [
        {
          "output_type": "execute_result",
          "data": {
            "text/plain": [
              "(43252, 19)"
            ]
          },
          "metadata": {},
          "execution_count": 20
        }
      ]
    },
    {
      "cell_type": "code",
      "source": [
        "dfhalfADHD['Label'] = pd.Series(['ADHD' for x in range(len(dfhalfADHD.index))])"
      ],
      "metadata": {
        "id": "a16pi2OKZO2r"
      },
      "execution_count": 21,
      "outputs": []
    },
    {
      "cell_type": "code",
      "source": [
        "dfhalfADHD.head()"
      ],
      "metadata": {
        "colab": {
          "base_uri": "https://localhost:8080/",
          "height": 270
        },
        "id": "CaA9kG6eZXMV",
        "outputId": "cb09c9a0-7fbc-464c-b26c-952ca5e6af6f"
      },
      "execution_count": null,
      "outputs": [
        {
          "output_type": "execute_result",
          "data": {
            "text/plain": [
              "        0      1       2      3       4       5       6      7       8      9  \\\n",
              "0  1317.0  719.0  1340.0  437.0  1304.0  1083.0  1120.0   52.0  1083.0  163.0   \n",
              "1  1317.0  825.0  1377.0  543.0  1377.0  1046.0  1120.0  273.0  1083.0  384.0   \n",
              "2  1458.0  930.0  1561.0  649.0  1488.0   825.0  1230.0  236.0  1230.0  200.0   \n",
              "3  1423.0  754.0  1304.0  508.0  1230.0  1193.0  1009.0  163.0  1156.0  163.0   \n",
              "4  1423.0  930.0  1377.0  649.0  1340.0   788.0  1083.0  347.0  1230.0  310.0   \n",
              "\n",
              "       10     11      12     13      14     15      16     17      18 Label  \n",
              "0  1304.0  347.0  1156.0   52.0   862.0   52.0  1282.0  332.0   825.0  ADHD  \n",
              "1  1451.0  384.0  1120.0  347.0  1120.0  273.0  1493.0  613.0  1106.0  ADHD  \n",
              "2  1488.0  384.0  1230.0  347.0  1156.0  126.0  1458.0  332.0   930.0  ADHD  \n",
              "3  1230.0  347.0  1046.0  273.0   972.0  163.0  1353.0  367.0   965.0  ADHD  \n",
              "4  1267.0  494.0   972.0  457.0  1083.0  310.0  1458.0  437.0  1106.0  ADHD  "
            ],
            "text/html": [
              "\n",
              "  <div id=\"df-dc917940-ad2c-42ad-b1d0-90a193f369b6\">\n",
              "    <div class=\"colab-df-container\">\n",
              "      <div>\n",
              "<style scoped>\n",
              "    .dataframe tbody tr th:only-of-type {\n",
              "        vertical-align: middle;\n",
              "    }\n",
              "\n",
              "    .dataframe tbody tr th {\n",
              "        vertical-align: top;\n",
              "    }\n",
              "\n",
              "    .dataframe thead th {\n",
              "        text-align: right;\n",
              "    }\n",
              "</style>\n",
              "<table border=\"1\" class=\"dataframe\">\n",
              "  <thead>\n",
              "    <tr style=\"text-align: right;\">\n",
              "      <th></th>\n",
              "      <th>0</th>\n",
              "      <th>1</th>\n",
              "      <th>2</th>\n",
              "      <th>3</th>\n",
              "      <th>4</th>\n",
              "      <th>5</th>\n",
              "      <th>6</th>\n",
              "      <th>7</th>\n",
              "      <th>8</th>\n",
              "      <th>9</th>\n",
              "      <th>10</th>\n",
              "      <th>11</th>\n",
              "      <th>12</th>\n",
              "      <th>13</th>\n",
              "      <th>14</th>\n",
              "      <th>15</th>\n",
              "      <th>16</th>\n",
              "      <th>17</th>\n",
              "      <th>18</th>\n",
              "      <th>Label</th>\n",
              "    </tr>\n",
              "  </thead>\n",
              "  <tbody>\n",
              "    <tr>\n",
              "      <th>0</th>\n",
              "      <td>1317.0</td>\n",
              "      <td>719.0</td>\n",
              "      <td>1340.0</td>\n",
              "      <td>437.0</td>\n",
              "      <td>1304.0</td>\n",
              "      <td>1083.0</td>\n",
              "      <td>1120.0</td>\n",
              "      <td>52.0</td>\n",
              "      <td>1083.0</td>\n",
              "      <td>163.0</td>\n",
              "      <td>1304.0</td>\n",
              "      <td>347.0</td>\n",
              "      <td>1156.0</td>\n",
              "      <td>52.0</td>\n",
              "      <td>862.0</td>\n",
              "      <td>52.0</td>\n",
              "      <td>1282.0</td>\n",
              "      <td>332.0</td>\n",
              "      <td>825.0</td>\n",
              "      <td>ADHD</td>\n",
              "    </tr>\n",
              "    <tr>\n",
              "      <th>1</th>\n",
              "      <td>1317.0</td>\n",
              "      <td>825.0</td>\n",
              "      <td>1377.0</td>\n",
              "      <td>543.0</td>\n",
              "      <td>1377.0</td>\n",
              "      <td>1046.0</td>\n",
              "      <td>1120.0</td>\n",
              "      <td>273.0</td>\n",
              "      <td>1083.0</td>\n",
              "      <td>384.0</td>\n",
              "      <td>1451.0</td>\n",
              "      <td>384.0</td>\n",
              "      <td>1120.0</td>\n",
              "      <td>347.0</td>\n",
              "      <td>1120.0</td>\n",
              "      <td>273.0</td>\n",
              "      <td>1493.0</td>\n",
              "      <td>613.0</td>\n",
              "      <td>1106.0</td>\n",
              "      <td>ADHD</td>\n",
              "    </tr>\n",
              "    <tr>\n",
              "      <th>2</th>\n",
              "      <td>1458.0</td>\n",
              "      <td>930.0</td>\n",
              "      <td>1561.0</td>\n",
              "      <td>649.0</td>\n",
              "      <td>1488.0</td>\n",
              "      <td>825.0</td>\n",
              "      <td>1230.0</td>\n",
              "      <td>236.0</td>\n",
              "      <td>1230.0</td>\n",
              "      <td>200.0</td>\n",
              "      <td>1488.0</td>\n",
              "      <td>384.0</td>\n",
              "      <td>1230.0</td>\n",
              "      <td>347.0</td>\n",
              "      <td>1156.0</td>\n",
              "      <td>126.0</td>\n",
              "      <td>1458.0</td>\n",
              "      <td>332.0</td>\n",
              "      <td>930.0</td>\n",
              "      <td>ADHD</td>\n",
              "    </tr>\n",
              "    <tr>\n",
              "      <th>3</th>\n",
              "      <td>1423.0</td>\n",
              "      <td>754.0</td>\n",
              "      <td>1304.0</td>\n",
              "      <td>508.0</td>\n",
              "      <td>1230.0</td>\n",
              "      <td>1193.0</td>\n",
              "      <td>1009.0</td>\n",
              "      <td>163.0</td>\n",
              "      <td>1156.0</td>\n",
              "      <td>163.0</td>\n",
              "      <td>1230.0</td>\n",
              "      <td>347.0</td>\n",
              "      <td>1046.0</td>\n",
              "      <td>273.0</td>\n",
              "      <td>972.0</td>\n",
              "      <td>163.0</td>\n",
              "      <td>1353.0</td>\n",
              "      <td>367.0</td>\n",
              "      <td>965.0</td>\n",
              "      <td>ADHD</td>\n",
              "    </tr>\n",
              "    <tr>\n",
              "      <th>4</th>\n",
              "      <td>1423.0</td>\n",
              "      <td>930.0</td>\n",
              "      <td>1377.0</td>\n",
              "      <td>649.0</td>\n",
              "      <td>1340.0</td>\n",
              "      <td>788.0</td>\n",
              "      <td>1083.0</td>\n",
              "      <td>347.0</td>\n",
              "      <td>1230.0</td>\n",
              "      <td>310.0</td>\n",
              "      <td>1267.0</td>\n",
              "      <td>494.0</td>\n",
              "      <td>972.0</td>\n",
              "      <td>457.0</td>\n",
              "      <td>1083.0</td>\n",
              "      <td>310.0</td>\n",
              "      <td>1458.0</td>\n",
              "      <td>437.0</td>\n",
              "      <td>1106.0</td>\n",
              "      <td>ADHD</td>\n",
              "    </tr>\n",
              "  </tbody>\n",
              "</table>\n",
              "</div>\n",
              "      <button class=\"colab-df-convert\" onclick=\"convertToInteractive('df-dc917940-ad2c-42ad-b1d0-90a193f369b6')\"\n",
              "              title=\"Convert this dataframe to an interactive table.\"\n",
              "              style=\"display:none;\">\n",
              "        \n",
              "  <svg xmlns=\"http://www.w3.org/2000/svg\" height=\"24px\"viewBox=\"0 0 24 24\"\n",
              "       width=\"24px\">\n",
              "    <path d=\"M0 0h24v24H0V0z\" fill=\"none\"/>\n",
              "    <path d=\"M18.56 5.44l.94 2.06.94-2.06 2.06-.94-2.06-.94-.94-2.06-.94 2.06-2.06.94zm-11 1L8.5 8.5l.94-2.06 2.06-.94-2.06-.94L8.5 2.5l-.94 2.06-2.06.94zm10 10l.94 2.06.94-2.06 2.06-.94-2.06-.94-.94-2.06-.94 2.06-2.06.94z\"/><path d=\"M17.41 7.96l-1.37-1.37c-.4-.4-.92-.59-1.43-.59-.52 0-1.04.2-1.43.59L10.3 9.45l-7.72 7.72c-.78.78-.78 2.05 0 2.83L4 21.41c.39.39.9.59 1.41.59.51 0 1.02-.2 1.41-.59l7.78-7.78 2.81-2.81c.8-.78.8-2.07 0-2.86zM5.41 20L4 18.59l7.72-7.72 1.47 1.35L5.41 20z\"/>\n",
              "  </svg>\n",
              "      </button>\n",
              "      \n",
              "  <style>\n",
              "    .colab-df-container {\n",
              "      display:flex;\n",
              "      flex-wrap:wrap;\n",
              "      gap: 12px;\n",
              "    }\n",
              "\n",
              "    .colab-df-convert {\n",
              "      background-color: #E8F0FE;\n",
              "      border: none;\n",
              "      border-radius: 50%;\n",
              "      cursor: pointer;\n",
              "      display: none;\n",
              "      fill: #1967D2;\n",
              "      height: 32px;\n",
              "      padding: 0 0 0 0;\n",
              "      width: 32px;\n",
              "    }\n",
              "\n",
              "    .colab-df-convert:hover {\n",
              "      background-color: #E2EBFA;\n",
              "      box-shadow: 0px 1px 2px rgba(60, 64, 67, 0.3), 0px 1px 3px 1px rgba(60, 64, 67, 0.15);\n",
              "      fill: #174EA6;\n",
              "    }\n",
              "\n",
              "    [theme=dark] .colab-df-convert {\n",
              "      background-color: #3B4455;\n",
              "      fill: #D2E3FC;\n",
              "    }\n",
              "\n",
              "    [theme=dark] .colab-df-convert:hover {\n",
              "      background-color: #434B5C;\n",
              "      box-shadow: 0px 1px 3px 1px rgba(0, 0, 0, 0.15);\n",
              "      filter: drop-shadow(0px 1px 2px rgba(0, 0, 0, 0.3));\n",
              "      fill: #FFFFFF;\n",
              "    }\n",
              "  </style>\n",
              "\n",
              "      <script>\n",
              "        const buttonEl =\n",
              "          document.querySelector('#df-dc917940-ad2c-42ad-b1d0-90a193f369b6 button.colab-df-convert');\n",
              "        buttonEl.style.display =\n",
              "          google.colab.kernel.accessAllowed ? 'block' : 'none';\n",
              "\n",
              "        async function convertToInteractive(key) {\n",
              "          const element = document.querySelector('#df-dc917940-ad2c-42ad-b1d0-90a193f369b6');\n",
              "          const dataTable =\n",
              "            await google.colab.kernel.invokeFunction('convertToInteractive',\n",
              "                                                     [key], {});\n",
              "          if (!dataTable) return;\n",
              "\n",
              "          const docLinkHtml = 'Like what you see? Visit the ' +\n",
              "            '<a target=\"_blank\" href=https://colab.research.google.com/notebooks/data_table.ipynb>data table notebook</a>'\n",
              "            + ' to learn more about interactive tables.';\n",
              "          element.innerHTML = '';\n",
              "          dataTable['output_type'] = 'display_data';\n",
              "          await google.colab.output.renderOutput(dataTable, element);\n",
              "          const docLink = document.createElement('div');\n",
              "          docLink.innerHTML = docLinkHtml;\n",
              "          element.appendChild(docLink);\n",
              "        }\n",
              "      </script>\n",
              "    </div>\n",
              "  </div>\n",
              "  "
            ]
          },
          "metadata": {},
          "execution_count": 23
        }
      ]
    },
    {
      "cell_type": "code",
      "source": [
        "dfhalfADHD.to_csv(\"/content/drive/MyDrive/CSVsb4filterADHDAndNon/dfADHDhalf.csv\")"
      ],
      "metadata": {
        "id": "ivRi4_ORZahT"
      },
      "execution_count": null,
      "outputs": []
    },
    {
      "cell_type": "code",
      "source": [
        "# type(per_person_data1)"
      ],
      "metadata": {
        "id": "-YFjFXKDTDIz",
        "colab": {
          "base_uri": "https://localhost:8080/"
        },
        "outputId": "ccc69a93-fb60-4aca-eb54-44a6db973f81"
      },
      "execution_count": null,
      "outputs": [
        {
          "output_type": "execute_result",
          "data": {
            "text/plain": [
              "numpy.ndarray"
            ]
          },
          "metadata": {},
          "execution_count": 25
        }
      ]
    },
    {
      "cell_type": "code",
      "source": [
        "#Add class ADHD column\n",
        "# dfADHDnew['Label'] = pd.Series(['ADHD' for x in range(len(dfADHDnew.index))])\n"
      ],
      "metadata": {
        "id": "iRvMjikBTDQD"
      },
      "execution_count": null,
      "outputs": []
    },
    {
      "cell_type": "code",
      "source": [
        "# dfADHDnew.head()"
      ],
      "metadata": {
        "id": "XjcB2wk5S5uU",
        "colab": {
          "base_uri": "https://localhost:8080/",
          "height": 250
        },
        "outputId": "03b9847b-f2c7-41a3-87a9-8994bacbc259"
      },
      "execution_count": null,
      "outputs": [
        {
          "output_type": "execute_result",
          "data": {
            "text/plain": [
              "       0      1      2      3      4      5      6      7      8      9  \\\n",
              "0  -90.0   15.0  -20.0  -55.0   52.0   16.0  236.0  236.0  163.0  273.0   \n",
              "1  156.0  191.0  126.0  156.0   52.0  200.0  126.0  163.0   89.0  126.0   \n",
              "2   50.0  121.0   89.0   85.0  -20.0  126.0   16.0   89.0   16.0  126.0   \n",
              "3  226.0  226.0  273.0  191.0  200.0  163.0  126.0  126.0  163.0  347.0   \n",
              "4  261.0  332.0  310.0  156.0  273.0  126.0  163.0  163.0  126.0  236.0   \n",
              "\n",
              "      10     11     12     13     14     15     16     17     18 Label  \n",
              "0  604.0  -20.0   16.0  -20.0  236.0  200.0  -19.0  -55.0  191.0  ADHD  \n",
              "1  -20.0   89.0  200.0  200.0  126.0  126.0   15.0  121.0   50.0  ADHD  \n",
              "2   16.0   16.0   89.0   52.0  236.0   16.0   85.0   85.0   50.0  ADHD  \n",
              "3   16.0  126.0  310.0  236.0   52.0   89.0   85.0  191.0   50.0  ADHD  \n",
              "4   16.0   89.0  200.0   89.0  273.0  -20.0  121.0  156.0  -19.0  ADHD  "
            ],
            "text/html": [
              "\n",
              "  <div id=\"df-ff98c23d-c212-4a2d-a707-c6de62db81a0\">\n",
              "    <div class=\"colab-df-container\">\n",
              "      <div>\n",
              "<style scoped>\n",
              "    .dataframe tbody tr th:only-of-type {\n",
              "        vertical-align: middle;\n",
              "    }\n",
              "\n",
              "    .dataframe tbody tr th {\n",
              "        vertical-align: top;\n",
              "    }\n",
              "\n",
              "    .dataframe thead th {\n",
              "        text-align: right;\n",
              "    }\n",
              "</style>\n",
              "<table border=\"1\" class=\"dataframe\">\n",
              "  <thead>\n",
              "    <tr style=\"text-align: right;\">\n",
              "      <th></th>\n",
              "      <th>0</th>\n",
              "      <th>1</th>\n",
              "      <th>2</th>\n",
              "      <th>3</th>\n",
              "      <th>4</th>\n",
              "      <th>5</th>\n",
              "      <th>6</th>\n",
              "      <th>7</th>\n",
              "      <th>8</th>\n",
              "      <th>9</th>\n",
              "      <th>10</th>\n",
              "      <th>11</th>\n",
              "      <th>12</th>\n",
              "      <th>13</th>\n",
              "      <th>14</th>\n",
              "      <th>15</th>\n",
              "      <th>16</th>\n",
              "      <th>17</th>\n",
              "      <th>18</th>\n",
              "      <th>Label</th>\n",
              "    </tr>\n",
              "  </thead>\n",
              "  <tbody>\n",
              "    <tr>\n",
              "      <th>0</th>\n",
              "      <td>-90.0</td>\n",
              "      <td>15.0</td>\n",
              "      <td>-20.0</td>\n",
              "      <td>-55.0</td>\n",
              "      <td>52.0</td>\n",
              "      <td>16.0</td>\n",
              "      <td>236.0</td>\n",
              "      <td>236.0</td>\n",
              "      <td>163.0</td>\n",
              "      <td>273.0</td>\n",
              "      <td>604.0</td>\n",
              "      <td>-20.0</td>\n",
              "      <td>16.0</td>\n",
              "      <td>-20.0</td>\n",
              "      <td>236.0</td>\n",
              "      <td>200.0</td>\n",
              "      <td>-19.0</td>\n",
              "      <td>-55.0</td>\n",
              "      <td>191.0</td>\n",
              "      <td>ADHD</td>\n",
              "    </tr>\n",
              "    <tr>\n",
              "      <th>1</th>\n",
              "      <td>156.0</td>\n",
              "      <td>191.0</td>\n",
              "      <td>126.0</td>\n",
              "      <td>156.0</td>\n",
              "      <td>52.0</td>\n",
              "      <td>200.0</td>\n",
              "      <td>126.0</td>\n",
              "      <td>163.0</td>\n",
              "      <td>89.0</td>\n",
              "      <td>126.0</td>\n",
              "      <td>-20.0</td>\n",
              "      <td>89.0</td>\n",
              "      <td>200.0</td>\n",
              "      <td>200.0</td>\n",
              "      <td>126.0</td>\n",
              "      <td>126.0</td>\n",
              "      <td>15.0</td>\n",
              "      <td>121.0</td>\n",
              "      <td>50.0</td>\n",
              "      <td>ADHD</td>\n",
              "    </tr>\n",
              "    <tr>\n",
              "      <th>2</th>\n",
              "      <td>50.0</td>\n",
              "      <td>121.0</td>\n",
              "      <td>89.0</td>\n",
              "      <td>85.0</td>\n",
              "      <td>-20.0</td>\n",
              "      <td>126.0</td>\n",
              "      <td>16.0</td>\n",
              "      <td>89.0</td>\n",
              "      <td>16.0</td>\n",
              "      <td>126.0</td>\n",
              "      <td>16.0</td>\n",
              "      <td>16.0</td>\n",
              "      <td>89.0</td>\n",
              "      <td>52.0</td>\n",
              "      <td>236.0</td>\n",
              "      <td>16.0</td>\n",
              "      <td>85.0</td>\n",
              "      <td>85.0</td>\n",
              "      <td>50.0</td>\n",
              "      <td>ADHD</td>\n",
              "    </tr>\n",
              "    <tr>\n",
              "      <th>3</th>\n",
              "      <td>226.0</td>\n",
              "      <td>226.0</td>\n",
              "      <td>273.0</td>\n",
              "      <td>191.0</td>\n",
              "      <td>200.0</td>\n",
              "      <td>163.0</td>\n",
              "      <td>126.0</td>\n",
              "      <td>126.0</td>\n",
              "      <td>163.0</td>\n",
              "      <td>347.0</td>\n",
              "      <td>16.0</td>\n",
              "      <td>126.0</td>\n",
              "      <td>310.0</td>\n",
              "      <td>236.0</td>\n",
              "      <td>52.0</td>\n",
              "      <td>89.0</td>\n",
              "      <td>85.0</td>\n",
              "      <td>191.0</td>\n",
              "      <td>50.0</td>\n",
              "      <td>ADHD</td>\n",
              "    </tr>\n",
              "    <tr>\n",
              "      <th>4</th>\n",
              "      <td>261.0</td>\n",
              "      <td>332.0</td>\n",
              "      <td>310.0</td>\n",
              "      <td>156.0</td>\n",
              "      <td>273.0</td>\n",
              "      <td>126.0</td>\n",
              "      <td>163.0</td>\n",
              "      <td>163.0</td>\n",
              "      <td>126.0</td>\n",
              "      <td>236.0</td>\n",
              "      <td>16.0</td>\n",
              "      <td>89.0</td>\n",
              "      <td>200.0</td>\n",
              "      <td>89.0</td>\n",
              "      <td>273.0</td>\n",
              "      <td>-20.0</td>\n",
              "      <td>121.0</td>\n",
              "      <td>156.0</td>\n",
              "      <td>-19.0</td>\n",
              "      <td>ADHD</td>\n",
              "    </tr>\n",
              "  </tbody>\n",
              "</table>\n",
              "</div>\n",
              "      <button class=\"colab-df-convert\" onclick=\"convertToInteractive('df-ff98c23d-c212-4a2d-a707-c6de62db81a0')\"\n",
              "              title=\"Convert this dataframe to an interactive table.\"\n",
              "              style=\"display:none;\">\n",
              "        \n",
              "  <svg xmlns=\"http://www.w3.org/2000/svg\" height=\"24px\"viewBox=\"0 0 24 24\"\n",
              "       width=\"24px\">\n",
              "    <path d=\"M0 0h24v24H0V0z\" fill=\"none\"/>\n",
              "    <path d=\"M18.56 5.44l.94 2.06.94-2.06 2.06-.94-2.06-.94-.94-2.06-.94 2.06-2.06.94zm-11 1L8.5 8.5l.94-2.06 2.06-.94-2.06-.94L8.5 2.5l-.94 2.06-2.06.94zm10 10l.94 2.06.94-2.06 2.06-.94-2.06-.94-.94-2.06-.94 2.06-2.06.94z\"/><path d=\"M17.41 7.96l-1.37-1.37c-.4-.4-.92-.59-1.43-.59-.52 0-1.04.2-1.43.59L10.3 9.45l-7.72 7.72c-.78.78-.78 2.05 0 2.83L4 21.41c.39.39.9.59 1.41.59.51 0 1.02-.2 1.41-.59l7.78-7.78 2.81-2.81c.8-.78.8-2.07 0-2.86zM5.41 20L4 18.59l7.72-7.72 1.47 1.35L5.41 20z\"/>\n",
              "  </svg>\n",
              "      </button>\n",
              "      \n",
              "  <style>\n",
              "    .colab-df-container {\n",
              "      display:flex;\n",
              "      flex-wrap:wrap;\n",
              "      gap: 12px;\n",
              "    }\n",
              "\n",
              "    .colab-df-convert {\n",
              "      background-color: #E8F0FE;\n",
              "      border: none;\n",
              "      border-radius: 50%;\n",
              "      cursor: pointer;\n",
              "      display: none;\n",
              "      fill: #1967D2;\n",
              "      height: 32px;\n",
              "      padding: 0 0 0 0;\n",
              "      width: 32px;\n",
              "    }\n",
              "\n",
              "    .colab-df-convert:hover {\n",
              "      background-color: #E2EBFA;\n",
              "      box-shadow: 0px 1px 2px rgba(60, 64, 67, 0.3), 0px 1px 3px 1px rgba(60, 64, 67, 0.15);\n",
              "      fill: #174EA6;\n",
              "    }\n",
              "\n",
              "    [theme=dark] .colab-df-convert {\n",
              "      background-color: #3B4455;\n",
              "      fill: #D2E3FC;\n",
              "    }\n",
              "\n",
              "    [theme=dark] .colab-df-convert:hover {\n",
              "      background-color: #434B5C;\n",
              "      box-shadow: 0px 1px 3px 1px rgba(0, 0, 0, 0.15);\n",
              "      filter: drop-shadow(0px 1px 2px rgba(0, 0, 0, 0.3));\n",
              "      fill: #FFFFFF;\n",
              "    }\n",
              "  </style>\n",
              "\n",
              "      <script>\n",
              "        const buttonEl =\n",
              "          document.querySelector('#df-ff98c23d-c212-4a2d-a707-c6de62db81a0 button.colab-df-convert');\n",
              "        buttonEl.style.display =\n",
              "          google.colab.kernel.accessAllowed ? 'block' : 'none';\n",
              "\n",
              "        async function convertToInteractive(key) {\n",
              "          const element = document.querySelector('#df-ff98c23d-c212-4a2d-a707-c6de62db81a0');\n",
              "          const dataTable =\n",
              "            await google.colab.kernel.invokeFunction('convertToInteractive',\n",
              "                                                     [key], {});\n",
              "          if (!dataTable) return;\n",
              "\n",
              "          const docLinkHtml = 'Like what you see? Visit the ' +\n",
              "            '<a target=\"_blank\" href=https://colab.research.google.com/notebooks/data_table.ipynb>data table notebook</a>'\n",
              "            + ' to learn more about interactive tables.';\n",
              "          element.innerHTML = '';\n",
              "          dataTable['output_type'] = 'display_data';\n",
              "          await google.colab.output.renderOutput(dataTable, element);\n",
              "          const docLink = document.createElement('div');\n",
              "          docLink.innerHTML = docLinkHtml;\n",
              "          element.appendChild(docLink);\n",
              "        }\n",
              "      </script>\n",
              "    </div>\n",
              "  </div>\n",
              "  "
            ]
          },
          "metadata": {},
          "execution_count": 27
        }
      ]
    },
    {
      "cell_type": "code",
      "source": [
        "# dfADHDnew.to_csv(\"/content/drive/MyDrive/CSVsb4filterADHDAndNon/dfADHDnew.csv\")"
      ],
      "metadata": {
        "id": "3bhfiixJRV7G"
      },
      "execution_count": null,
      "outputs": []
    },
    {
      "cell_type": "code",
      "source": [
        "PATH2 = \"/content/drive/MyDrive/Dataset_I_Non_ADHD_All/\" \n",
        "channel_dict = {'Fp1':0,'Fp2':1,'F3':2,'F4':3,'C3':4,'C4':5,'P3':6,'P4':7,'O1':8,'O2':9,'F7':10,'F8':11,'T7':12,'T8':13,'P7':14,'P8':15,'Fz':16,'Cz':17,'Pz':18}\t\n"
      ],
      "metadata": {
        "id": "-blnrEplR_Sq"
      },
      "execution_count": null,
      "outputs": []
    },
    {
      "cell_type": "markdown",
      "source": [
        "#*DF* for NON_ADHD only"
      ],
      "metadata": {
        "id": "ACH1pt-dXk8g"
      }
    },
    {
      "cell_type": "code",
      "source": [
        "#Considering all channels and generating ratios for all channels now - Non-ADHD only\n",
        "all_eeg_dataNonADHD = []\n",
        "index = 0\n",
        "for channel_name in channel_dict:\n",
        "  for mat_file in os.listdir(os.path.join(PATH2)):\n",
        "      #loading the file\n",
        "      if \".mat\" in mat_file:\n",
        "          loaded_file = scipy.io.loadmat(os.path.join(PATH2,mat_file))\n",
        "      #getting data from the loaded file, mat_file[:-4] gives name of file without .mat\n",
        "          per_person_data1 = loaded_file[mat_file[:-4]]\n",
        "          all_eeg_dataNonADHD.append(per_person_data1)\n",
        "#Get the exact column information\n",
        "          data1 = per_person_data1[:,channel_dict[channel_name]]\n",
        "per_person_data1 #Add all files with ADHD\n",
        "# print(len(per_person_data1))"
      ],
      "metadata": {
        "id": "RjOkkW7KSC72",
        "colab": {
          "base_uri": "https://localhost:8080/"
        },
        "outputId": "60d01a15-c601-41b2-c408-aaea39a95b76"
      },
      "execution_count": null,
      "outputs": [
        {
          "output_type": "execute_result",
          "data": {
            "text/plain": [
              "array([[297., 332., 531., ..., 719., 543., 543.],\n",
              "       [297., 367., 494., ..., 297.,  85., 156.],\n",
              "       [ 15., 191., 163., ..., 578., 402., 332.],\n",
              "       ...,\n",
              "       [508., 719., 420., ..., 578., 543., 402.],\n",
              "       [261., 684., 200., ..., 156., 156., -55.],\n",
              "       [156., 578., 163., ..., 437., 473., 226.]])"
            ]
          },
          "metadata": {},
          "execution_count": 8
        }
      ]
    },
    {
      "cell_type": "code",
      "source": [
        "len(all_eeg_dataNonADHD)"
      ],
      "metadata": {
        "colab": {
          "base_uri": "https://localhost:8080/"
        },
        "id": "_3krPnHUjXWy",
        "outputId": "0200cf7e-9cb6-419b-9d35-b83bc3ca2e34"
      },
      "execution_count": null,
      "outputs": [
        {
          "output_type": "execute_result",
          "data": {
            "text/plain": [
              "1140"
            ]
          },
          "metadata": {},
          "execution_count": 13
        }
      ]
    },
    {
      "cell_type": "code",
      "source": [
        "dfNonADHDnew = pd.DataFrame(all_eeg_dataNonADHD[0])\n",
        "dfNonADHDnew.head()\n",
        "len(dfNonADHDnew)"
      ],
      "metadata": {
        "colab": {
          "base_uri": "https://localhost:8080/"
        },
        "id": "TUif3cSOjdLO",
        "outputId": "bfef0b18-11ca-4417-c924-1dc3d2a2cbb0"
      },
      "execution_count": null,
      "outputs": [
        {
          "output_type": "execute_result",
          "data": {
            "text/plain": [
              "16044"
            ]
          },
          "metadata": {},
          "execution_count": 14
        }
      ]
    },
    {
      "cell_type": "code",
      "source": [],
      "metadata": {
        "id": "7J37TE-GjdQt"
      },
      "execution_count": null,
      "outputs": []
    },
    {
      "cell_type": "code",
      "source": [
        "dfNonADHDnew = pd.DataFrame(all_eeg_dataNonADHD[0])\n",
        "len(dfNonADHDnew)"
      ],
      "metadata": {
        "id": "RAO9jgMXLv-4",
        "colab": {
          "base_uri": "https://localhost:8080/"
        },
        "outputId": "894dbac7-2312-4c64-ca16-3006bc97252f"
      },
      "execution_count": null,
      "outputs": [
        {
          "output_type": "execute_result",
          "data": {
            "text/plain": [
              "16044"
            ]
          },
          "metadata": {},
          "execution_count": 11
        }
      ]
    },
    {
      "cell_type": "code",
      "source": [
        "dfNonADHDnew.head()\n"
      ],
      "metadata": {
        "id": "zm8wP5tnL1L0",
        "colab": {
          "base_uri": "https://localhost:8080/",
          "height": 206
        },
        "outputId": "459634ad-bcc5-4092-a60d-1154591d21c1"
      },
      "execution_count": null,
      "outputs": [
        {
          "output_type": "execute_result",
          "data": {
            "text/plain": [
              "    0    1    2    3    4    5    6    7    8    9     10   11   12   13   14  \\\n",
              "0 -407  -19 -425  -19 -388  -20 -204  200 -351  200  2923  163  420  126  347   \n",
              "1 -125  261  -20  261 -204  273 -241  236 -204  236  -131  200 -278  236  -20   \n",
              "2  -19  437   16  367  -94  384 -278  273  -57  347    16  420 -131  384   16   \n",
              "3 -301 -125 -315  -55 -388  -20 -241  163  -94  200  -351 -351 -388   16 -131   \n",
              "4 -336 -301 -278  -90 -388  -20 -241  310  163  273  -499 -241 -462  163   52   \n",
              "\n",
              "    15   16   17   18  \n",
              "0  126  121  121  156  \n",
              "1  163  -19  402 -160  \n",
              "2  384   50  578 -125  \n",
              "3  347 -442   85 -231  \n",
              "4  384 -336  -55 -336  "
            ],
            "text/html": [
              "\n",
              "  <div id=\"df-938a20b4-73eb-42a8-8700-e820f40136f7\">\n",
              "    <div class=\"colab-df-container\">\n",
              "      <div>\n",
              "<style scoped>\n",
              "    .dataframe tbody tr th:only-of-type {\n",
              "        vertical-align: middle;\n",
              "    }\n",
              "\n",
              "    .dataframe tbody tr th {\n",
              "        vertical-align: top;\n",
              "    }\n",
              "\n",
              "    .dataframe thead th {\n",
              "        text-align: right;\n",
              "    }\n",
              "</style>\n",
              "<table border=\"1\" class=\"dataframe\">\n",
              "  <thead>\n",
              "    <tr style=\"text-align: right;\">\n",
              "      <th></th>\n",
              "      <th>0</th>\n",
              "      <th>1</th>\n",
              "      <th>2</th>\n",
              "      <th>3</th>\n",
              "      <th>4</th>\n",
              "      <th>5</th>\n",
              "      <th>6</th>\n",
              "      <th>7</th>\n",
              "      <th>8</th>\n",
              "      <th>9</th>\n",
              "      <th>10</th>\n",
              "      <th>11</th>\n",
              "      <th>12</th>\n",
              "      <th>13</th>\n",
              "      <th>14</th>\n",
              "      <th>15</th>\n",
              "      <th>16</th>\n",
              "      <th>17</th>\n",
              "      <th>18</th>\n",
              "    </tr>\n",
              "  </thead>\n",
              "  <tbody>\n",
              "    <tr>\n",
              "      <th>0</th>\n",
              "      <td>-407</td>\n",
              "      <td>-19</td>\n",
              "      <td>-425</td>\n",
              "      <td>-19</td>\n",
              "      <td>-388</td>\n",
              "      <td>-20</td>\n",
              "      <td>-204</td>\n",
              "      <td>200</td>\n",
              "      <td>-351</td>\n",
              "      <td>200</td>\n",
              "      <td>2923</td>\n",
              "      <td>163</td>\n",
              "      <td>420</td>\n",
              "      <td>126</td>\n",
              "      <td>347</td>\n",
              "      <td>126</td>\n",
              "      <td>121</td>\n",
              "      <td>121</td>\n",
              "      <td>156</td>\n",
              "    </tr>\n",
              "    <tr>\n",
              "      <th>1</th>\n",
              "      <td>-125</td>\n",
              "      <td>261</td>\n",
              "      <td>-20</td>\n",
              "      <td>261</td>\n",
              "      <td>-204</td>\n",
              "      <td>273</td>\n",
              "      <td>-241</td>\n",
              "      <td>236</td>\n",
              "      <td>-204</td>\n",
              "      <td>236</td>\n",
              "      <td>-131</td>\n",
              "      <td>200</td>\n",
              "      <td>-278</td>\n",
              "      <td>236</td>\n",
              "      <td>-20</td>\n",
              "      <td>163</td>\n",
              "      <td>-19</td>\n",
              "      <td>402</td>\n",
              "      <td>-160</td>\n",
              "    </tr>\n",
              "    <tr>\n",
              "      <th>2</th>\n",
              "      <td>-19</td>\n",
              "      <td>437</td>\n",
              "      <td>16</td>\n",
              "      <td>367</td>\n",
              "      <td>-94</td>\n",
              "      <td>384</td>\n",
              "      <td>-278</td>\n",
              "      <td>273</td>\n",
              "      <td>-57</td>\n",
              "      <td>347</td>\n",
              "      <td>16</td>\n",
              "      <td>420</td>\n",
              "      <td>-131</td>\n",
              "      <td>384</td>\n",
              "      <td>16</td>\n",
              "      <td>384</td>\n",
              "      <td>50</td>\n",
              "      <td>578</td>\n",
              "      <td>-125</td>\n",
              "    </tr>\n",
              "    <tr>\n",
              "      <th>3</th>\n",
              "      <td>-301</td>\n",
              "      <td>-125</td>\n",
              "      <td>-315</td>\n",
              "      <td>-55</td>\n",
              "      <td>-388</td>\n",
              "      <td>-20</td>\n",
              "      <td>-241</td>\n",
              "      <td>163</td>\n",
              "      <td>-94</td>\n",
              "      <td>200</td>\n",
              "      <td>-351</td>\n",
              "      <td>-351</td>\n",
              "      <td>-388</td>\n",
              "      <td>16</td>\n",
              "      <td>-131</td>\n",
              "      <td>347</td>\n",
              "      <td>-442</td>\n",
              "      <td>85</td>\n",
              "      <td>-231</td>\n",
              "    </tr>\n",
              "    <tr>\n",
              "      <th>4</th>\n",
              "      <td>-336</td>\n",
              "      <td>-301</td>\n",
              "      <td>-278</td>\n",
              "      <td>-90</td>\n",
              "      <td>-388</td>\n",
              "      <td>-20</td>\n",
              "      <td>-241</td>\n",
              "      <td>310</td>\n",
              "      <td>163</td>\n",
              "      <td>273</td>\n",
              "      <td>-499</td>\n",
              "      <td>-241</td>\n",
              "      <td>-462</td>\n",
              "      <td>163</td>\n",
              "      <td>52</td>\n",
              "      <td>384</td>\n",
              "      <td>-336</td>\n",
              "      <td>-55</td>\n",
              "      <td>-336</td>\n",
              "    </tr>\n",
              "  </tbody>\n",
              "</table>\n",
              "</div>\n",
              "      <button class=\"colab-df-convert\" onclick=\"convertToInteractive('df-938a20b4-73eb-42a8-8700-e820f40136f7')\"\n",
              "              title=\"Convert this dataframe to an interactive table.\"\n",
              "              style=\"display:none;\">\n",
              "        \n",
              "  <svg xmlns=\"http://www.w3.org/2000/svg\" height=\"24px\"viewBox=\"0 0 24 24\"\n",
              "       width=\"24px\">\n",
              "    <path d=\"M0 0h24v24H0V0z\" fill=\"none\"/>\n",
              "    <path d=\"M18.56 5.44l.94 2.06.94-2.06 2.06-.94-2.06-.94-.94-2.06-.94 2.06-2.06.94zm-11 1L8.5 8.5l.94-2.06 2.06-.94-2.06-.94L8.5 2.5l-.94 2.06-2.06.94zm10 10l.94 2.06.94-2.06 2.06-.94-2.06-.94-.94-2.06-.94 2.06-2.06.94z\"/><path d=\"M17.41 7.96l-1.37-1.37c-.4-.4-.92-.59-1.43-.59-.52 0-1.04.2-1.43.59L10.3 9.45l-7.72 7.72c-.78.78-.78 2.05 0 2.83L4 21.41c.39.39.9.59 1.41.59.51 0 1.02-.2 1.41-.59l7.78-7.78 2.81-2.81c.8-.78.8-2.07 0-2.86zM5.41 20L4 18.59l7.72-7.72 1.47 1.35L5.41 20z\"/>\n",
              "  </svg>\n",
              "      </button>\n",
              "      \n",
              "  <style>\n",
              "    .colab-df-container {\n",
              "      display:flex;\n",
              "      flex-wrap:wrap;\n",
              "      gap: 12px;\n",
              "    }\n",
              "\n",
              "    .colab-df-convert {\n",
              "      background-color: #E8F0FE;\n",
              "      border: none;\n",
              "      border-radius: 50%;\n",
              "      cursor: pointer;\n",
              "      display: none;\n",
              "      fill: #1967D2;\n",
              "      height: 32px;\n",
              "      padding: 0 0 0 0;\n",
              "      width: 32px;\n",
              "    }\n",
              "\n",
              "    .colab-df-convert:hover {\n",
              "      background-color: #E2EBFA;\n",
              "      box-shadow: 0px 1px 2px rgba(60, 64, 67, 0.3), 0px 1px 3px 1px rgba(60, 64, 67, 0.15);\n",
              "      fill: #174EA6;\n",
              "    }\n",
              "\n",
              "    [theme=dark] .colab-df-convert {\n",
              "      background-color: #3B4455;\n",
              "      fill: #D2E3FC;\n",
              "    }\n",
              "\n",
              "    [theme=dark] .colab-df-convert:hover {\n",
              "      background-color: #434B5C;\n",
              "      box-shadow: 0px 1px 3px 1px rgba(0, 0, 0, 0.15);\n",
              "      filter: drop-shadow(0px 1px 2px rgba(0, 0, 0, 0.3));\n",
              "      fill: #FFFFFF;\n",
              "    }\n",
              "  </style>\n",
              "\n",
              "      <script>\n",
              "        const buttonEl =\n",
              "          document.querySelector('#df-938a20b4-73eb-42a8-8700-e820f40136f7 button.colab-df-convert');\n",
              "        buttonEl.style.display =\n",
              "          google.colab.kernel.accessAllowed ? 'block' : 'none';\n",
              "\n",
              "        async function convertToInteractive(key) {\n",
              "          const element = document.querySelector('#df-938a20b4-73eb-42a8-8700-e820f40136f7');\n",
              "          const dataTable =\n",
              "            await google.colab.kernel.invokeFunction('convertToInteractive',\n",
              "                                                     [key], {});\n",
              "          if (!dataTable) return;\n",
              "\n",
              "          const docLinkHtml = 'Like what you see? Visit the ' +\n",
              "            '<a target=\"_blank\" href=https://colab.research.google.com/notebooks/data_table.ipynb>data table notebook</a>'\n",
              "            + ' to learn more about interactive tables.';\n",
              "          element.innerHTML = '';\n",
              "          dataTable['output_type'] = 'display_data';\n",
              "          await google.colab.output.renderOutput(dataTable, element);\n",
              "          const docLink = document.createElement('div');\n",
              "          docLink.innerHTML = docLinkHtml;\n",
              "          element.appendChild(docLink);\n",
              "        }\n",
              "      </script>\n",
              "    </div>\n",
              "  </div>\n",
              "  "
            ]
          },
          "metadata": {},
          "execution_count": 15
        }
      ]
    },
    {
      "cell_type": "code",
      "source": [
        "# len(all_eeg_dataADHD)"
      ],
      "metadata": {
        "id": "KE3ZXKRZS9MT"
      },
      "execution_count": 11,
      "outputs": []
    },
    {
      "cell_type": "code",
      "source": [
        "#PD takes too much time so cancelled code\n",
        "# for i in range(1,len(all_eeg_dataNonADHD[:500])):\n",
        "#   mee = all_eeg_dataNonADHD[i]\n",
        "#   mee = pd.DataFrame(mee)\n",
        "#   dfNonADHDnew = pd.concat([mee, dfNonADHDnew]) \n",
        "  "
      ],
      "metadata": {
        "id": "CDkWfsrpL9jl"
      },
      "execution_count": null,
      "outputs": []
    },
    {
      "cell_type": "code",
      "source": [
        "gg1 = all_eeg_dataNonADHD[0] \n",
        "for i in range(1, len(all_eeg_dataNonADHD[:500])):\n",
        "  ggg = all_eeg_dataNonADHD[i]\n",
        "  gg1 = np.concatenate((gg1, ggg))\n"
      ],
      "metadata": {
        "id": "xv8w07NYZvK0"
      },
      "execution_count": null,
      "outputs": []
    },
    {
      "cell_type": "code",
      "source": [
        "# dfNonADHDnew.shape\n",
        "dfNonADHD = pd.DataFrame(gg1)"
      ],
      "metadata": {
        "id": "09pBWkpMMTMK"
      },
      "execution_count": null,
      "outputs": []
    },
    {
      "cell_type": "code",
      "source": [
        "dfNonADHD.head()\n"
      ],
      "metadata": {
        "colab": {
          "base_uri": "https://localhost:8080/",
          "height": 250
        },
        "id": "U7rqNqOEkQLf",
        "outputId": "eb90df76-d55f-4114-d9a4-8a82bf0058d4"
      },
      "execution_count": null,
      "outputs": [
        {
          "output_type": "execute_result",
          "data": {
            "text/plain": [
              "      0      1      2      3      4      5      6      7      8      9   \\\n",
              "0 -407.0  -19.0 -425.0  -19.0 -388.0  -20.0 -204.0  200.0 -351.0  200.0   \n",
              "1 -125.0  261.0  -20.0  261.0 -204.0  273.0 -241.0  236.0 -204.0  236.0   \n",
              "2  -19.0  437.0   16.0  367.0  -94.0  384.0 -278.0  273.0  -57.0  347.0   \n",
              "3 -301.0 -125.0 -315.0  -55.0 -388.0  -20.0 -241.0  163.0  -94.0  200.0   \n",
              "4 -336.0 -301.0 -278.0  -90.0 -388.0  -20.0 -241.0  310.0  163.0  273.0   \n",
              "\n",
              "       10     11     12     13     14     15     16     17     18  \n",
              "0  2923.0  163.0  420.0  126.0  347.0  126.0  121.0  121.0  156.0  \n",
              "1  -131.0  200.0 -278.0  236.0  -20.0  163.0  -19.0  402.0 -160.0  \n",
              "2    16.0  420.0 -131.0  384.0   16.0  384.0   50.0  578.0 -125.0  \n",
              "3  -351.0 -351.0 -388.0   16.0 -131.0  347.0 -442.0   85.0 -231.0  \n",
              "4  -499.0 -241.0 -462.0  163.0   52.0  384.0 -336.0  -55.0 -336.0  "
            ],
            "text/html": [
              "\n",
              "  <div id=\"df-205a2b73-20be-40b8-baba-a60e42aa8c3b\">\n",
              "    <div class=\"colab-df-container\">\n",
              "      <div>\n",
              "<style scoped>\n",
              "    .dataframe tbody tr th:only-of-type {\n",
              "        vertical-align: middle;\n",
              "    }\n",
              "\n",
              "    .dataframe tbody tr th {\n",
              "        vertical-align: top;\n",
              "    }\n",
              "\n",
              "    .dataframe thead th {\n",
              "        text-align: right;\n",
              "    }\n",
              "</style>\n",
              "<table border=\"1\" class=\"dataframe\">\n",
              "  <thead>\n",
              "    <tr style=\"text-align: right;\">\n",
              "      <th></th>\n",
              "      <th>0</th>\n",
              "      <th>1</th>\n",
              "      <th>2</th>\n",
              "      <th>3</th>\n",
              "      <th>4</th>\n",
              "      <th>5</th>\n",
              "      <th>6</th>\n",
              "      <th>7</th>\n",
              "      <th>8</th>\n",
              "      <th>9</th>\n",
              "      <th>10</th>\n",
              "      <th>11</th>\n",
              "      <th>12</th>\n",
              "      <th>13</th>\n",
              "      <th>14</th>\n",
              "      <th>15</th>\n",
              "      <th>16</th>\n",
              "      <th>17</th>\n",
              "      <th>18</th>\n",
              "    </tr>\n",
              "  </thead>\n",
              "  <tbody>\n",
              "    <tr>\n",
              "      <th>0</th>\n",
              "      <td>-407.0</td>\n",
              "      <td>-19.0</td>\n",
              "      <td>-425.0</td>\n",
              "      <td>-19.0</td>\n",
              "      <td>-388.0</td>\n",
              "      <td>-20.0</td>\n",
              "      <td>-204.0</td>\n",
              "      <td>200.0</td>\n",
              "      <td>-351.0</td>\n",
              "      <td>200.0</td>\n",
              "      <td>2923.0</td>\n",
              "      <td>163.0</td>\n",
              "      <td>420.0</td>\n",
              "      <td>126.0</td>\n",
              "      <td>347.0</td>\n",
              "      <td>126.0</td>\n",
              "      <td>121.0</td>\n",
              "      <td>121.0</td>\n",
              "      <td>156.0</td>\n",
              "    </tr>\n",
              "    <tr>\n",
              "      <th>1</th>\n",
              "      <td>-125.0</td>\n",
              "      <td>261.0</td>\n",
              "      <td>-20.0</td>\n",
              "      <td>261.0</td>\n",
              "      <td>-204.0</td>\n",
              "      <td>273.0</td>\n",
              "      <td>-241.0</td>\n",
              "      <td>236.0</td>\n",
              "      <td>-204.0</td>\n",
              "      <td>236.0</td>\n",
              "      <td>-131.0</td>\n",
              "      <td>200.0</td>\n",
              "      <td>-278.0</td>\n",
              "      <td>236.0</td>\n",
              "      <td>-20.0</td>\n",
              "      <td>163.0</td>\n",
              "      <td>-19.0</td>\n",
              "      <td>402.0</td>\n",
              "      <td>-160.0</td>\n",
              "    </tr>\n",
              "    <tr>\n",
              "      <th>2</th>\n",
              "      <td>-19.0</td>\n",
              "      <td>437.0</td>\n",
              "      <td>16.0</td>\n",
              "      <td>367.0</td>\n",
              "      <td>-94.0</td>\n",
              "      <td>384.0</td>\n",
              "      <td>-278.0</td>\n",
              "      <td>273.0</td>\n",
              "      <td>-57.0</td>\n",
              "      <td>347.0</td>\n",
              "      <td>16.0</td>\n",
              "      <td>420.0</td>\n",
              "      <td>-131.0</td>\n",
              "      <td>384.0</td>\n",
              "      <td>16.0</td>\n",
              "      <td>384.0</td>\n",
              "      <td>50.0</td>\n",
              "      <td>578.0</td>\n",
              "      <td>-125.0</td>\n",
              "    </tr>\n",
              "    <tr>\n",
              "      <th>3</th>\n",
              "      <td>-301.0</td>\n",
              "      <td>-125.0</td>\n",
              "      <td>-315.0</td>\n",
              "      <td>-55.0</td>\n",
              "      <td>-388.0</td>\n",
              "      <td>-20.0</td>\n",
              "      <td>-241.0</td>\n",
              "      <td>163.0</td>\n",
              "      <td>-94.0</td>\n",
              "      <td>200.0</td>\n",
              "      <td>-351.0</td>\n",
              "      <td>-351.0</td>\n",
              "      <td>-388.0</td>\n",
              "      <td>16.0</td>\n",
              "      <td>-131.0</td>\n",
              "      <td>347.0</td>\n",
              "      <td>-442.0</td>\n",
              "      <td>85.0</td>\n",
              "      <td>-231.0</td>\n",
              "    </tr>\n",
              "    <tr>\n",
              "      <th>4</th>\n",
              "      <td>-336.0</td>\n",
              "      <td>-301.0</td>\n",
              "      <td>-278.0</td>\n",
              "      <td>-90.0</td>\n",
              "      <td>-388.0</td>\n",
              "      <td>-20.0</td>\n",
              "      <td>-241.0</td>\n",
              "      <td>310.0</td>\n",
              "      <td>163.0</td>\n",
              "      <td>273.0</td>\n",
              "      <td>-499.0</td>\n",
              "      <td>-241.0</td>\n",
              "      <td>-462.0</td>\n",
              "      <td>163.0</td>\n",
              "      <td>52.0</td>\n",
              "      <td>384.0</td>\n",
              "      <td>-336.0</td>\n",
              "      <td>-55.0</td>\n",
              "      <td>-336.0</td>\n",
              "    </tr>\n",
              "  </tbody>\n",
              "</table>\n",
              "</div>\n",
              "      <button class=\"colab-df-convert\" onclick=\"convertToInteractive('df-205a2b73-20be-40b8-baba-a60e42aa8c3b')\"\n",
              "              title=\"Convert this dataframe to an interactive table.\"\n",
              "              style=\"display:none;\">\n",
              "        \n",
              "  <svg xmlns=\"http://www.w3.org/2000/svg\" height=\"24px\"viewBox=\"0 0 24 24\"\n",
              "       width=\"24px\">\n",
              "    <path d=\"M0 0h24v24H0V0z\" fill=\"none\"/>\n",
              "    <path d=\"M18.56 5.44l.94 2.06.94-2.06 2.06-.94-2.06-.94-.94-2.06-.94 2.06-2.06.94zm-11 1L8.5 8.5l.94-2.06 2.06-.94-2.06-.94L8.5 2.5l-.94 2.06-2.06.94zm10 10l.94 2.06.94-2.06 2.06-.94-2.06-.94-.94-2.06-.94 2.06-2.06.94z\"/><path d=\"M17.41 7.96l-1.37-1.37c-.4-.4-.92-.59-1.43-.59-.52 0-1.04.2-1.43.59L10.3 9.45l-7.72 7.72c-.78.78-.78 2.05 0 2.83L4 21.41c.39.39.9.59 1.41.59.51 0 1.02-.2 1.41-.59l7.78-7.78 2.81-2.81c.8-.78.8-2.07 0-2.86zM5.41 20L4 18.59l7.72-7.72 1.47 1.35L5.41 20z\"/>\n",
              "  </svg>\n",
              "      </button>\n",
              "      \n",
              "  <style>\n",
              "    .colab-df-container {\n",
              "      display:flex;\n",
              "      flex-wrap:wrap;\n",
              "      gap: 12px;\n",
              "    }\n",
              "\n",
              "    .colab-df-convert {\n",
              "      background-color: #E8F0FE;\n",
              "      border: none;\n",
              "      border-radius: 50%;\n",
              "      cursor: pointer;\n",
              "      display: none;\n",
              "      fill: #1967D2;\n",
              "      height: 32px;\n",
              "      padding: 0 0 0 0;\n",
              "      width: 32px;\n",
              "    }\n",
              "\n",
              "    .colab-df-convert:hover {\n",
              "      background-color: #E2EBFA;\n",
              "      box-shadow: 0px 1px 2px rgba(60, 64, 67, 0.3), 0px 1px 3px 1px rgba(60, 64, 67, 0.15);\n",
              "      fill: #174EA6;\n",
              "    }\n",
              "\n",
              "    [theme=dark] .colab-df-convert {\n",
              "      background-color: #3B4455;\n",
              "      fill: #D2E3FC;\n",
              "    }\n",
              "\n",
              "    [theme=dark] .colab-df-convert:hover {\n",
              "      background-color: #434B5C;\n",
              "      box-shadow: 0px 1px 3px 1px rgba(0, 0, 0, 0.15);\n",
              "      filter: drop-shadow(0px 1px 2px rgba(0, 0, 0, 0.3));\n",
              "      fill: #FFFFFF;\n",
              "    }\n",
              "  </style>\n",
              "\n",
              "      <script>\n",
              "        const buttonEl =\n",
              "          document.querySelector('#df-205a2b73-20be-40b8-baba-a60e42aa8c3b button.colab-df-convert');\n",
              "        buttonEl.style.display =\n",
              "          google.colab.kernel.accessAllowed ? 'block' : 'none';\n",
              "\n",
              "        async function convertToInteractive(key) {\n",
              "          const element = document.querySelector('#df-205a2b73-20be-40b8-baba-a60e42aa8c3b');\n",
              "          const dataTable =\n",
              "            await google.colab.kernel.invokeFunction('convertToInteractive',\n",
              "                                                     [key], {});\n",
              "          if (!dataTable) return;\n",
              "\n",
              "          const docLinkHtml = 'Like what you see? Visit the ' +\n",
              "            '<a target=\"_blank\" href=https://colab.research.google.com/notebooks/data_table.ipynb>data table notebook</a>'\n",
              "            + ' to learn more about interactive tables.';\n",
              "          element.innerHTML = '';\n",
              "          dataTable['output_type'] = 'display_data';\n",
              "          await google.colab.output.renderOutput(dataTable, element);\n",
              "          const docLink = document.createElement('div');\n",
              "          docLink.innerHTML = docLinkHtml;\n",
              "          element.appendChild(docLink);\n",
              "        }\n",
              "      </script>\n",
              "    </div>\n",
              "  </div>\n",
              "  "
            ]
          },
          "metadata": {},
          "execution_count": 19
        }
      ]
    },
    {
      "cell_type": "code",
      "source": [
        "dfNonADHD.shape"
      ],
      "metadata": {
        "colab": {
          "base_uri": "https://localhost:8080/"
        },
        "id": "9OYjQ5oUkayf",
        "outputId": "777cd544-6db9-450a-9db6-7f049622554a"
      },
      "execution_count": null,
      "outputs": [
        {
          "output_type": "execute_result",
          "data": {
            "text/plain": [
              "(7999921, 19)"
            ]
          },
          "metadata": {},
          "execution_count": 21
        }
      ]
    },
    {
      "cell_type": "code",
      "source": [
        "#Add class Non ADHD column\n",
        "dfNonADHD['Label'] = pd.Series(['Non_ADHD' for x in range(len(dfNonADHD.index))])\n",
        "dfNonADHD.head()"
      ],
      "metadata": {
        "id": "iaOOmaW0V58t",
        "colab": {
          "base_uri": "https://localhost:8080/",
          "height": 270
        },
        "outputId": "9cf629b4-2033-4398-af90-0588ec68e857"
      },
      "execution_count": null,
      "outputs": [
        {
          "output_type": "execute_result",
          "data": {
            "text/plain": [
              "       0      1      2      3      4      5      6      7      8      9  \\\n",
              "0 -407.0  -19.0 -425.0  -19.0 -388.0  -20.0 -204.0  200.0 -351.0  200.0   \n",
              "1 -125.0  261.0  -20.0  261.0 -204.0  273.0 -241.0  236.0 -204.0  236.0   \n",
              "2  -19.0  437.0   16.0  367.0  -94.0  384.0 -278.0  273.0  -57.0  347.0   \n",
              "3 -301.0 -125.0 -315.0  -55.0 -388.0  -20.0 -241.0  163.0  -94.0  200.0   \n",
              "4 -336.0 -301.0 -278.0  -90.0 -388.0  -20.0 -241.0  310.0  163.0  273.0   \n",
              "\n",
              "       10     11     12     13     14     15     16     17     18     Label  \n",
              "0  2923.0  163.0  420.0  126.0  347.0  126.0  121.0  121.0  156.0  Non_ADHD  \n",
              "1  -131.0  200.0 -278.0  236.0  -20.0  163.0  -19.0  402.0 -160.0  Non_ADHD  \n",
              "2    16.0  420.0 -131.0  384.0   16.0  384.0   50.0  578.0 -125.0  Non_ADHD  \n",
              "3  -351.0 -351.0 -388.0   16.0 -131.0  347.0 -442.0   85.0 -231.0  Non_ADHD  \n",
              "4  -499.0 -241.0 -462.0  163.0   52.0  384.0 -336.0  -55.0 -336.0  Non_ADHD  "
            ],
            "text/html": [
              "\n",
              "  <div id=\"df-5e1dbf47-52db-452a-8a11-32936bcfe61e\">\n",
              "    <div class=\"colab-df-container\">\n",
              "      <div>\n",
              "<style scoped>\n",
              "    .dataframe tbody tr th:only-of-type {\n",
              "        vertical-align: middle;\n",
              "    }\n",
              "\n",
              "    .dataframe tbody tr th {\n",
              "        vertical-align: top;\n",
              "    }\n",
              "\n",
              "    .dataframe thead th {\n",
              "        text-align: right;\n",
              "    }\n",
              "</style>\n",
              "<table border=\"1\" class=\"dataframe\">\n",
              "  <thead>\n",
              "    <tr style=\"text-align: right;\">\n",
              "      <th></th>\n",
              "      <th>0</th>\n",
              "      <th>1</th>\n",
              "      <th>2</th>\n",
              "      <th>3</th>\n",
              "      <th>4</th>\n",
              "      <th>5</th>\n",
              "      <th>6</th>\n",
              "      <th>7</th>\n",
              "      <th>8</th>\n",
              "      <th>9</th>\n",
              "      <th>10</th>\n",
              "      <th>11</th>\n",
              "      <th>12</th>\n",
              "      <th>13</th>\n",
              "      <th>14</th>\n",
              "      <th>15</th>\n",
              "      <th>16</th>\n",
              "      <th>17</th>\n",
              "      <th>18</th>\n",
              "      <th>Label</th>\n",
              "    </tr>\n",
              "  </thead>\n",
              "  <tbody>\n",
              "    <tr>\n",
              "      <th>0</th>\n",
              "      <td>-407.0</td>\n",
              "      <td>-19.0</td>\n",
              "      <td>-425.0</td>\n",
              "      <td>-19.0</td>\n",
              "      <td>-388.0</td>\n",
              "      <td>-20.0</td>\n",
              "      <td>-204.0</td>\n",
              "      <td>200.0</td>\n",
              "      <td>-351.0</td>\n",
              "      <td>200.0</td>\n",
              "      <td>2923.0</td>\n",
              "      <td>163.0</td>\n",
              "      <td>420.0</td>\n",
              "      <td>126.0</td>\n",
              "      <td>347.0</td>\n",
              "      <td>126.0</td>\n",
              "      <td>121.0</td>\n",
              "      <td>121.0</td>\n",
              "      <td>156.0</td>\n",
              "      <td>Non_ADHD</td>\n",
              "    </tr>\n",
              "    <tr>\n",
              "      <th>1</th>\n",
              "      <td>-125.0</td>\n",
              "      <td>261.0</td>\n",
              "      <td>-20.0</td>\n",
              "      <td>261.0</td>\n",
              "      <td>-204.0</td>\n",
              "      <td>273.0</td>\n",
              "      <td>-241.0</td>\n",
              "      <td>236.0</td>\n",
              "      <td>-204.0</td>\n",
              "      <td>236.0</td>\n",
              "      <td>-131.0</td>\n",
              "      <td>200.0</td>\n",
              "      <td>-278.0</td>\n",
              "      <td>236.0</td>\n",
              "      <td>-20.0</td>\n",
              "      <td>163.0</td>\n",
              "      <td>-19.0</td>\n",
              "      <td>402.0</td>\n",
              "      <td>-160.0</td>\n",
              "      <td>Non_ADHD</td>\n",
              "    </tr>\n",
              "    <tr>\n",
              "      <th>2</th>\n",
              "      <td>-19.0</td>\n",
              "      <td>437.0</td>\n",
              "      <td>16.0</td>\n",
              "      <td>367.0</td>\n",
              "      <td>-94.0</td>\n",
              "      <td>384.0</td>\n",
              "      <td>-278.0</td>\n",
              "      <td>273.0</td>\n",
              "      <td>-57.0</td>\n",
              "      <td>347.0</td>\n",
              "      <td>16.0</td>\n",
              "      <td>420.0</td>\n",
              "      <td>-131.0</td>\n",
              "      <td>384.0</td>\n",
              "      <td>16.0</td>\n",
              "      <td>384.0</td>\n",
              "      <td>50.0</td>\n",
              "      <td>578.0</td>\n",
              "      <td>-125.0</td>\n",
              "      <td>Non_ADHD</td>\n",
              "    </tr>\n",
              "    <tr>\n",
              "      <th>3</th>\n",
              "      <td>-301.0</td>\n",
              "      <td>-125.0</td>\n",
              "      <td>-315.0</td>\n",
              "      <td>-55.0</td>\n",
              "      <td>-388.0</td>\n",
              "      <td>-20.0</td>\n",
              "      <td>-241.0</td>\n",
              "      <td>163.0</td>\n",
              "      <td>-94.0</td>\n",
              "      <td>200.0</td>\n",
              "      <td>-351.0</td>\n",
              "      <td>-351.0</td>\n",
              "      <td>-388.0</td>\n",
              "      <td>16.0</td>\n",
              "      <td>-131.0</td>\n",
              "      <td>347.0</td>\n",
              "      <td>-442.0</td>\n",
              "      <td>85.0</td>\n",
              "      <td>-231.0</td>\n",
              "      <td>Non_ADHD</td>\n",
              "    </tr>\n",
              "    <tr>\n",
              "      <th>4</th>\n",
              "      <td>-336.0</td>\n",
              "      <td>-301.0</td>\n",
              "      <td>-278.0</td>\n",
              "      <td>-90.0</td>\n",
              "      <td>-388.0</td>\n",
              "      <td>-20.0</td>\n",
              "      <td>-241.0</td>\n",
              "      <td>310.0</td>\n",
              "      <td>163.0</td>\n",
              "      <td>273.0</td>\n",
              "      <td>-499.0</td>\n",
              "      <td>-241.0</td>\n",
              "      <td>-462.0</td>\n",
              "      <td>163.0</td>\n",
              "      <td>52.0</td>\n",
              "      <td>384.0</td>\n",
              "      <td>-336.0</td>\n",
              "      <td>-55.0</td>\n",
              "      <td>-336.0</td>\n",
              "      <td>Non_ADHD</td>\n",
              "    </tr>\n",
              "  </tbody>\n",
              "</table>\n",
              "</div>\n",
              "      <button class=\"colab-df-convert\" onclick=\"convertToInteractive('df-5e1dbf47-52db-452a-8a11-32936bcfe61e')\"\n",
              "              title=\"Convert this dataframe to an interactive table.\"\n",
              "              style=\"display:none;\">\n",
              "        \n",
              "  <svg xmlns=\"http://www.w3.org/2000/svg\" height=\"24px\"viewBox=\"0 0 24 24\"\n",
              "       width=\"24px\">\n",
              "    <path d=\"M0 0h24v24H0V0z\" fill=\"none\"/>\n",
              "    <path d=\"M18.56 5.44l.94 2.06.94-2.06 2.06-.94-2.06-.94-.94-2.06-.94 2.06-2.06.94zm-11 1L8.5 8.5l.94-2.06 2.06-.94-2.06-.94L8.5 2.5l-.94 2.06-2.06.94zm10 10l.94 2.06.94-2.06 2.06-.94-2.06-.94-.94-2.06-.94 2.06-2.06.94z\"/><path d=\"M17.41 7.96l-1.37-1.37c-.4-.4-.92-.59-1.43-.59-.52 0-1.04.2-1.43.59L10.3 9.45l-7.72 7.72c-.78.78-.78 2.05 0 2.83L4 21.41c.39.39.9.59 1.41.59.51 0 1.02-.2 1.41-.59l7.78-7.78 2.81-2.81c.8-.78.8-2.07 0-2.86zM5.41 20L4 18.59l7.72-7.72 1.47 1.35L5.41 20z\"/>\n",
              "  </svg>\n",
              "      </button>\n",
              "      \n",
              "  <style>\n",
              "    .colab-df-container {\n",
              "      display:flex;\n",
              "      flex-wrap:wrap;\n",
              "      gap: 12px;\n",
              "    }\n",
              "\n",
              "    .colab-df-convert {\n",
              "      background-color: #E8F0FE;\n",
              "      border: none;\n",
              "      border-radius: 50%;\n",
              "      cursor: pointer;\n",
              "      display: none;\n",
              "      fill: #1967D2;\n",
              "      height: 32px;\n",
              "      padding: 0 0 0 0;\n",
              "      width: 32px;\n",
              "    }\n",
              "\n",
              "    .colab-df-convert:hover {\n",
              "      background-color: #E2EBFA;\n",
              "      box-shadow: 0px 1px 2px rgba(60, 64, 67, 0.3), 0px 1px 3px 1px rgba(60, 64, 67, 0.15);\n",
              "      fill: #174EA6;\n",
              "    }\n",
              "\n",
              "    [theme=dark] .colab-df-convert {\n",
              "      background-color: #3B4455;\n",
              "      fill: #D2E3FC;\n",
              "    }\n",
              "\n",
              "    [theme=dark] .colab-df-convert:hover {\n",
              "      background-color: #434B5C;\n",
              "      box-shadow: 0px 1px 3px 1px rgba(0, 0, 0, 0.15);\n",
              "      filter: drop-shadow(0px 1px 2px rgba(0, 0, 0, 0.3));\n",
              "      fill: #FFFFFF;\n",
              "    }\n",
              "  </style>\n",
              "\n",
              "      <script>\n",
              "        const buttonEl =\n",
              "          document.querySelector('#df-5e1dbf47-52db-452a-8a11-32936bcfe61e button.colab-df-convert');\n",
              "        buttonEl.style.display =\n",
              "          google.colab.kernel.accessAllowed ? 'block' : 'none';\n",
              "\n",
              "        async function convertToInteractive(key) {\n",
              "          const element = document.querySelector('#df-5e1dbf47-52db-452a-8a11-32936bcfe61e');\n",
              "          const dataTable =\n",
              "            await google.colab.kernel.invokeFunction('convertToInteractive',\n",
              "                                                     [key], {});\n",
              "          if (!dataTable) return;\n",
              "\n",
              "          const docLinkHtml = 'Like what you see? Visit the ' +\n",
              "            '<a target=\"_blank\" href=https://colab.research.google.com/notebooks/data_table.ipynb>data table notebook</a>'\n",
              "            + ' to learn more about interactive tables.';\n",
              "          element.innerHTML = '';\n",
              "          dataTable['output_type'] = 'display_data';\n",
              "          await google.colab.output.renderOutput(dataTable, element);\n",
              "          const docLink = document.createElement('div');\n",
              "          docLink.innerHTML = docLinkHtml;\n",
              "          element.appendChild(docLink);\n",
              "        }\n",
              "      </script>\n",
              "    </div>\n",
              "  </div>\n",
              "  "
            ]
          },
          "metadata": {},
          "execution_count": 22
        }
      ]
    },
    {
      "cell_type": "code",
      "source": [
        "#dfNonADHDhalf means processed half but has full non-ADHD records - \n",
        "#left as half as the name as the file was saved in that name.\n",
        "#Not yet filtered.\n",
        "dfNonADHD.to_csv(\"/content/drive/MyDrive/CSVsb4filterADHDAndNon/dfNonADHDhalf.csv\")"
      ],
      "metadata": {
        "id": "2Xu0rFdtQbtQ"
      },
      "execution_count": null,
      "outputs": []
    },
    {
      "cell_type": "code",
      "source": [
        "# Data Visualisation ADHD: \n",
        "#commented out for running time. Image generated in submitted paper.\n",
        "import numpy as np\n",
        "import pandas as pd \n",
        "# import mne\n",
        "\n",
        "path = PATH\n",
        "#Valid code to plot EEG data in channels , commented out for running time.\n",
        "# sfreq = 128 \n",
        "# info = mne.create_info(ch_names = channel_names, sfreq = sfreq)\n",
        "# raw = mne.io.RawArray(dfAll.transpose(), info)\n",
        "# raw.plot()"
      ],
      "metadata": {
        "id": "UvJn_Zpfz-AT"
      },
      "execution_count": null,
      "outputs": []
    },
    {
      "cell_type": "code",
      "source": [
        "#Not dropping any column as visual inspection does not show bad channels. The fluctuations can be corrected in filtering. "
      ],
      "metadata": {
        "id": "J3a4ujAGWxvG"
      },
      "execution_count": null,
      "outputs": []
    },
    {
      "cell_type": "markdown",
      "source": [
        "#Filtering using scipy: \n",
        "#Go to next files: \n",
        "#ADHD_Dataset_I_Part_IB_Filtering_ICA \n",
        "AND\n",
        "#NonADHD_Dataset_I_Part_IB_Filtering_ICA\n",
        "Separate files for ADHD and NON-ADHD created due to heavy data."
      ],
      "metadata": {
        "id": "S6yVqUMFzq8Y"
      }
    },
    {
      "cell_type": "code",
      "source": [],
      "metadata": {
        "id": "-45Fu3VPbcnL"
      },
      "execution_count": null,
      "outputs": []
    }
  ]
}