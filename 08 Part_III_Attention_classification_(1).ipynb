{
  "cells": [
    {
      "cell_type": "code",
      "execution_count": 458,
      "id": "f5253c66",
      "metadata": {
        "id": "f5253c66"
      },
      "outputs": [],
      "source": [
        "import os\n",
        "import pandas as pd\n",
        "import numpy as np\n",
        "import matplotlib.pyplot as plt\n",
        "from sklearn.metrics import confusion_matrix,classification_report,accuracy_score"
      ]
    },
    {
      "cell_type": "code",
      "source": [
        "from google.colab import drive\n",
        "drive.mount('/content/drive')"
      ],
      "metadata": {
        "colab": {
          "base_uri": "https://localhost:8080/"
        },
        "id": "lbZsr5vq0YgH",
        "outputId": "70bce631-a279-4d5d-d480-aa33ebf155dc"
      },
      "id": "lbZsr5vq0YgH",
      "execution_count": 459,
      "outputs": [
        {
          "output_type": "stream",
          "name": "stdout",
          "text": [
            "Drive already mounted at /content/drive; to attempt to forcibly remount, call drive.mount(\"/content/drive\", force_remount=True).\n"
          ]
        }
      ]
    },
    {
      "cell_type": "code",
      "execution_count": 460,
      "id": "76d14772",
      "metadata": {
        "id": "76d14772"
      },
      "outputs": [],
      "source": [
        "# Enter path of csv files \n",
        "directory = r\"/content/drive/MyDrive/NewCSVs_Dataset_I_BandstoPart-III\""
      ]
    },
    {
      "cell_type": "code",
      "execution_count": 461,
      "id": "e782fea5",
      "metadata": {
        "id": "e782fea5",
        "colab": {
          "base_uri": "https://localhost:8080/"
        },
        "outputId": "3411415d-8414-48ec-8692-28dc1c071de0"
      },
      "outputs": [
        {
          "output_type": "stream",
          "name": "stdout",
          "text": [
            "dftoBands_ADHD_DS_I.csv\n",
            "dftoBands_NonADHD_DS_I (2).csv\n"
          ]
        }
      ],
      "source": [
        "array1 = []\n",
        "for file in os.listdir(directory):\n",
        "    print(file)\n",
        "    filepath = os.path.join(directory,file)\n",
        "    df_temp = pd.read_csv(filepath)\n",
        "    df_temp['Channel'] = file.split('.')[0]\n",
        "    array1.append(df_temp)"
      ]
    },
    {
      "cell_type": "code",
      "execution_count": 462,
      "id": "e2d26d82",
      "metadata": {
        "id": "e2d26d82"
      },
      "outputs": [],
      "source": [
        "df_full = pd.concat(array1)"
      ]
    },
    {
      "cell_type": "code",
      "source": [
        "df_full.head()\n"
      ],
      "metadata": {
        "colab": {
          "base_uri": "https://localhost:8080/",
          "height": 357
        },
        "id": "d3slp58G6cFb",
        "outputId": "a6a402d4-bf3a-4b5b-e4ec-f7fe5e5e78a4"
      },
      "id": "d3slp58G6cFb",
      "execution_count": 463,
      "outputs": [
        {
          "output_type": "execute_result",
          "data": {
            "text/plain": [
              "   Unnamed: 0                        Alpha                        Delta  \\\n",
              "0           0      (17.126143070082815+0j)      (1434.4209980929134+0j)   \n",
              "1           1   (1.847496228582672e-09+0j)   (3.229571758383044e-09+0j)   \n",
              "2           2  (2.2741948545984437e-09+0j)  (3.0108280390504967e-09+0j)   \n",
              "3           3   (2.273839496973852e-09+0j)   (1.860341125090901e-09+0j)   \n",
              "4           4   (2.176594571797716e-09+0j)  (7.1944303860662514e-09+0j)   \n",
              "\n",
              "                          Beta                        Gamma Label channel  \\\n",
              "0      (4.7290877202834505+0j)      (1.3191461850667643+0j)  ADHD       A   \n",
              "1  (4.0883053030412516e-10+0j)   (2.255547147970758e-11+0j)  ADHD       B   \n",
              "2   (5.437074064983138e-10+0j)  (3.9369085531624925e-11+0j)  ADHD       C   \n",
              "3   (8.512306535117899e-10+0j)  (5.2561792361011234e-11+0j)  ADHD       D   \n",
              "4   (4.043242467198278e-10+0j)   (3.319481100827071e-11+0j)  ADHD       E   \n",
              "\n",
              "               Channel  \n",
              "0  dftoBands_ADHD_DS_I  \n",
              "1  dftoBands_ADHD_DS_I  \n",
              "2  dftoBands_ADHD_DS_I  \n",
              "3  dftoBands_ADHD_DS_I  \n",
              "4  dftoBands_ADHD_DS_I  "
            ],
            "text/html": [
              "\n",
              "  <div id=\"df-4231b22a-50aa-4cfe-aa06-ae29b4aee8a9\">\n",
              "    <div class=\"colab-df-container\">\n",
              "      <div>\n",
              "<style scoped>\n",
              "    .dataframe tbody tr th:only-of-type {\n",
              "        vertical-align: middle;\n",
              "    }\n",
              "\n",
              "    .dataframe tbody tr th {\n",
              "        vertical-align: top;\n",
              "    }\n",
              "\n",
              "    .dataframe thead th {\n",
              "        text-align: right;\n",
              "    }\n",
              "</style>\n",
              "<table border=\"1\" class=\"dataframe\">\n",
              "  <thead>\n",
              "    <tr style=\"text-align: right;\">\n",
              "      <th></th>\n",
              "      <th>Unnamed: 0</th>\n",
              "      <th>Alpha</th>\n",
              "      <th>Delta</th>\n",
              "      <th>Beta</th>\n",
              "      <th>Gamma</th>\n",
              "      <th>Label</th>\n",
              "      <th>channel</th>\n",
              "      <th>Channel</th>\n",
              "    </tr>\n",
              "  </thead>\n",
              "  <tbody>\n",
              "    <tr>\n",
              "      <th>0</th>\n",
              "      <td>0</td>\n",
              "      <td>(17.126143070082815+0j)</td>\n",
              "      <td>(1434.4209980929134+0j)</td>\n",
              "      <td>(4.7290877202834505+0j)</td>\n",
              "      <td>(1.3191461850667643+0j)</td>\n",
              "      <td>ADHD</td>\n",
              "      <td>A</td>\n",
              "      <td>dftoBands_ADHD_DS_I</td>\n",
              "    </tr>\n",
              "    <tr>\n",
              "      <th>1</th>\n",
              "      <td>1</td>\n",
              "      <td>(1.847496228582672e-09+0j)</td>\n",
              "      <td>(3.229571758383044e-09+0j)</td>\n",
              "      <td>(4.0883053030412516e-10+0j)</td>\n",
              "      <td>(2.255547147970758e-11+0j)</td>\n",
              "      <td>ADHD</td>\n",
              "      <td>B</td>\n",
              "      <td>dftoBands_ADHD_DS_I</td>\n",
              "    </tr>\n",
              "    <tr>\n",
              "      <th>2</th>\n",
              "      <td>2</td>\n",
              "      <td>(2.2741948545984437e-09+0j)</td>\n",
              "      <td>(3.0108280390504967e-09+0j)</td>\n",
              "      <td>(5.437074064983138e-10+0j)</td>\n",
              "      <td>(3.9369085531624925e-11+0j)</td>\n",
              "      <td>ADHD</td>\n",
              "      <td>C</td>\n",
              "      <td>dftoBands_ADHD_DS_I</td>\n",
              "    </tr>\n",
              "    <tr>\n",
              "      <th>3</th>\n",
              "      <td>3</td>\n",
              "      <td>(2.273839496973852e-09+0j)</td>\n",
              "      <td>(1.860341125090901e-09+0j)</td>\n",
              "      <td>(8.512306535117899e-10+0j)</td>\n",
              "      <td>(5.2561792361011234e-11+0j)</td>\n",
              "      <td>ADHD</td>\n",
              "      <td>D</td>\n",
              "      <td>dftoBands_ADHD_DS_I</td>\n",
              "    </tr>\n",
              "    <tr>\n",
              "      <th>4</th>\n",
              "      <td>4</td>\n",
              "      <td>(2.176594571797716e-09+0j)</td>\n",
              "      <td>(7.1944303860662514e-09+0j)</td>\n",
              "      <td>(4.043242467198278e-10+0j)</td>\n",
              "      <td>(3.319481100827071e-11+0j)</td>\n",
              "      <td>ADHD</td>\n",
              "      <td>E</td>\n",
              "      <td>dftoBands_ADHD_DS_I</td>\n",
              "    </tr>\n",
              "  </tbody>\n",
              "</table>\n",
              "</div>\n",
              "      <button class=\"colab-df-convert\" onclick=\"convertToInteractive('df-4231b22a-50aa-4cfe-aa06-ae29b4aee8a9')\"\n",
              "              title=\"Convert this dataframe to an interactive table.\"\n",
              "              style=\"display:none;\">\n",
              "        \n",
              "  <svg xmlns=\"http://www.w3.org/2000/svg\" height=\"24px\"viewBox=\"0 0 24 24\"\n",
              "       width=\"24px\">\n",
              "    <path d=\"M0 0h24v24H0V0z\" fill=\"none\"/>\n",
              "    <path d=\"M18.56 5.44l.94 2.06.94-2.06 2.06-.94-2.06-.94-.94-2.06-.94 2.06-2.06.94zm-11 1L8.5 8.5l.94-2.06 2.06-.94-2.06-.94L8.5 2.5l-.94 2.06-2.06.94zm10 10l.94 2.06.94-2.06 2.06-.94-2.06-.94-.94-2.06-.94 2.06-2.06.94z\"/><path d=\"M17.41 7.96l-1.37-1.37c-.4-.4-.92-.59-1.43-.59-.52 0-1.04.2-1.43.59L10.3 9.45l-7.72 7.72c-.78.78-.78 2.05 0 2.83L4 21.41c.39.39.9.59 1.41.59.51 0 1.02-.2 1.41-.59l7.78-7.78 2.81-2.81c.8-.78.8-2.07 0-2.86zM5.41 20L4 18.59l7.72-7.72 1.47 1.35L5.41 20z\"/>\n",
              "  </svg>\n",
              "      </button>\n",
              "      \n",
              "  <style>\n",
              "    .colab-df-container {\n",
              "      display:flex;\n",
              "      flex-wrap:wrap;\n",
              "      gap: 12px;\n",
              "    }\n",
              "\n",
              "    .colab-df-convert {\n",
              "      background-color: #E8F0FE;\n",
              "      border: none;\n",
              "      border-radius: 50%;\n",
              "      cursor: pointer;\n",
              "      display: none;\n",
              "      fill: #1967D2;\n",
              "      height: 32px;\n",
              "      padding: 0 0 0 0;\n",
              "      width: 32px;\n",
              "    }\n",
              "\n",
              "    .colab-df-convert:hover {\n",
              "      background-color: #E2EBFA;\n",
              "      box-shadow: 0px 1px 2px rgba(60, 64, 67, 0.3), 0px 1px 3px 1px rgba(60, 64, 67, 0.15);\n",
              "      fill: #174EA6;\n",
              "    }\n",
              "\n",
              "    [theme=dark] .colab-df-convert {\n",
              "      background-color: #3B4455;\n",
              "      fill: #D2E3FC;\n",
              "    }\n",
              "\n",
              "    [theme=dark] .colab-df-convert:hover {\n",
              "      background-color: #434B5C;\n",
              "      box-shadow: 0px 1px 3px 1px rgba(0, 0, 0, 0.15);\n",
              "      filter: drop-shadow(0px 1px 2px rgba(0, 0, 0, 0.3));\n",
              "      fill: #FFFFFF;\n",
              "    }\n",
              "  </style>\n",
              "\n",
              "      <script>\n",
              "        const buttonEl =\n",
              "          document.querySelector('#df-4231b22a-50aa-4cfe-aa06-ae29b4aee8a9 button.colab-df-convert');\n",
              "        buttonEl.style.display =\n",
              "          google.colab.kernel.accessAllowed ? 'block' : 'none';\n",
              "\n",
              "        async function convertToInteractive(key) {\n",
              "          const element = document.querySelector('#df-4231b22a-50aa-4cfe-aa06-ae29b4aee8a9');\n",
              "          const dataTable =\n",
              "            await google.colab.kernel.invokeFunction('convertToInteractive',\n",
              "                                                     [key], {});\n",
              "          if (!dataTable) return;\n",
              "\n",
              "          const docLinkHtml = 'Like what you see? Visit the ' +\n",
              "            '<a target=\"_blank\" href=https://colab.research.google.com/notebooks/data_table.ipynb>data table notebook</a>'\n",
              "            + ' to learn more about interactive tables.';\n",
              "          element.innerHTML = '';\n",
              "          dataTable['output_type'] = 'display_data';\n",
              "          await google.colab.output.renderOutput(dataTable, element);\n",
              "          const docLink = document.createElement('div');\n",
              "          docLink.innerHTML = docLinkHtml;\n",
              "          element.appendChild(docLink);\n",
              "        }\n",
              "      </script>\n",
              "    </div>\n",
              "  </div>\n",
              "  "
            ]
          },
          "metadata": {},
          "execution_count": 463
        }
      ]
    },
    {
      "cell_type": "code",
      "source": [
        "df_full.tail()\n"
      ],
      "metadata": {
        "colab": {
          "base_uri": "https://localhost:8080/",
          "height": 374
        },
        "id": "RnzGlFBAR1vD",
        "outputId": "9d012af5-3706-412c-9b32-4292657f5cc9"
      },
      "id": "RnzGlFBAR1vD",
      "execution_count": 464,
      "outputs": [
        {
          "output_type": "execute_result",
          "data": {
            "text/plain": [
              "     Unnamed: 0                        Alpha                        Delta  \\\n",
              "415         415   (1.103940518940607e-08+0j)  (2.0404627078432958e-08+0j)   \n",
              "416         416   (1.108799317415138e-08+0j)   (3.930446837026337e-08+0j)   \n",
              "417         417   (4.416488845879002e-09+0j)  (3.5385983042199653e-09+0j)   \n",
              "418         418  (3.6852514923257346e-09+0j)  (1.2318290094037678e-07+0j)   \n",
              "419         419  (1.3040425753357755e-08+0j)   (5.991020416572615e-09+0j)   \n",
              "\n",
              "                            Beta                        Gamma     Label  \\\n",
              "415  (6.2965566607948974e-09+0j)  (2.0884034933077726e-10+0j)  Non_ADHD   \n",
              "416   (1.183012702423081e-08+0j)   (1.261700334607794e-09+0j)  Non_ADHD   \n",
              "417   (3.174963956965538e-09+0j)   (1.942529673587103e-10+0j)  Non_ADHD   \n",
              "418  (1.1149530601489274e-09+0j)  (1.5212105223522044e-10+0j)  Non_ADHD   \n",
              "419   (8.106773181459512e-09+0j)   (9.359845653835672e-10+0j)  Non_ADHD   \n",
              "\n",
              "    channel                     Channel  \n",
              "415       C  dftoBands_NonADHD_DS_I (2)  \n",
              "416       D  dftoBands_NonADHD_DS_I (2)  \n",
              "417       E  dftoBands_NonADHD_DS_I (2)  \n",
              "418       F  dftoBands_NonADHD_DS_I (2)  \n",
              "419       G  dftoBands_NonADHD_DS_I (2)  "
            ],
            "text/html": [
              "\n",
              "  <div id=\"df-c74c21fb-32f9-4b7c-81c7-746570ae01be\">\n",
              "    <div class=\"colab-df-container\">\n",
              "      <div>\n",
              "<style scoped>\n",
              "    .dataframe tbody tr th:only-of-type {\n",
              "        vertical-align: middle;\n",
              "    }\n",
              "\n",
              "    .dataframe tbody tr th {\n",
              "        vertical-align: top;\n",
              "    }\n",
              "\n",
              "    .dataframe thead th {\n",
              "        text-align: right;\n",
              "    }\n",
              "</style>\n",
              "<table border=\"1\" class=\"dataframe\">\n",
              "  <thead>\n",
              "    <tr style=\"text-align: right;\">\n",
              "      <th></th>\n",
              "      <th>Unnamed: 0</th>\n",
              "      <th>Alpha</th>\n",
              "      <th>Delta</th>\n",
              "      <th>Beta</th>\n",
              "      <th>Gamma</th>\n",
              "      <th>Label</th>\n",
              "      <th>channel</th>\n",
              "      <th>Channel</th>\n",
              "    </tr>\n",
              "  </thead>\n",
              "  <tbody>\n",
              "    <tr>\n",
              "      <th>415</th>\n",
              "      <td>415</td>\n",
              "      <td>(1.103940518940607e-08+0j)</td>\n",
              "      <td>(2.0404627078432958e-08+0j)</td>\n",
              "      <td>(6.2965566607948974e-09+0j)</td>\n",
              "      <td>(2.0884034933077726e-10+0j)</td>\n",
              "      <td>Non_ADHD</td>\n",
              "      <td>C</td>\n",
              "      <td>dftoBands_NonADHD_DS_I (2)</td>\n",
              "    </tr>\n",
              "    <tr>\n",
              "      <th>416</th>\n",
              "      <td>416</td>\n",
              "      <td>(1.108799317415138e-08+0j)</td>\n",
              "      <td>(3.930446837026337e-08+0j)</td>\n",
              "      <td>(1.183012702423081e-08+0j)</td>\n",
              "      <td>(1.261700334607794e-09+0j)</td>\n",
              "      <td>Non_ADHD</td>\n",
              "      <td>D</td>\n",
              "      <td>dftoBands_NonADHD_DS_I (2)</td>\n",
              "    </tr>\n",
              "    <tr>\n",
              "      <th>417</th>\n",
              "      <td>417</td>\n",
              "      <td>(4.416488845879002e-09+0j)</td>\n",
              "      <td>(3.5385983042199653e-09+0j)</td>\n",
              "      <td>(3.174963956965538e-09+0j)</td>\n",
              "      <td>(1.942529673587103e-10+0j)</td>\n",
              "      <td>Non_ADHD</td>\n",
              "      <td>E</td>\n",
              "      <td>dftoBands_NonADHD_DS_I (2)</td>\n",
              "    </tr>\n",
              "    <tr>\n",
              "      <th>418</th>\n",
              "      <td>418</td>\n",
              "      <td>(3.6852514923257346e-09+0j)</td>\n",
              "      <td>(1.2318290094037678e-07+0j)</td>\n",
              "      <td>(1.1149530601489274e-09+0j)</td>\n",
              "      <td>(1.5212105223522044e-10+0j)</td>\n",
              "      <td>Non_ADHD</td>\n",
              "      <td>F</td>\n",
              "      <td>dftoBands_NonADHD_DS_I (2)</td>\n",
              "    </tr>\n",
              "    <tr>\n",
              "      <th>419</th>\n",
              "      <td>419</td>\n",
              "      <td>(1.3040425753357755e-08+0j)</td>\n",
              "      <td>(5.991020416572615e-09+0j)</td>\n",
              "      <td>(8.106773181459512e-09+0j)</td>\n",
              "      <td>(9.359845653835672e-10+0j)</td>\n",
              "      <td>Non_ADHD</td>\n",
              "      <td>G</td>\n",
              "      <td>dftoBands_NonADHD_DS_I (2)</td>\n",
              "    </tr>\n",
              "  </tbody>\n",
              "</table>\n",
              "</div>\n",
              "      <button class=\"colab-df-convert\" onclick=\"convertToInteractive('df-c74c21fb-32f9-4b7c-81c7-746570ae01be')\"\n",
              "              title=\"Convert this dataframe to an interactive table.\"\n",
              "              style=\"display:none;\">\n",
              "        \n",
              "  <svg xmlns=\"http://www.w3.org/2000/svg\" height=\"24px\"viewBox=\"0 0 24 24\"\n",
              "       width=\"24px\">\n",
              "    <path d=\"M0 0h24v24H0V0z\" fill=\"none\"/>\n",
              "    <path d=\"M18.56 5.44l.94 2.06.94-2.06 2.06-.94-2.06-.94-.94-2.06-.94 2.06-2.06.94zm-11 1L8.5 8.5l.94-2.06 2.06-.94-2.06-.94L8.5 2.5l-.94 2.06-2.06.94zm10 10l.94 2.06.94-2.06 2.06-.94-2.06-.94-.94-2.06-.94 2.06-2.06.94z\"/><path d=\"M17.41 7.96l-1.37-1.37c-.4-.4-.92-.59-1.43-.59-.52 0-1.04.2-1.43.59L10.3 9.45l-7.72 7.72c-.78.78-.78 2.05 0 2.83L4 21.41c.39.39.9.59 1.41.59.51 0 1.02-.2 1.41-.59l7.78-7.78 2.81-2.81c.8-.78.8-2.07 0-2.86zM5.41 20L4 18.59l7.72-7.72 1.47 1.35L5.41 20z\"/>\n",
              "  </svg>\n",
              "      </button>\n",
              "      \n",
              "  <style>\n",
              "    .colab-df-container {\n",
              "      display:flex;\n",
              "      flex-wrap:wrap;\n",
              "      gap: 12px;\n",
              "    }\n",
              "\n",
              "    .colab-df-convert {\n",
              "      background-color: #E8F0FE;\n",
              "      border: none;\n",
              "      border-radius: 50%;\n",
              "      cursor: pointer;\n",
              "      display: none;\n",
              "      fill: #1967D2;\n",
              "      height: 32px;\n",
              "      padding: 0 0 0 0;\n",
              "      width: 32px;\n",
              "    }\n",
              "\n",
              "    .colab-df-convert:hover {\n",
              "      background-color: #E2EBFA;\n",
              "      box-shadow: 0px 1px 2px rgba(60, 64, 67, 0.3), 0px 1px 3px 1px rgba(60, 64, 67, 0.15);\n",
              "      fill: #174EA6;\n",
              "    }\n",
              "\n",
              "    [theme=dark] .colab-df-convert {\n",
              "      background-color: #3B4455;\n",
              "      fill: #D2E3FC;\n",
              "    }\n",
              "\n",
              "    [theme=dark] .colab-df-convert:hover {\n",
              "      background-color: #434B5C;\n",
              "      box-shadow: 0px 1px 3px 1px rgba(0, 0, 0, 0.15);\n",
              "      filter: drop-shadow(0px 1px 2px rgba(0, 0, 0, 0.3));\n",
              "      fill: #FFFFFF;\n",
              "    }\n",
              "  </style>\n",
              "\n",
              "      <script>\n",
              "        const buttonEl =\n",
              "          document.querySelector('#df-c74c21fb-32f9-4b7c-81c7-746570ae01be button.colab-df-convert');\n",
              "        buttonEl.style.display =\n",
              "          google.colab.kernel.accessAllowed ? 'block' : 'none';\n",
              "\n",
              "        async function convertToInteractive(key) {\n",
              "          const element = document.querySelector('#df-c74c21fb-32f9-4b7c-81c7-746570ae01be');\n",
              "          const dataTable =\n",
              "            await google.colab.kernel.invokeFunction('convertToInteractive',\n",
              "                                                     [key], {});\n",
              "          if (!dataTable) return;\n",
              "\n",
              "          const docLinkHtml = 'Like what you see? Visit the ' +\n",
              "            '<a target=\"_blank\" href=https://colab.research.google.com/notebooks/data_table.ipynb>data table notebook</a>'\n",
              "            + ' to learn more about interactive tables.';\n",
              "          element.innerHTML = '';\n",
              "          dataTable['output_type'] = 'display_data';\n",
              "          await google.colab.output.renderOutput(dataTable, element);\n",
              "          const docLink = document.createElement('div');\n",
              "          docLink.innerHTML = docLinkHtml;\n",
              "          element.appendChild(docLink);\n",
              "        }\n",
              "      </script>\n",
              "    </div>\n",
              "  </div>\n",
              "  "
            ]
          },
          "metadata": {},
          "execution_count": 464
        }
      ]
    },
    {
      "cell_type": "code",
      "source": [
        "duplicate = df_full[df_full.duplicated()]\n",
        " \n",
        "print(\"Duplicate Rows :\")"
      ],
      "metadata": {
        "colab": {
          "base_uri": "https://localhost:8080/"
        },
        "id": "N6S-4ulZcb5l",
        "outputId": "f49e3bad-05d2-4503-88be-88c9aabd9a2e"
      },
      "id": "N6S-4ulZcb5l",
      "execution_count": 465,
      "outputs": [
        {
          "output_type": "stream",
          "name": "stdout",
          "text": [
            "Duplicate Rows :\n"
          ]
        }
      ]
    },
    {
      "cell_type": "code",
      "source": [
        "df_full.tail()"
      ],
      "metadata": {
        "colab": {
          "base_uri": "https://localhost:8080/",
          "height": 374
        },
        "id": "7mSoXrki01KH",
        "outputId": "b73c3cef-c873-4d2b-aedc-d7ddf67fa14b"
      },
      "id": "7mSoXrki01KH",
      "execution_count": 466,
      "outputs": [
        {
          "output_type": "execute_result",
          "data": {
            "text/plain": [
              "     Unnamed: 0                        Alpha                        Delta  \\\n",
              "415         415   (1.103940518940607e-08+0j)  (2.0404627078432958e-08+0j)   \n",
              "416         416   (1.108799317415138e-08+0j)   (3.930446837026337e-08+0j)   \n",
              "417         417   (4.416488845879002e-09+0j)  (3.5385983042199653e-09+0j)   \n",
              "418         418  (3.6852514923257346e-09+0j)  (1.2318290094037678e-07+0j)   \n",
              "419         419  (1.3040425753357755e-08+0j)   (5.991020416572615e-09+0j)   \n",
              "\n",
              "                            Beta                        Gamma     Label  \\\n",
              "415  (6.2965566607948974e-09+0j)  (2.0884034933077726e-10+0j)  Non_ADHD   \n",
              "416   (1.183012702423081e-08+0j)   (1.261700334607794e-09+0j)  Non_ADHD   \n",
              "417   (3.174963956965538e-09+0j)   (1.942529673587103e-10+0j)  Non_ADHD   \n",
              "418  (1.1149530601489274e-09+0j)  (1.5212105223522044e-10+0j)  Non_ADHD   \n",
              "419   (8.106773181459512e-09+0j)   (9.359845653835672e-10+0j)  Non_ADHD   \n",
              "\n",
              "    channel                     Channel  \n",
              "415       C  dftoBands_NonADHD_DS_I (2)  \n",
              "416       D  dftoBands_NonADHD_DS_I (2)  \n",
              "417       E  dftoBands_NonADHD_DS_I (2)  \n",
              "418       F  dftoBands_NonADHD_DS_I (2)  \n",
              "419       G  dftoBands_NonADHD_DS_I (2)  "
            ],
            "text/html": [
              "\n",
              "  <div id=\"df-7b1876e3-19c2-4ebc-8d6a-243b9f4fad5f\">\n",
              "    <div class=\"colab-df-container\">\n",
              "      <div>\n",
              "<style scoped>\n",
              "    .dataframe tbody tr th:only-of-type {\n",
              "        vertical-align: middle;\n",
              "    }\n",
              "\n",
              "    .dataframe tbody tr th {\n",
              "        vertical-align: top;\n",
              "    }\n",
              "\n",
              "    .dataframe thead th {\n",
              "        text-align: right;\n",
              "    }\n",
              "</style>\n",
              "<table border=\"1\" class=\"dataframe\">\n",
              "  <thead>\n",
              "    <tr style=\"text-align: right;\">\n",
              "      <th></th>\n",
              "      <th>Unnamed: 0</th>\n",
              "      <th>Alpha</th>\n",
              "      <th>Delta</th>\n",
              "      <th>Beta</th>\n",
              "      <th>Gamma</th>\n",
              "      <th>Label</th>\n",
              "      <th>channel</th>\n",
              "      <th>Channel</th>\n",
              "    </tr>\n",
              "  </thead>\n",
              "  <tbody>\n",
              "    <tr>\n",
              "      <th>415</th>\n",
              "      <td>415</td>\n",
              "      <td>(1.103940518940607e-08+0j)</td>\n",
              "      <td>(2.0404627078432958e-08+0j)</td>\n",
              "      <td>(6.2965566607948974e-09+0j)</td>\n",
              "      <td>(2.0884034933077726e-10+0j)</td>\n",
              "      <td>Non_ADHD</td>\n",
              "      <td>C</td>\n",
              "      <td>dftoBands_NonADHD_DS_I (2)</td>\n",
              "    </tr>\n",
              "    <tr>\n",
              "      <th>416</th>\n",
              "      <td>416</td>\n",
              "      <td>(1.108799317415138e-08+0j)</td>\n",
              "      <td>(3.930446837026337e-08+0j)</td>\n",
              "      <td>(1.183012702423081e-08+0j)</td>\n",
              "      <td>(1.261700334607794e-09+0j)</td>\n",
              "      <td>Non_ADHD</td>\n",
              "      <td>D</td>\n",
              "      <td>dftoBands_NonADHD_DS_I (2)</td>\n",
              "    </tr>\n",
              "    <tr>\n",
              "      <th>417</th>\n",
              "      <td>417</td>\n",
              "      <td>(4.416488845879002e-09+0j)</td>\n",
              "      <td>(3.5385983042199653e-09+0j)</td>\n",
              "      <td>(3.174963956965538e-09+0j)</td>\n",
              "      <td>(1.942529673587103e-10+0j)</td>\n",
              "      <td>Non_ADHD</td>\n",
              "      <td>E</td>\n",
              "      <td>dftoBands_NonADHD_DS_I (2)</td>\n",
              "    </tr>\n",
              "    <tr>\n",
              "      <th>418</th>\n",
              "      <td>418</td>\n",
              "      <td>(3.6852514923257346e-09+0j)</td>\n",
              "      <td>(1.2318290094037678e-07+0j)</td>\n",
              "      <td>(1.1149530601489274e-09+0j)</td>\n",
              "      <td>(1.5212105223522044e-10+0j)</td>\n",
              "      <td>Non_ADHD</td>\n",
              "      <td>F</td>\n",
              "      <td>dftoBands_NonADHD_DS_I (2)</td>\n",
              "    </tr>\n",
              "    <tr>\n",
              "      <th>419</th>\n",
              "      <td>419</td>\n",
              "      <td>(1.3040425753357755e-08+0j)</td>\n",
              "      <td>(5.991020416572615e-09+0j)</td>\n",
              "      <td>(8.106773181459512e-09+0j)</td>\n",
              "      <td>(9.359845653835672e-10+0j)</td>\n",
              "      <td>Non_ADHD</td>\n",
              "      <td>G</td>\n",
              "      <td>dftoBands_NonADHD_DS_I (2)</td>\n",
              "    </tr>\n",
              "  </tbody>\n",
              "</table>\n",
              "</div>\n",
              "      <button class=\"colab-df-convert\" onclick=\"convertToInteractive('df-7b1876e3-19c2-4ebc-8d6a-243b9f4fad5f')\"\n",
              "              title=\"Convert this dataframe to an interactive table.\"\n",
              "              style=\"display:none;\">\n",
              "        \n",
              "  <svg xmlns=\"http://www.w3.org/2000/svg\" height=\"24px\"viewBox=\"0 0 24 24\"\n",
              "       width=\"24px\">\n",
              "    <path d=\"M0 0h24v24H0V0z\" fill=\"none\"/>\n",
              "    <path d=\"M18.56 5.44l.94 2.06.94-2.06 2.06-.94-2.06-.94-.94-2.06-.94 2.06-2.06.94zm-11 1L8.5 8.5l.94-2.06 2.06-.94-2.06-.94L8.5 2.5l-.94 2.06-2.06.94zm10 10l.94 2.06.94-2.06 2.06-.94-2.06-.94-.94-2.06-.94 2.06-2.06.94z\"/><path d=\"M17.41 7.96l-1.37-1.37c-.4-.4-.92-.59-1.43-.59-.52 0-1.04.2-1.43.59L10.3 9.45l-7.72 7.72c-.78.78-.78 2.05 0 2.83L4 21.41c.39.39.9.59 1.41.59.51 0 1.02-.2 1.41-.59l7.78-7.78 2.81-2.81c.8-.78.8-2.07 0-2.86zM5.41 20L4 18.59l7.72-7.72 1.47 1.35L5.41 20z\"/>\n",
              "  </svg>\n",
              "      </button>\n",
              "      \n",
              "  <style>\n",
              "    .colab-df-container {\n",
              "      display:flex;\n",
              "      flex-wrap:wrap;\n",
              "      gap: 12px;\n",
              "    }\n",
              "\n",
              "    .colab-df-convert {\n",
              "      background-color: #E8F0FE;\n",
              "      border: none;\n",
              "      border-radius: 50%;\n",
              "      cursor: pointer;\n",
              "      display: none;\n",
              "      fill: #1967D2;\n",
              "      height: 32px;\n",
              "      padding: 0 0 0 0;\n",
              "      width: 32px;\n",
              "    }\n",
              "\n",
              "    .colab-df-convert:hover {\n",
              "      background-color: #E2EBFA;\n",
              "      box-shadow: 0px 1px 2px rgba(60, 64, 67, 0.3), 0px 1px 3px 1px rgba(60, 64, 67, 0.15);\n",
              "      fill: #174EA6;\n",
              "    }\n",
              "\n",
              "    [theme=dark] .colab-df-convert {\n",
              "      background-color: #3B4455;\n",
              "      fill: #D2E3FC;\n",
              "    }\n",
              "\n",
              "    [theme=dark] .colab-df-convert:hover {\n",
              "      background-color: #434B5C;\n",
              "      box-shadow: 0px 1px 3px 1px rgba(0, 0, 0, 0.15);\n",
              "      filter: drop-shadow(0px 1px 2px rgba(0, 0, 0, 0.3));\n",
              "      fill: #FFFFFF;\n",
              "    }\n",
              "  </style>\n",
              "\n",
              "      <script>\n",
              "        const buttonEl =\n",
              "          document.querySelector('#df-7b1876e3-19c2-4ebc-8d6a-243b9f4fad5f button.colab-df-convert');\n",
              "        buttonEl.style.display =\n",
              "          google.colab.kernel.accessAllowed ? 'block' : 'none';\n",
              "\n",
              "        async function convertToInteractive(key) {\n",
              "          const element = document.querySelector('#df-7b1876e3-19c2-4ebc-8d6a-243b9f4fad5f');\n",
              "          const dataTable =\n",
              "            await google.colab.kernel.invokeFunction('convertToInteractive',\n",
              "                                                     [key], {});\n",
              "          if (!dataTable) return;\n",
              "\n",
              "          const docLinkHtml = 'Like what you see? Visit the ' +\n",
              "            '<a target=\"_blank\" href=https://colab.research.google.com/notebooks/data_table.ipynb>data table notebook</a>'\n",
              "            + ' to learn more about interactive tables.';\n",
              "          element.innerHTML = '';\n",
              "          dataTable['output_type'] = 'display_data';\n",
              "          await google.colab.output.renderOutput(dataTable, element);\n",
              "          const docLink = document.createElement('div');\n",
              "          docLink.innerHTML = docLinkHtml;\n",
              "          element.appendChild(docLink);\n",
              "        }\n",
              "      </script>\n",
              "    </div>\n",
              "  </div>\n",
              "  "
            ]
          },
          "metadata": {},
          "execution_count": 466
        }
      ]
    },
    {
      "cell_type": "code",
      "source": [
        "for col in 'Alpha Beta Gamma Delta'.split():\n",
        "    df_full[col] = df_full[col].apply(\n",
        "        lambda s: complex(s).real\n",
        "    )\n",
        "\n",
        "df_full.head()"
      ],
      "metadata": {
        "id": "XLxFkm3WT_uX",
        "colab": {
          "base_uri": "https://localhost:8080/",
          "height": 206
        },
        "outputId": "ee57b712-e731-448d-c869-177d615ace93"
      },
      "id": "XLxFkm3WT_uX",
      "execution_count": 467,
      "outputs": [
        {
          "output_type": "execute_result",
          "data": {
            "text/plain": [
              "   Unnamed: 0         Alpha         Delta          Beta         Gamma Label  \\\n",
              "0           0  1.712614e+01  1.434421e+03  4.729088e+00  1.319146e+00  ADHD   \n",
              "1           1  1.847496e-09  3.229572e-09  4.088305e-10  2.255547e-11  ADHD   \n",
              "2           2  2.274195e-09  3.010828e-09  5.437074e-10  3.936909e-11  ADHD   \n",
              "3           3  2.273839e-09  1.860341e-09  8.512307e-10  5.256179e-11  ADHD   \n",
              "4           4  2.176595e-09  7.194430e-09  4.043242e-10  3.319481e-11  ADHD   \n",
              "\n",
              "  channel              Channel  \n",
              "0       A  dftoBands_ADHD_DS_I  \n",
              "1       B  dftoBands_ADHD_DS_I  \n",
              "2       C  dftoBands_ADHD_DS_I  \n",
              "3       D  dftoBands_ADHD_DS_I  \n",
              "4       E  dftoBands_ADHD_DS_I  "
            ],
            "text/html": [
              "\n",
              "  <div id=\"df-222bd8b8-7336-482e-abbf-c3f7c97799bd\">\n",
              "    <div class=\"colab-df-container\">\n",
              "      <div>\n",
              "<style scoped>\n",
              "    .dataframe tbody tr th:only-of-type {\n",
              "        vertical-align: middle;\n",
              "    }\n",
              "\n",
              "    .dataframe tbody tr th {\n",
              "        vertical-align: top;\n",
              "    }\n",
              "\n",
              "    .dataframe thead th {\n",
              "        text-align: right;\n",
              "    }\n",
              "</style>\n",
              "<table border=\"1\" class=\"dataframe\">\n",
              "  <thead>\n",
              "    <tr style=\"text-align: right;\">\n",
              "      <th></th>\n",
              "      <th>Unnamed: 0</th>\n",
              "      <th>Alpha</th>\n",
              "      <th>Delta</th>\n",
              "      <th>Beta</th>\n",
              "      <th>Gamma</th>\n",
              "      <th>Label</th>\n",
              "      <th>channel</th>\n",
              "      <th>Channel</th>\n",
              "    </tr>\n",
              "  </thead>\n",
              "  <tbody>\n",
              "    <tr>\n",
              "      <th>0</th>\n",
              "      <td>0</td>\n",
              "      <td>1.712614e+01</td>\n",
              "      <td>1.434421e+03</td>\n",
              "      <td>4.729088e+00</td>\n",
              "      <td>1.319146e+00</td>\n",
              "      <td>ADHD</td>\n",
              "      <td>A</td>\n",
              "      <td>dftoBands_ADHD_DS_I</td>\n",
              "    </tr>\n",
              "    <tr>\n",
              "      <th>1</th>\n",
              "      <td>1</td>\n",
              "      <td>1.847496e-09</td>\n",
              "      <td>3.229572e-09</td>\n",
              "      <td>4.088305e-10</td>\n",
              "      <td>2.255547e-11</td>\n",
              "      <td>ADHD</td>\n",
              "      <td>B</td>\n",
              "      <td>dftoBands_ADHD_DS_I</td>\n",
              "    </tr>\n",
              "    <tr>\n",
              "      <th>2</th>\n",
              "      <td>2</td>\n",
              "      <td>2.274195e-09</td>\n",
              "      <td>3.010828e-09</td>\n",
              "      <td>5.437074e-10</td>\n",
              "      <td>3.936909e-11</td>\n",
              "      <td>ADHD</td>\n",
              "      <td>C</td>\n",
              "      <td>dftoBands_ADHD_DS_I</td>\n",
              "    </tr>\n",
              "    <tr>\n",
              "      <th>3</th>\n",
              "      <td>3</td>\n",
              "      <td>2.273839e-09</td>\n",
              "      <td>1.860341e-09</td>\n",
              "      <td>8.512307e-10</td>\n",
              "      <td>5.256179e-11</td>\n",
              "      <td>ADHD</td>\n",
              "      <td>D</td>\n",
              "      <td>dftoBands_ADHD_DS_I</td>\n",
              "    </tr>\n",
              "    <tr>\n",
              "      <th>4</th>\n",
              "      <td>4</td>\n",
              "      <td>2.176595e-09</td>\n",
              "      <td>7.194430e-09</td>\n",
              "      <td>4.043242e-10</td>\n",
              "      <td>3.319481e-11</td>\n",
              "      <td>ADHD</td>\n",
              "      <td>E</td>\n",
              "      <td>dftoBands_ADHD_DS_I</td>\n",
              "    </tr>\n",
              "  </tbody>\n",
              "</table>\n",
              "</div>\n",
              "      <button class=\"colab-df-convert\" onclick=\"convertToInteractive('df-222bd8b8-7336-482e-abbf-c3f7c97799bd')\"\n",
              "              title=\"Convert this dataframe to an interactive table.\"\n",
              "              style=\"display:none;\">\n",
              "        \n",
              "  <svg xmlns=\"http://www.w3.org/2000/svg\" height=\"24px\"viewBox=\"0 0 24 24\"\n",
              "       width=\"24px\">\n",
              "    <path d=\"M0 0h24v24H0V0z\" fill=\"none\"/>\n",
              "    <path d=\"M18.56 5.44l.94 2.06.94-2.06 2.06-.94-2.06-.94-.94-2.06-.94 2.06-2.06.94zm-11 1L8.5 8.5l.94-2.06 2.06-.94-2.06-.94L8.5 2.5l-.94 2.06-2.06.94zm10 10l.94 2.06.94-2.06 2.06-.94-2.06-.94-.94-2.06-.94 2.06-2.06.94z\"/><path d=\"M17.41 7.96l-1.37-1.37c-.4-.4-.92-.59-1.43-.59-.52 0-1.04.2-1.43.59L10.3 9.45l-7.72 7.72c-.78.78-.78 2.05 0 2.83L4 21.41c.39.39.9.59 1.41.59.51 0 1.02-.2 1.41-.59l7.78-7.78 2.81-2.81c.8-.78.8-2.07 0-2.86zM5.41 20L4 18.59l7.72-7.72 1.47 1.35L5.41 20z\"/>\n",
              "  </svg>\n",
              "      </button>\n",
              "      \n",
              "  <style>\n",
              "    .colab-df-container {\n",
              "      display:flex;\n",
              "      flex-wrap:wrap;\n",
              "      gap: 12px;\n",
              "    }\n",
              "\n",
              "    .colab-df-convert {\n",
              "      background-color: #E8F0FE;\n",
              "      border: none;\n",
              "      border-radius: 50%;\n",
              "      cursor: pointer;\n",
              "      display: none;\n",
              "      fill: #1967D2;\n",
              "      height: 32px;\n",
              "      padding: 0 0 0 0;\n",
              "      width: 32px;\n",
              "    }\n",
              "\n",
              "    .colab-df-convert:hover {\n",
              "      background-color: #E2EBFA;\n",
              "      box-shadow: 0px 1px 2px rgba(60, 64, 67, 0.3), 0px 1px 3px 1px rgba(60, 64, 67, 0.15);\n",
              "      fill: #174EA6;\n",
              "    }\n",
              "\n",
              "    [theme=dark] .colab-df-convert {\n",
              "      background-color: #3B4455;\n",
              "      fill: #D2E3FC;\n",
              "    }\n",
              "\n",
              "    [theme=dark] .colab-df-convert:hover {\n",
              "      background-color: #434B5C;\n",
              "      box-shadow: 0px 1px 3px 1px rgba(0, 0, 0, 0.15);\n",
              "      filter: drop-shadow(0px 1px 2px rgba(0, 0, 0, 0.3));\n",
              "      fill: #FFFFFF;\n",
              "    }\n",
              "  </style>\n",
              "\n",
              "      <script>\n",
              "        const buttonEl =\n",
              "          document.querySelector('#df-222bd8b8-7336-482e-abbf-c3f7c97799bd button.colab-df-convert');\n",
              "        buttonEl.style.display =\n",
              "          google.colab.kernel.accessAllowed ? 'block' : 'none';\n",
              "\n",
              "        async function convertToInteractive(key) {\n",
              "          const element = document.querySelector('#df-222bd8b8-7336-482e-abbf-c3f7c97799bd');\n",
              "          const dataTable =\n",
              "            await google.colab.kernel.invokeFunction('convertToInteractive',\n",
              "                                                     [key], {});\n",
              "          if (!dataTable) return;\n",
              "\n",
              "          const docLinkHtml = 'Like what you see? Visit the ' +\n",
              "            '<a target=\"_blank\" href=https://colab.research.google.com/notebooks/data_table.ipynb>data table notebook</a>'\n",
              "            + ' to learn more about interactive tables.';\n",
              "          element.innerHTML = '';\n",
              "          dataTable['output_type'] = 'display_data';\n",
              "          await google.colab.output.renderOutput(dataTable, element);\n",
              "          const docLink = document.createElement('div');\n",
              "          docLink.innerHTML = docLinkHtml;\n",
              "          element.appendChild(docLink);\n",
              "        }\n",
              "      </script>\n",
              "    </div>\n",
              "  </div>\n",
              "  "
            ]
          },
          "metadata": {},
          "execution_count": 467
        }
      ]
    },
    {
      "cell_type": "code",
      "source": [
        "df_full.dtypes"
      ],
      "metadata": {
        "colab": {
          "base_uri": "https://localhost:8080/"
        },
        "id": "9o0cKIokXwET",
        "outputId": "0d3b684d-e1fe-42da-fadd-280ad87403df"
      },
      "id": "9o0cKIokXwET",
      "execution_count": 468,
      "outputs": [
        {
          "output_type": "execute_result",
          "data": {
            "text/plain": [
              "Unnamed: 0      int64\n",
              "Alpha         float64\n",
              "Delta         float64\n",
              "Beta          float64\n",
              "Gamma         float64\n",
              "Label          object\n",
              "channel        object\n",
              "Channel        object\n",
              "dtype: object"
            ]
          },
          "metadata": {},
          "execution_count": 468
        }
      ]
    },
    {
      "cell_type": "code",
      "execution_count": 469,
      "id": "410e6e98",
      "metadata": {
        "id": "410e6e98"
      },
      "outputs": [],
      "source": [
        "# df_full['Label'] = df_full['Label'].replace(['ADHD','Non_ADHD'],[1,0]) "
      ]
    },
    {
      "cell_type": "code",
      "source": [
        "df_full.head()"
      ],
      "metadata": {
        "colab": {
          "base_uri": "https://localhost:8080/",
          "height": 206
        },
        "id": "vPT9mYNJyeXg",
        "outputId": "82ea0e59-cf9a-4da1-fc4c-c48a7fddca9e"
      },
      "id": "vPT9mYNJyeXg",
      "execution_count": 470,
      "outputs": [
        {
          "output_type": "execute_result",
          "data": {
            "text/plain": [
              "   Unnamed: 0         Alpha         Delta          Beta         Gamma Label  \\\n",
              "0           0  1.712614e+01  1.434421e+03  4.729088e+00  1.319146e+00  ADHD   \n",
              "1           1  1.847496e-09  3.229572e-09  4.088305e-10  2.255547e-11  ADHD   \n",
              "2           2  2.274195e-09  3.010828e-09  5.437074e-10  3.936909e-11  ADHD   \n",
              "3           3  2.273839e-09  1.860341e-09  8.512307e-10  5.256179e-11  ADHD   \n",
              "4           4  2.176595e-09  7.194430e-09  4.043242e-10  3.319481e-11  ADHD   \n",
              "\n",
              "  channel              Channel  \n",
              "0       A  dftoBands_ADHD_DS_I  \n",
              "1       B  dftoBands_ADHD_DS_I  \n",
              "2       C  dftoBands_ADHD_DS_I  \n",
              "3       D  dftoBands_ADHD_DS_I  \n",
              "4       E  dftoBands_ADHD_DS_I  "
            ],
            "text/html": [
              "\n",
              "  <div id=\"df-9f030e6a-9400-47f1-8b6a-b09eb88e96b3\">\n",
              "    <div class=\"colab-df-container\">\n",
              "      <div>\n",
              "<style scoped>\n",
              "    .dataframe tbody tr th:only-of-type {\n",
              "        vertical-align: middle;\n",
              "    }\n",
              "\n",
              "    .dataframe tbody tr th {\n",
              "        vertical-align: top;\n",
              "    }\n",
              "\n",
              "    .dataframe thead th {\n",
              "        text-align: right;\n",
              "    }\n",
              "</style>\n",
              "<table border=\"1\" class=\"dataframe\">\n",
              "  <thead>\n",
              "    <tr style=\"text-align: right;\">\n",
              "      <th></th>\n",
              "      <th>Unnamed: 0</th>\n",
              "      <th>Alpha</th>\n",
              "      <th>Delta</th>\n",
              "      <th>Beta</th>\n",
              "      <th>Gamma</th>\n",
              "      <th>Label</th>\n",
              "      <th>channel</th>\n",
              "      <th>Channel</th>\n",
              "    </tr>\n",
              "  </thead>\n",
              "  <tbody>\n",
              "    <tr>\n",
              "      <th>0</th>\n",
              "      <td>0</td>\n",
              "      <td>1.712614e+01</td>\n",
              "      <td>1.434421e+03</td>\n",
              "      <td>4.729088e+00</td>\n",
              "      <td>1.319146e+00</td>\n",
              "      <td>ADHD</td>\n",
              "      <td>A</td>\n",
              "      <td>dftoBands_ADHD_DS_I</td>\n",
              "    </tr>\n",
              "    <tr>\n",
              "      <th>1</th>\n",
              "      <td>1</td>\n",
              "      <td>1.847496e-09</td>\n",
              "      <td>3.229572e-09</td>\n",
              "      <td>4.088305e-10</td>\n",
              "      <td>2.255547e-11</td>\n",
              "      <td>ADHD</td>\n",
              "      <td>B</td>\n",
              "      <td>dftoBands_ADHD_DS_I</td>\n",
              "    </tr>\n",
              "    <tr>\n",
              "      <th>2</th>\n",
              "      <td>2</td>\n",
              "      <td>2.274195e-09</td>\n",
              "      <td>3.010828e-09</td>\n",
              "      <td>5.437074e-10</td>\n",
              "      <td>3.936909e-11</td>\n",
              "      <td>ADHD</td>\n",
              "      <td>C</td>\n",
              "      <td>dftoBands_ADHD_DS_I</td>\n",
              "    </tr>\n",
              "    <tr>\n",
              "      <th>3</th>\n",
              "      <td>3</td>\n",
              "      <td>2.273839e-09</td>\n",
              "      <td>1.860341e-09</td>\n",
              "      <td>8.512307e-10</td>\n",
              "      <td>5.256179e-11</td>\n",
              "      <td>ADHD</td>\n",
              "      <td>D</td>\n",
              "      <td>dftoBands_ADHD_DS_I</td>\n",
              "    </tr>\n",
              "    <tr>\n",
              "      <th>4</th>\n",
              "      <td>4</td>\n",
              "      <td>2.176595e-09</td>\n",
              "      <td>7.194430e-09</td>\n",
              "      <td>4.043242e-10</td>\n",
              "      <td>3.319481e-11</td>\n",
              "      <td>ADHD</td>\n",
              "      <td>E</td>\n",
              "      <td>dftoBands_ADHD_DS_I</td>\n",
              "    </tr>\n",
              "  </tbody>\n",
              "</table>\n",
              "</div>\n",
              "      <button class=\"colab-df-convert\" onclick=\"convertToInteractive('df-9f030e6a-9400-47f1-8b6a-b09eb88e96b3')\"\n",
              "              title=\"Convert this dataframe to an interactive table.\"\n",
              "              style=\"display:none;\">\n",
              "        \n",
              "  <svg xmlns=\"http://www.w3.org/2000/svg\" height=\"24px\"viewBox=\"0 0 24 24\"\n",
              "       width=\"24px\">\n",
              "    <path d=\"M0 0h24v24H0V0z\" fill=\"none\"/>\n",
              "    <path d=\"M18.56 5.44l.94 2.06.94-2.06 2.06-.94-2.06-.94-.94-2.06-.94 2.06-2.06.94zm-11 1L8.5 8.5l.94-2.06 2.06-.94-2.06-.94L8.5 2.5l-.94 2.06-2.06.94zm10 10l.94 2.06.94-2.06 2.06-.94-2.06-.94-.94-2.06-.94 2.06-2.06.94z\"/><path d=\"M17.41 7.96l-1.37-1.37c-.4-.4-.92-.59-1.43-.59-.52 0-1.04.2-1.43.59L10.3 9.45l-7.72 7.72c-.78.78-.78 2.05 0 2.83L4 21.41c.39.39.9.59 1.41.59.51 0 1.02-.2 1.41-.59l7.78-7.78 2.81-2.81c.8-.78.8-2.07 0-2.86zM5.41 20L4 18.59l7.72-7.72 1.47 1.35L5.41 20z\"/>\n",
              "  </svg>\n",
              "      </button>\n",
              "      \n",
              "  <style>\n",
              "    .colab-df-container {\n",
              "      display:flex;\n",
              "      flex-wrap:wrap;\n",
              "      gap: 12px;\n",
              "    }\n",
              "\n",
              "    .colab-df-convert {\n",
              "      background-color: #E8F0FE;\n",
              "      border: none;\n",
              "      border-radius: 50%;\n",
              "      cursor: pointer;\n",
              "      display: none;\n",
              "      fill: #1967D2;\n",
              "      height: 32px;\n",
              "      padding: 0 0 0 0;\n",
              "      width: 32px;\n",
              "    }\n",
              "\n",
              "    .colab-df-convert:hover {\n",
              "      background-color: #E2EBFA;\n",
              "      box-shadow: 0px 1px 2px rgba(60, 64, 67, 0.3), 0px 1px 3px 1px rgba(60, 64, 67, 0.15);\n",
              "      fill: #174EA6;\n",
              "    }\n",
              "\n",
              "    [theme=dark] .colab-df-convert {\n",
              "      background-color: #3B4455;\n",
              "      fill: #D2E3FC;\n",
              "    }\n",
              "\n",
              "    [theme=dark] .colab-df-convert:hover {\n",
              "      background-color: #434B5C;\n",
              "      box-shadow: 0px 1px 3px 1px rgba(0, 0, 0, 0.15);\n",
              "      filter: drop-shadow(0px 1px 2px rgba(0, 0, 0, 0.3));\n",
              "      fill: #FFFFFF;\n",
              "    }\n",
              "  </style>\n",
              "\n",
              "      <script>\n",
              "        const buttonEl =\n",
              "          document.querySelector('#df-9f030e6a-9400-47f1-8b6a-b09eb88e96b3 button.colab-df-convert');\n",
              "        buttonEl.style.display =\n",
              "          google.colab.kernel.accessAllowed ? 'block' : 'none';\n",
              "\n",
              "        async function convertToInteractive(key) {\n",
              "          const element = document.querySelector('#df-9f030e6a-9400-47f1-8b6a-b09eb88e96b3');\n",
              "          const dataTable =\n",
              "            await google.colab.kernel.invokeFunction('convertToInteractive',\n",
              "                                                     [key], {});\n",
              "          if (!dataTable) return;\n",
              "\n",
              "          const docLinkHtml = 'Like what you see? Visit the ' +\n",
              "            '<a target=\"_blank\" href=https://colab.research.google.com/notebooks/data_table.ipynb>data table notebook</a>'\n",
              "            + ' to learn more about interactive tables.';\n",
              "          element.innerHTML = '';\n",
              "          dataTable['output_type'] = 'display_data';\n",
              "          await google.colab.output.renderOutput(dataTable, element);\n",
              "          const docLink = document.createElement('div');\n",
              "          docLink.innerHTML = docLinkHtml;\n",
              "          element.appendChild(docLink);\n",
              "        }\n",
              "      </script>\n",
              "    </div>\n",
              "  </div>\n",
              "  "
            ]
          },
          "metadata": {},
          "execution_count": 470
        }
      ]
    },
    {
      "cell_type": "code",
      "source": [
        "df_full= df_full.drop(['Unnamed: 0', 'channel','Channel'], axis =1)"
      ],
      "metadata": {
        "id": "UFpHuFQWlm-h"
      },
      "id": "UFpHuFQWlm-h",
      "execution_count": 471,
      "outputs": []
    },
    {
      "cell_type": "code",
      "execution_count": 472,
      "id": "e9b0a4c0",
      "metadata": {
        "id": "e9b0a4c0",
        "colab": {
          "base_uri": "https://localhost:8080/",
          "height": 206
        },
        "outputId": "297d3b06-5b9d-45ba-b630-77a993882be8"
      },
      "outputs": [
        {
          "output_type": "execute_result",
          "data": {
            "text/plain": [
              "            Alpha         Delta          Beta         Gamma     Label\n",
              "190  1.847496e-09  3.229572e-09  4.088305e-10  2.255547e-11      ADHD\n",
              "31   1.108799e-08  3.930447e-08  1.183013e-08  1.261700e-09  Non_ADHD\n",
              "402  2.273839e-09  1.860341e-09  8.512307e-10  5.256179e-11      ADHD\n",
              "350  1.712614e+01  1.434421e+03  4.729088e+00  1.319146e+00  Non_ADHD\n",
              "303  1.103941e-08  2.040463e-08  6.296557e-09  2.088403e-10  Non_ADHD"
            ],
            "text/html": [
              "\n",
              "  <div id=\"df-9b4fa1b9-d28a-4351-a3c3-1260ec0e07b2\">\n",
              "    <div class=\"colab-df-container\">\n",
              "      <div>\n",
              "<style scoped>\n",
              "    .dataframe tbody tr th:only-of-type {\n",
              "        vertical-align: middle;\n",
              "    }\n",
              "\n",
              "    .dataframe tbody tr th {\n",
              "        vertical-align: top;\n",
              "    }\n",
              "\n",
              "    .dataframe thead th {\n",
              "        text-align: right;\n",
              "    }\n",
              "</style>\n",
              "<table border=\"1\" class=\"dataframe\">\n",
              "  <thead>\n",
              "    <tr style=\"text-align: right;\">\n",
              "      <th></th>\n",
              "      <th>Alpha</th>\n",
              "      <th>Delta</th>\n",
              "      <th>Beta</th>\n",
              "      <th>Gamma</th>\n",
              "      <th>Label</th>\n",
              "    </tr>\n",
              "  </thead>\n",
              "  <tbody>\n",
              "    <tr>\n",
              "      <th>190</th>\n",
              "      <td>1.847496e-09</td>\n",
              "      <td>3.229572e-09</td>\n",
              "      <td>4.088305e-10</td>\n",
              "      <td>2.255547e-11</td>\n",
              "      <td>ADHD</td>\n",
              "    </tr>\n",
              "    <tr>\n",
              "      <th>31</th>\n",
              "      <td>1.108799e-08</td>\n",
              "      <td>3.930447e-08</td>\n",
              "      <td>1.183013e-08</td>\n",
              "      <td>1.261700e-09</td>\n",
              "      <td>Non_ADHD</td>\n",
              "    </tr>\n",
              "    <tr>\n",
              "      <th>402</th>\n",
              "      <td>2.273839e-09</td>\n",
              "      <td>1.860341e-09</td>\n",
              "      <td>8.512307e-10</td>\n",
              "      <td>5.256179e-11</td>\n",
              "      <td>ADHD</td>\n",
              "    </tr>\n",
              "    <tr>\n",
              "      <th>350</th>\n",
              "      <td>1.712614e+01</td>\n",
              "      <td>1.434421e+03</td>\n",
              "      <td>4.729088e+00</td>\n",
              "      <td>1.319146e+00</td>\n",
              "      <td>Non_ADHD</td>\n",
              "    </tr>\n",
              "    <tr>\n",
              "      <th>303</th>\n",
              "      <td>1.103941e-08</td>\n",
              "      <td>2.040463e-08</td>\n",
              "      <td>6.296557e-09</td>\n",
              "      <td>2.088403e-10</td>\n",
              "      <td>Non_ADHD</td>\n",
              "    </tr>\n",
              "  </tbody>\n",
              "</table>\n",
              "</div>\n",
              "      <button class=\"colab-df-convert\" onclick=\"convertToInteractive('df-9b4fa1b9-d28a-4351-a3c3-1260ec0e07b2')\"\n",
              "              title=\"Convert this dataframe to an interactive table.\"\n",
              "              style=\"display:none;\">\n",
              "        \n",
              "  <svg xmlns=\"http://www.w3.org/2000/svg\" height=\"24px\"viewBox=\"0 0 24 24\"\n",
              "       width=\"24px\">\n",
              "    <path d=\"M0 0h24v24H0V0z\" fill=\"none\"/>\n",
              "    <path d=\"M18.56 5.44l.94 2.06.94-2.06 2.06-.94-2.06-.94-.94-2.06-.94 2.06-2.06.94zm-11 1L8.5 8.5l.94-2.06 2.06-.94-2.06-.94L8.5 2.5l-.94 2.06-2.06.94zm10 10l.94 2.06.94-2.06 2.06-.94-2.06-.94-.94-2.06-.94 2.06-2.06.94z\"/><path d=\"M17.41 7.96l-1.37-1.37c-.4-.4-.92-.59-1.43-.59-.52 0-1.04.2-1.43.59L10.3 9.45l-7.72 7.72c-.78.78-.78 2.05 0 2.83L4 21.41c.39.39.9.59 1.41.59.51 0 1.02-.2 1.41-.59l7.78-7.78 2.81-2.81c.8-.78.8-2.07 0-2.86zM5.41 20L4 18.59l7.72-7.72 1.47 1.35L5.41 20z\"/>\n",
              "  </svg>\n",
              "      </button>\n",
              "      \n",
              "  <style>\n",
              "    .colab-df-container {\n",
              "      display:flex;\n",
              "      flex-wrap:wrap;\n",
              "      gap: 12px;\n",
              "    }\n",
              "\n",
              "    .colab-df-convert {\n",
              "      background-color: #E8F0FE;\n",
              "      border: none;\n",
              "      border-radius: 50%;\n",
              "      cursor: pointer;\n",
              "      display: none;\n",
              "      fill: #1967D2;\n",
              "      height: 32px;\n",
              "      padding: 0 0 0 0;\n",
              "      width: 32px;\n",
              "    }\n",
              "\n",
              "    .colab-df-convert:hover {\n",
              "      background-color: #E2EBFA;\n",
              "      box-shadow: 0px 1px 2px rgba(60, 64, 67, 0.3), 0px 1px 3px 1px rgba(60, 64, 67, 0.15);\n",
              "      fill: #174EA6;\n",
              "    }\n",
              "\n",
              "    [theme=dark] .colab-df-convert {\n",
              "      background-color: #3B4455;\n",
              "      fill: #D2E3FC;\n",
              "    }\n",
              "\n",
              "    [theme=dark] .colab-df-convert:hover {\n",
              "      background-color: #434B5C;\n",
              "      box-shadow: 0px 1px 3px 1px rgba(0, 0, 0, 0.15);\n",
              "      filter: drop-shadow(0px 1px 2px rgba(0, 0, 0, 0.3));\n",
              "      fill: #FFFFFF;\n",
              "    }\n",
              "  </style>\n",
              "\n",
              "      <script>\n",
              "        const buttonEl =\n",
              "          document.querySelector('#df-9b4fa1b9-d28a-4351-a3c3-1260ec0e07b2 button.colab-df-convert');\n",
              "        buttonEl.style.display =\n",
              "          google.colab.kernel.accessAllowed ? 'block' : 'none';\n",
              "\n",
              "        async function convertToInteractive(key) {\n",
              "          const element = document.querySelector('#df-9b4fa1b9-d28a-4351-a3c3-1260ec0e07b2');\n",
              "          const dataTable =\n",
              "            await google.colab.kernel.invokeFunction('convertToInteractive',\n",
              "                                                     [key], {});\n",
              "          if (!dataTable) return;\n",
              "\n",
              "          const docLinkHtml = 'Like what you see? Visit the ' +\n",
              "            '<a target=\"_blank\" href=https://colab.research.google.com/notebooks/data_table.ipynb>data table notebook</a>'\n",
              "            + ' to learn more about interactive tables.';\n",
              "          element.innerHTML = '';\n",
              "          dataTable['output_type'] = 'display_data';\n",
              "          await google.colab.output.renderOutput(dataTable, element);\n",
              "          const docLink = document.createElement('div');\n",
              "          docLink.innerHTML = docLinkHtml;\n",
              "          element.appendChild(docLink);\n",
              "        }\n",
              "      </script>\n",
              "    </div>\n",
              "  </div>\n",
              "  "
            ]
          },
          "metadata": {},
          "execution_count": 472
        }
      ],
      "source": [
        "# shuffle the DataFrame rows\n",
        "df_full = df_full.sample(frac = 1)\n",
        "df_full.head()"
      ]
    },
    {
      "cell_type": "code",
      "source": [
        "df_full.tail()"
      ],
      "metadata": {
        "colab": {
          "base_uri": "https://localhost:8080/",
          "height": 206
        },
        "id": "MUmZmOs4B6EP",
        "outputId": "fee1928d-b9e0-4ba9-f2cc-fd0d285aa3ba"
      },
      "id": "MUmZmOs4B6EP",
      "execution_count": 473,
      "outputs": [
        {
          "output_type": "execute_result",
          "data": {
            "text/plain": [
              "            Alpha         Delta          Beta         Gamma     Label\n",
              "385  1.712614e+01  1.434421e+03  4.729088e+00  1.319146e+00      ADHD\n",
              "71   1.903549e-08  8.839209e-08  8.909336e-09  3.259062e-10  Non_ADHD\n",
              "415  1.103941e-08  2.040463e-08  6.296557e-09  2.088403e-10  Non_ADHD\n",
              "323  1.847496e-09  3.229572e-09  4.088305e-10  2.255547e-11      ADHD\n",
              "305  4.416489e-09  3.538598e-09  3.174964e-09  1.942530e-10  Non_ADHD"
            ],
            "text/html": [
              "\n",
              "  <div id=\"df-9b368fed-8822-4552-8dac-0d2d8da91830\">\n",
              "    <div class=\"colab-df-container\">\n",
              "      <div>\n",
              "<style scoped>\n",
              "    .dataframe tbody tr th:only-of-type {\n",
              "        vertical-align: middle;\n",
              "    }\n",
              "\n",
              "    .dataframe tbody tr th {\n",
              "        vertical-align: top;\n",
              "    }\n",
              "\n",
              "    .dataframe thead th {\n",
              "        text-align: right;\n",
              "    }\n",
              "</style>\n",
              "<table border=\"1\" class=\"dataframe\">\n",
              "  <thead>\n",
              "    <tr style=\"text-align: right;\">\n",
              "      <th></th>\n",
              "      <th>Alpha</th>\n",
              "      <th>Delta</th>\n",
              "      <th>Beta</th>\n",
              "      <th>Gamma</th>\n",
              "      <th>Label</th>\n",
              "    </tr>\n",
              "  </thead>\n",
              "  <tbody>\n",
              "    <tr>\n",
              "      <th>385</th>\n",
              "      <td>1.712614e+01</td>\n",
              "      <td>1.434421e+03</td>\n",
              "      <td>4.729088e+00</td>\n",
              "      <td>1.319146e+00</td>\n",
              "      <td>ADHD</td>\n",
              "    </tr>\n",
              "    <tr>\n",
              "      <th>71</th>\n",
              "      <td>1.903549e-08</td>\n",
              "      <td>8.839209e-08</td>\n",
              "      <td>8.909336e-09</td>\n",
              "      <td>3.259062e-10</td>\n",
              "      <td>Non_ADHD</td>\n",
              "    </tr>\n",
              "    <tr>\n",
              "      <th>415</th>\n",
              "      <td>1.103941e-08</td>\n",
              "      <td>2.040463e-08</td>\n",
              "      <td>6.296557e-09</td>\n",
              "      <td>2.088403e-10</td>\n",
              "      <td>Non_ADHD</td>\n",
              "    </tr>\n",
              "    <tr>\n",
              "      <th>323</th>\n",
              "      <td>1.847496e-09</td>\n",
              "      <td>3.229572e-09</td>\n",
              "      <td>4.088305e-10</td>\n",
              "      <td>2.255547e-11</td>\n",
              "      <td>ADHD</td>\n",
              "    </tr>\n",
              "    <tr>\n",
              "      <th>305</th>\n",
              "      <td>4.416489e-09</td>\n",
              "      <td>3.538598e-09</td>\n",
              "      <td>3.174964e-09</td>\n",
              "      <td>1.942530e-10</td>\n",
              "      <td>Non_ADHD</td>\n",
              "    </tr>\n",
              "  </tbody>\n",
              "</table>\n",
              "</div>\n",
              "      <button class=\"colab-df-convert\" onclick=\"convertToInteractive('df-9b368fed-8822-4552-8dac-0d2d8da91830')\"\n",
              "              title=\"Convert this dataframe to an interactive table.\"\n",
              "              style=\"display:none;\">\n",
              "        \n",
              "  <svg xmlns=\"http://www.w3.org/2000/svg\" height=\"24px\"viewBox=\"0 0 24 24\"\n",
              "       width=\"24px\">\n",
              "    <path d=\"M0 0h24v24H0V0z\" fill=\"none\"/>\n",
              "    <path d=\"M18.56 5.44l.94 2.06.94-2.06 2.06-.94-2.06-.94-.94-2.06-.94 2.06-2.06.94zm-11 1L8.5 8.5l.94-2.06 2.06-.94-2.06-.94L8.5 2.5l-.94 2.06-2.06.94zm10 10l.94 2.06.94-2.06 2.06-.94-2.06-.94-.94-2.06-.94 2.06-2.06.94z\"/><path d=\"M17.41 7.96l-1.37-1.37c-.4-.4-.92-.59-1.43-.59-.52 0-1.04.2-1.43.59L10.3 9.45l-7.72 7.72c-.78.78-.78 2.05 0 2.83L4 21.41c.39.39.9.59 1.41.59.51 0 1.02-.2 1.41-.59l7.78-7.78 2.81-2.81c.8-.78.8-2.07 0-2.86zM5.41 20L4 18.59l7.72-7.72 1.47 1.35L5.41 20z\"/>\n",
              "  </svg>\n",
              "      </button>\n",
              "      \n",
              "  <style>\n",
              "    .colab-df-container {\n",
              "      display:flex;\n",
              "      flex-wrap:wrap;\n",
              "      gap: 12px;\n",
              "    }\n",
              "\n",
              "    .colab-df-convert {\n",
              "      background-color: #E8F0FE;\n",
              "      border: none;\n",
              "      border-radius: 50%;\n",
              "      cursor: pointer;\n",
              "      display: none;\n",
              "      fill: #1967D2;\n",
              "      height: 32px;\n",
              "      padding: 0 0 0 0;\n",
              "      width: 32px;\n",
              "    }\n",
              "\n",
              "    .colab-df-convert:hover {\n",
              "      background-color: #E2EBFA;\n",
              "      box-shadow: 0px 1px 2px rgba(60, 64, 67, 0.3), 0px 1px 3px 1px rgba(60, 64, 67, 0.15);\n",
              "      fill: #174EA6;\n",
              "    }\n",
              "\n",
              "    [theme=dark] .colab-df-convert {\n",
              "      background-color: #3B4455;\n",
              "      fill: #D2E3FC;\n",
              "    }\n",
              "\n",
              "    [theme=dark] .colab-df-convert:hover {\n",
              "      background-color: #434B5C;\n",
              "      box-shadow: 0px 1px 3px 1px rgba(0, 0, 0, 0.15);\n",
              "      filter: drop-shadow(0px 1px 2px rgba(0, 0, 0, 0.3));\n",
              "      fill: #FFFFFF;\n",
              "    }\n",
              "  </style>\n",
              "\n",
              "      <script>\n",
              "        const buttonEl =\n",
              "          document.querySelector('#df-9b368fed-8822-4552-8dac-0d2d8da91830 button.colab-df-convert');\n",
              "        buttonEl.style.display =\n",
              "          google.colab.kernel.accessAllowed ? 'block' : 'none';\n",
              "\n",
              "        async function convertToInteractive(key) {\n",
              "          const element = document.querySelector('#df-9b368fed-8822-4552-8dac-0d2d8da91830');\n",
              "          const dataTable =\n",
              "            await google.colab.kernel.invokeFunction('convertToInteractive',\n",
              "                                                     [key], {});\n",
              "          if (!dataTable) return;\n",
              "\n",
              "          const docLinkHtml = 'Like what you see? Visit the ' +\n",
              "            '<a target=\"_blank\" href=https://colab.research.google.com/notebooks/data_table.ipynb>data table notebook</a>'\n",
              "            + ' to learn more about interactive tables.';\n",
              "          element.innerHTML = '';\n",
              "          dataTable['output_type'] = 'display_data';\n",
              "          await google.colab.output.renderOutput(dataTable, element);\n",
              "          const docLink = document.createElement('div');\n",
              "          docLink.innerHTML = docLinkHtml;\n",
              "          element.appendChild(docLink);\n",
              "        }\n",
              "      </script>\n",
              "    </div>\n",
              "  </div>\n",
              "  "
            ]
          },
          "metadata": {},
          "execution_count": 473
        }
      ]
    },
    {
      "cell_type": "code",
      "source": [
        "\n",
        "len(df_full)\n"
      ],
      "metadata": {
        "colab": {
          "base_uri": "https://localhost:8080/"
        },
        "id": "moejEFB5B_vl",
        "outputId": "3ea584ed-556c-4fb7-a54d-27388e5c6f01"
      },
      "id": "moejEFB5B_vl",
      "execution_count": 474,
      "outputs": [
        {
          "output_type": "execute_result",
          "data": {
            "text/plain": [
              "840"
            ]
          },
          "metadata": {},
          "execution_count": 474
        }
      ]
    },
    {
      "cell_type": "code",
      "execution_count": 475,
      "id": "1186f1a0",
      "metadata": {
        "id": "1186f1a0"
      },
      "outputs": [],
      "source": [
        "X = df_full.drop('Label',axis=1)\n",
        "y = df_full['Label']"
      ]
    },
    {
      "cell_type": "code",
      "execution_count": 476,
      "id": "1632630f",
      "metadata": {
        "id": "1632630f"
      },
      "outputs": [],
      "source": [
        "from sklearn.model_selection import train_test_split\n",
        "X_train, X_test, y_train, y_test = train_test_split(X, y, test_size = 0.25, shuffle = False, random_state = 40)\n"
      ]
    },
    {
      "cell_type": "code",
      "source": [
        "X_train"
      ],
      "metadata": {
        "colab": {
          "base_uri": "https://localhost:8080/",
          "height": 424
        },
        "id": "Vk4GgeZ-xJRH",
        "outputId": "b00aa865-dd38-41ff-eccb-546cb06a4453"
      },
      "id": "Vk4GgeZ-xJRH",
      "execution_count": 477,
      "outputs": [
        {
          "output_type": "execute_result",
          "data": {
            "text/plain": [
              "            Alpha         Delta          Beta         Gamma\n",
              "190  1.847496e-09  3.229572e-09  4.088305e-10  2.255547e-11\n",
              "31   1.108799e-08  3.930447e-08  1.183013e-08  1.261700e-09\n",
              "402  2.273839e-09  1.860341e-09  8.512307e-10  5.256179e-11\n",
              "350  1.712614e+01  1.434421e+03  4.729088e+00  1.319146e+00\n",
              "303  1.103941e-08  2.040463e-08  6.296557e-09  2.088403e-10\n",
              "..            ...           ...           ...           ...\n",
              "376  3.685251e-09  1.231829e-07  1.114953e-09  1.521211e-10\n",
              "306  3.370092e-16  4.616997e-16  5.970115e-17  6.125924e-18\n",
              "408  1.103941e-08  2.040463e-08  6.296557e-09  2.088403e-10\n",
              "334  3.685251e-09  1.231829e-07  1.114953e-09  1.521211e-10\n",
              "196  1.712614e+01  1.434421e+03  4.729088e+00  1.319146e+00\n",
              "\n",
              "[630 rows x 4 columns]"
            ],
            "text/html": [
              "\n",
              "  <div id=\"df-411cafa9-de2b-4f33-b3ff-17db0ef11a95\">\n",
              "    <div class=\"colab-df-container\">\n",
              "      <div>\n",
              "<style scoped>\n",
              "    .dataframe tbody tr th:only-of-type {\n",
              "        vertical-align: middle;\n",
              "    }\n",
              "\n",
              "    .dataframe tbody tr th {\n",
              "        vertical-align: top;\n",
              "    }\n",
              "\n",
              "    .dataframe thead th {\n",
              "        text-align: right;\n",
              "    }\n",
              "</style>\n",
              "<table border=\"1\" class=\"dataframe\">\n",
              "  <thead>\n",
              "    <tr style=\"text-align: right;\">\n",
              "      <th></th>\n",
              "      <th>Alpha</th>\n",
              "      <th>Delta</th>\n",
              "      <th>Beta</th>\n",
              "      <th>Gamma</th>\n",
              "    </tr>\n",
              "  </thead>\n",
              "  <tbody>\n",
              "    <tr>\n",
              "      <th>190</th>\n",
              "      <td>1.847496e-09</td>\n",
              "      <td>3.229572e-09</td>\n",
              "      <td>4.088305e-10</td>\n",
              "      <td>2.255547e-11</td>\n",
              "    </tr>\n",
              "    <tr>\n",
              "      <th>31</th>\n",
              "      <td>1.108799e-08</td>\n",
              "      <td>3.930447e-08</td>\n",
              "      <td>1.183013e-08</td>\n",
              "      <td>1.261700e-09</td>\n",
              "    </tr>\n",
              "    <tr>\n",
              "      <th>402</th>\n",
              "      <td>2.273839e-09</td>\n",
              "      <td>1.860341e-09</td>\n",
              "      <td>8.512307e-10</td>\n",
              "      <td>5.256179e-11</td>\n",
              "    </tr>\n",
              "    <tr>\n",
              "      <th>350</th>\n",
              "      <td>1.712614e+01</td>\n",
              "      <td>1.434421e+03</td>\n",
              "      <td>4.729088e+00</td>\n",
              "      <td>1.319146e+00</td>\n",
              "    </tr>\n",
              "    <tr>\n",
              "      <th>303</th>\n",
              "      <td>1.103941e-08</td>\n",
              "      <td>2.040463e-08</td>\n",
              "      <td>6.296557e-09</td>\n",
              "      <td>2.088403e-10</td>\n",
              "    </tr>\n",
              "    <tr>\n",
              "      <th>...</th>\n",
              "      <td>...</td>\n",
              "      <td>...</td>\n",
              "      <td>...</td>\n",
              "      <td>...</td>\n",
              "    </tr>\n",
              "    <tr>\n",
              "      <th>376</th>\n",
              "      <td>3.685251e-09</td>\n",
              "      <td>1.231829e-07</td>\n",
              "      <td>1.114953e-09</td>\n",
              "      <td>1.521211e-10</td>\n",
              "    </tr>\n",
              "    <tr>\n",
              "      <th>306</th>\n",
              "      <td>3.370092e-16</td>\n",
              "      <td>4.616997e-16</td>\n",
              "      <td>5.970115e-17</td>\n",
              "      <td>6.125924e-18</td>\n",
              "    </tr>\n",
              "    <tr>\n",
              "      <th>408</th>\n",
              "      <td>1.103941e-08</td>\n",
              "      <td>2.040463e-08</td>\n",
              "      <td>6.296557e-09</td>\n",
              "      <td>2.088403e-10</td>\n",
              "    </tr>\n",
              "    <tr>\n",
              "      <th>334</th>\n",
              "      <td>3.685251e-09</td>\n",
              "      <td>1.231829e-07</td>\n",
              "      <td>1.114953e-09</td>\n",
              "      <td>1.521211e-10</td>\n",
              "    </tr>\n",
              "    <tr>\n",
              "      <th>196</th>\n",
              "      <td>1.712614e+01</td>\n",
              "      <td>1.434421e+03</td>\n",
              "      <td>4.729088e+00</td>\n",
              "      <td>1.319146e+00</td>\n",
              "    </tr>\n",
              "  </tbody>\n",
              "</table>\n",
              "<p>630 rows × 4 columns</p>\n",
              "</div>\n",
              "      <button class=\"colab-df-convert\" onclick=\"convertToInteractive('df-411cafa9-de2b-4f33-b3ff-17db0ef11a95')\"\n",
              "              title=\"Convert this dataframe to an interactive table.\"\n",
              "              style=\"display:none;\">\n",
              "        \n",
              "  <svg xmlns=\"http://www.w3.org/2000/svg\" height=\"24px\"viewBox=\"0 0 24 24\"\n",
              "       width=\"24px\">\n",
              "    <path d=\"M0 0h24v24H0V0z\" fill=\"none\"/>\n",
              "    <path d=\"M18.56 5.44l.94 2.06.94-2.06 2.06-.94-2.06-.94-.94-2.06-.94 2.06-2.06.94zm-11 1L8.5 8.5l.94-2.06 2.06-.94-2.06-.94L8.5 2.5l-.94 2.06-2.06.94zm10 10l.94 2.06.94-2.06 2.06-.94-2.06-.94-.94-2.06-.94 2.06-2.06.94z\"/><path d=\"M17.41 7.96l-1.37-1.37c-.4-.4-.92-.59-1.43-.59-.52 0-1.04.2-1.43.59L10.3 9.45l-7.72 7.72c-.78.78-.78 2.05 0 2.83L4 21.41c.39.39.9.59 1.41.59.51 0 1.02-.2 1.41-.59l7.78-7.78 2.81-2.81c.8-.78.8-2.07 0-2.86zM5.41 20L4 18.59l7.72-7.72 1.47 1.35L5.41 20z\"/>\n",
              "  </svg>\n",
              "      </button>\n",
              "      \n",
              "  <style>\n",
              "    .colab-df-container {\n",
              "      display:flex;\n",
              "      flex-wrap:wrap;\n",
              "      gap: 12px;\n",
              "    }\n",
              "\n",
              "    .colab-df-convert {\n",
              "      background-color: #E8F0FE;\n",
              "      border: none;\n",
              "      border-radius: 50%;\n",
              "      cursor: pointer;\n",
              "      display: none;\n",
              "      fill: #1967D2;\n",
              "      height: 32px;\n",
              "      padding: 0 0 0 0;\n",
              "      width: 32px;\n",
              "    }\n",
              "\n",
              "    .colab-df-convert:hover {\n",
              "      background-color: #E2EBFA;\n",
              "      box-shadow: 0px 1px 2px rgba(60, 64, 67, 0.3), 0px 1px 3px 1px rgba(60, 64, 67, 0.15);\n",
              "      fill: #174EA6;\n",
              "    }\n",
              "\n",
              "    [theme=dark] .colab-df-convert {\n",
              "      background-color: #3B4455;\n",
              "      fill: #D2E3FC;\n",
              "    }\n",
              "\n",
              "    [theme=dark] .colab-df-convert:hover {\n",
              "      background-color: #434B5C;\n",
              "      box-shadow: 0px 1px 3px 1px rgba(0, 0, 0, 0.15);\n",
              "      filter: drop-shadow(0px 1px 2px rgba(0, 0, 0, 0.3));\n",
              "      fill: #FFFFFF;\n",
              "    }\n",
              "  </style>\n",
              "\n",
              "      <script>\n",
              "        const buttonEl =\n",
              "          document.querySelector('#df-411cafa9-de2b-4f33-b3ff-17db0ef11a95 button.colab-df-convert');\n",
              "        buttonEl.style.display =\n",
              "          google.colab.kernel.accessAllowed ? 'block' : 'none';\n",
              "\n",
              "        async function convertToInteractive(key) {\n",
              "          const element = document.querySelector('#df-411cafa9-de2b-4f33-b3ff-17db0ef11a95');\n",
              "          const dataTable =\n",
              "            await google.colab.kernel.invokeFunction('convertToInteractive',\n",
              "                                                     [key], {});\n",
              "          if (!dataTable) return;\n",
              "\n",
              "          const docLinkHtml = 'Like what you see? Visit the ' +\n",
              "            '<a target=\"_blank\" href=https://colab.research.google.com/notebooks/data_table.ipynb>data table notebook</a>'\n",
              "            + ' to learn more about interactive tables.';\n",
              "          element.innerHTML = '';\n",
              "          dataTable['output_type'] = 'display_data';\n",
              "          await google.colab.output.renderOutput(dataTable, element);\n",
              "          const docLink = document.createElement('div');\n",
              "          docLink.innerHTML = docLinkHtml;\n",
              "          element.appendChild(docLink);\n",
              "        }\n",
              "      </script>\n",
              "    </div>\n",
              "  </div>\n",
              "  "
            ]
          },
          "metadata": {},
          "execution_count": 477
        }
      ]
    },
    {
      "cell_type": "code",
      "execution_count": 478,
      "id": "b3b4a366",
      "metadata": {
        "id": "b3b4a366"
      },
      "outputs": [],
      "source": [
        "from sklearn.preprocessing import StandardScaler\n",
        "sc = StandardScaler()\n",
        "X_train = sc.fit_transform(X_train)\n",
        "X_test = sc.transform(X_test)"
      ]
    },
    {
      "cell_type": "markdown",
      "source": [
        "##LightBGM"
      ],
      "metadata": {
        "id": "Q-mW8niuLeQn"
      },
      "id": "Q-mW8niuLeQn"
    },
    {
      "cell_type": "code",
      "source": [
        "from lightgbm import LGBMClassifier\n",
        "classifier = LGBMClassifier(random_state=5)\n",
        "classifier.fit(X_train, y_train)\n",
        "y_pred = classifier.predict(X_test)\n",
        "lightgbm_acc = accuracy_score(y_test,y_pred)\n",
        "print('Accuracy ', np.round(lightgbm_acc,2))\n",
        "print(classification_report(y_test,y_pred))"
      ],
      "metadata": {
        "colab": {
          "base_uri": "https://localhost:8080/"
        },
        "id": "aT5ZU2Z4LOXa",
        "outputId": "ea30bff9-ac96-4919-c053-50e4a37e622b"
      },
      "id": "aT5ZU2Z4LOXa",
      "execution_count": 479,
      "outputs": [
        {
          "output_type": "stream",
          "name": "stdout",
          "text": [
            "Accuracy  0.91\n",
            "              precision    recall  f1-score   support\n",
            "\n",
            "        ADHD       1.00      0.81      0.89        98\n",
            "    Non_ADHD       0.85      1.00      0.92       112\n",
            "\n",
            "    accuracy                           0.91       210\n",
            "   macro avg       0.93      0.90      0.91       210\n",
            "weighted avg       0.92      0.91      0.91       210\n",
            "\n"
          ]
        }
      ]
    },
    {
      "cell_type": "markdown",
      "source": [
        "## Logistic Regression"
      ],
      "metadata": {
        "id": "SuGubX964q7n"
      },
      "id": "SuGubX964q7n"
    },
    {
      "cell_type": "code",
      "source": [
        "from sklearn.linear_model import LogisticRegression\n",
        "classifier = LogisticRegression(random_state = 0)\n",
        "classifier.fit(X_train, y_train)\n",
        "y_pred = classifier.predict(X_test)\n",
        "lg_acc = accuracy_score(y_test,y_pred)\n",
        "print('Accuracy ', np.round(lg_acc,2))\n",
        "print(classification_report(y_test,y_pred))"
      ],
      "metadata": {
        "colab": {
          "base_uri": "https://localhost:8080/"
        },
        "id": "_DsJJnEh4pph",
        "outputId": "e4694d63-f335-4694-cfd6-1986783d0ace"
      },
      "id": "_DsJJnEh4pph",
      "execution_count": 480,
      "outputs": [
        {
          "output_type": "stream",
          "name": "stdout",
          "text": [
            "Accuracy  0.43\n",
            "              precision    recall  f1-score   support\n",
            "\n",
            "        ADHD       0.44      0.81      0.57        98\n",
            "    Non_ADHD       0.37      0.10      0.15       112\n",
            "\n",
            "    accuracy                           0.43       210\n",
            "   macro avg       0.40      0.45      0.36       210\n",
            "weighted avg       0.40      0.43      0.35       210\n",
            "\n"
          ]
        }
      ]
    },
    {
      "cell_type": "code",
      "source": [
        "print(confusion_matrix(y_test,y_pred))"
      ],
      "metadata": {
        "colab": {
          "base_uri": "https://localhost:8080/"
        },
        "id": "JwbNVsIZqU1H",
        "outputId": "7ac3b0ee-d41b-47b9-ab0f-a0717f8daff9"
      },
      "id": "JwbNVsIZqU1H",
      "execution_count": 481,
      "outputs": [
        {
          "output_type": "stream",
          "name": "stdout",
          "text": [
            "[[ 79  19]\n",
            " [101  11]]\n"
          ]
        }
      ]
    },
    {
      "cell_type": "code",
      "source": [
        "from sklearn.metrics import plot_confusion_matrix\n",
        "plot_confusion_matrix(classifier, X_test, y_test)  \n",
        "plt.show()"
      ],
      "metadata": {
        "colab": {
          "base_uri": "https://localhost:8080/",
          "height": 338
        },
        "id": "Q-GQHLktrfwq",
        "outputId": "e7822710-5bdb-4733-f655-b460f2430148"
      },
      "id": "Q-GQHLktrfwq",
      "execution_count": 482,
      "outputs": [
        {
          "output_type": "stream",
          "name": "stderr",
          "text": [
            "/usr/local/lib/python3.8/dist-packages/sklearn/utils/deprecation.py:87: FutureWarning: Function plot_confusion_matrix is deprecated; Function `plot_confusion_matrix` is deprecated in 1.0 and will be removed in 1.2. Use one of the class methods: ConfusionMatrixDisplay.from_predictions or ConfusionMatrixDisplay.from_estimator.\n",
            "  warnings.warn(msg, category=FutureWarning)\n"
          ]
        },
        {
          "output_type": "display_data",
          "data": {
            "text/plain": [
              "<Figure size 432x288 with 2 Axes>"
            ],
            "image/png": "[encoded data removed]"
          },
          "metadata": {
            "needs_background": "light"
          }
        }
      ]
    },
    {
      "cell_type": "markdown",
      "source": [
        "## KNN"
      ],
      "metadata": {
        "id": "OuCXiwKWj1PI"
      },
      "id": "OuCXiwKWj1PI"
    },
    {
      "cell_type": "code",
      "source": [
        "from sklearn.neighbors import KNeighborsClassifier\n",
        "import math\n",
        "k=math.sqrt(60)\n",
        "classifier = KNeighborsClassifier(n_neighbors=8)\n",
        "classifier.fit(X_train, y_train)\n",
        "y_pred = classifier.predict(X_test)\n",
        "knn_acc = accuracy_score(y_test,y_pred)\n",
        "print('Accuracy ', np.round(knn_acc,2))\n",
        "print(classification_report(y_test,y_pred))"
      ],
      "metadata": {
        "colab": {
          "base_uri": "https://localhost:8080/"
        },
        "id": "00uXRU9bjva4",
        "outputId": "456ce912-5188-47ad-fe60-380c24b14f04"
      },
      "id": "00uXRU9bjva4",
      "execution_count": 483,
      "outputs": [
        {
          "output_type": "stream",
          "name": "stdout",
          "text": [
            "Accuracy  0.95\n",
            "              precision    recall  f1-score   support\n",
            "\n",
            "        ADHD       0.90      1.00      0.95        98\n",
            "    Non_ADHD       1.00      0.90      0.95       112\n",
            "\n",
            "    accuracy                           0.95       210\n",
            "   macro avg       0.95      0.95      0.95       210\n",
            "weighted avg       0.95      0.95      0.95       210\n",
            "\n"
          ]
        }
      ]
    },
    {
      "cell_type": "code",
      "source": [
        "print(confusion_matrix(y_test,y_pred))\n",
        "from sklearn.metrics import plot_confusion_matrix\n",
        "plot_confusion_matrix(classifier, X_test, y_test)  \n",
        "plt.show()"
      ],
      "metadata": {
        "colab": {
          "base_uri": "https://localhost:8080/",
          "height": 373
        },
        "id": "f7FurnSysF2G",
        "outputId": "c2cb98fb-3eaf-41ff-b6bf-87e807278477"
      },
      "id": "f7FurnSysF2G",
      "execution_count": 484,
      "outputs": [
        {
          "output_type": "stream",
          "name": "stdout",
          "text": [
            "[[ 98   0]\n",
            " [ 11 101]]\n"
          ]
        },
        {
          "output_type": "stream",
          "name": "stderr",
          "text": [
            "/usr/local/lib/python3.8/dist-packages/sklearn/utils/deprecation.py:87: FutureWarning: Function plot_confusion_matrix is deprecated; Function `plot_confusion_matrix` is deprecated in 1.0 and will be removed in 1.2. Use one of the class methods: ConfusionMatrixDisplay.from_predictions or ConfusionMatrixDisplay.from_estimator.\n",
            "  warnings.warn(msg, category=FutureWarning)\n"
          ]
        },
        {
          "output_type": "display_data",
          "data": {
            "text/plain": [
              "<Figure size 432x288 with 2 Axes>"
            ],
            "image/png": "[encoded data removed]"
          },
          "metadata": {
            "needs_background": "light"
          }
        }
      ]
    },
    {
      "cell_type": "markdown",
      "id": "4c8b29fa",
      "metadata": {
        "id": "4c8b29fa"
      },
      "source": [
        "# RandomForest\n",
        "\n"
      ]
    },
    {
      "cell_type": "code",
      "execution_count": 485,
      "id": "74a40af6",
      "metadata": {
        "colab": {
          "base_uri": "https://localhost:8080/"
        },
        "id": "74a40af6",
        "outputId": "efd129a5-0a73-4984-87e4-0dd63ddf641b"
      },
      "outputs": [
        {
          "output_type": "stream",
          "name": "stdout",
          "text": [
            "Accuracy  0.43\n",
            "              precision    recall  f1-score   support\n",
            "\n",
            "        ADHD       0.44      0.81      0.57        98\n",
            "    Non_ADHD       0.37      0.10      0.15       112\n",
            "\n",
            "    accuracy                           0.43       210\n",
            "   macro avg       0.40      0.45      0.36       210\n",
            "weighted avg       0.40      0.43      0.35       210\n",
            "\n"
          ]
        }
      ],
      "source": [
        "from sklearn.ensemble import RandomForestClassifier\n",
        "classifier = RandomForestClassifier(n_estimators = 10, criterion = 'entropy', random_state = 42)\n",
        "classifier.fit(X_train, y_train)\n",
        "y_pred = classifier.predict(X_test)\n",
        "rf_acc = accuracy_score(y_test,y_pred)\n",
        "print('Accuracy ', np.round(rf_acc,2))\n",
        "print(classification_report(y_test,y_pred))"
      ]
    },
    {
      "cell_type": "code",
      "source": [
        "print(confusion_matrix(y_test,y_pred))\n",
        "from sklearn.metrics import plot_confusion_matrix\n",
        "plot_confusion_matrix(classifier, X_test, y_test)  \n",
        "plt.show()"
      ],
      "metadata": {
        "colab": {
          "base_uri": "https://localhost:8080/",
          "height": 373
        },
        "id": "tmqf8UoisjUf",
        "outputId": "1d137912-ff4a-4b72-c909-814514a3911f"
      },
      "id": "tmqf8UoisjUf",
      "execution_count": 486,
      "outputs": [
        {
          "output_type": "stream",
          "name": "stdout",
          "text": [
            "[[ 79  19]\n",
            " [101  11]]\n"
          ]
        },
        {
          "output_type": "stream",
          "name": "stderr",
          "text": [
            "/usr/local/lib/python3.8/dist-packages/sklearn/utils/deprecation.py:87: FutureWarning: Function plot_confusion_matrix is deprecated; Function `plot_confusion_matrix` is deprecated in 1.0 and will be removed in 1.2. Use one of the class methods: ConfusionMatrixDisplay.from_predictions or ConfusionMatrixDisplay.from_estimator.\n",
            "  warnings.warn(msg, category=FutureWarning)\n"
          ]
        },
        {
          "output_type": "display_data",
          "data": {
            "text/plain": [
              "<Figure size 432x288 with 2 Axes>"
            ],
            "image/png": "[encoded data removed]"
          },
          "metadata": {
            "needs_background": "light"
          }
        }
      ]
    },
    {
      "cell_type": "markdown",
      "id": "f1d4a71d",
      "metadata": {
        "id": "f1d4a71d"
      },
      "source": [
        "# MLP"
      ]
    },
    {
      "cell_type": "code",
      "execution_count": 487,
      "id": "30e593fc",
      "metadata": {
        "id": "30e593fc"
      },
      "outputs": [],
      "source": [
        "from sklearn.neural_network import MLPClassifier"
      ]
    },
    {
      "cell_type": "code",
      "execution_count": 488,
      "id": "1775e183",
      "metadata": {
        "id": "1775e183",
        "colab": {
          "base_uri": "https://localhost:8080/"
        },
        "outputId": "cb77bf4f-defe-424b-ffc4-74e0d4bc1501"
      },
      "outputs": [
        {
          "output_type": "stream",
          "name": "stdout",
          "text": [
            "Accuracy  0.43\n"
          ]
        }
      ],
      "source": [
        "clf = MLPClassifier(hidden_layer_sizes=(100,),random_state=42)\n",
        "clf.fit(X_train, y_train)\n",
        "y_pred_mlp = clf.predict(X_test)\n",
        "mlp_acc = accuracy_score(y_test,y_pred_mlp)\n",
        "print('Accuracy ', np.round(mlp_acc,2))\n"
      ]
    },
    {
      "cell_type": "code",
      "execution_count": 489,
      "id": "3323064c",
      "metadata": {
        "colab": {
          "base_uri": "https://localhost:8080/"
        },
        "id": "3323064c",
        "outputId": "951fc61e-8f7d-4787-db30-f072b5246fa9"
      },
      "outputs": [
        {
          "output_type": "stream",
          "name": "stdout",
          "text": [
            "              precision    recall  f1-score   support\n",
            "\n",
            "        ADHD       0.44      0.81      0.57        98\n",
            "    Non_ADHD       0.37      0.10      0.15       112\n",
            "\n",
            "    accuracy                           0.43       210\n",
            "   macro avg       0.40      0.45      0.36       210\n",
            "weighted avg       0.40      0.43      0.35       210\n",
            "\n"
          ]
        }
      ],
      "source": [
        "print(classification_report(y_test,y_pred_mlp))"
      ]
    },
    {
      "cell_type": "markdown",
      "id": "0c138e74",
      "metadata": {
        "id": "0c138e74"
      },
      "source": [
        "# performance comparison"
      ]
    },
    {
      "cell_type": "code",
      "source": [
        "results = pd.DataFrame({\n",
        "    'Model': ['KNN',\n",
        "              'LightBGM',\n",
        "              'Logistic Regression',\n",
        "              'MLPClassifier',\n",
        "              'Random Forest'\n",
        "              ],\n",
        "    'Score': [knn_acc,\n",
        "                lightgbm_acc,\n",
        "                lg_acc,\n",
        "              mlp_acc,\n",
        "              rf_acc]\n",
        "                })\n",
        "result_df = results.sort_values(by='Score', ascending=False)\n",
        "result_df = result_df.set_index('Model')\n",
        "result_df"
      ],
      "metadata": {
        "colab": {
          "base_uri": "https://localhost:8080/",
          "height": 238
        },
        "id": "38q2PDqOuzeo",
        "outputId": "bf907e28-584c-4741-d792-dec8ad937886"
      },
      "id": "38q2PDqOuzeo",
      "execution_count": 490,
      "outputs": [
        {
          "output_type": "execute_result",
          "data": {
            "text/plain": [
              "                        Score\n",
              "Model                        \n",
              "KNN                  0.947619\n",
              "LightBGM             0.909524\n",
              "Logistic Regression  0.428571\n",
              "MLPClassifier        0.428571\n",
              "Random Forest        0.428571"
            ],
            "text/html": [
              "\n",
              "  <div id=\"df-39d6d5d6-365b-4121-8428-24a3169cbf5e\">\n",
              "    <div class=\"colab-df-container\">\n",
              "      <div>\n",
              "<style scoped>\n",
              "    .dataframe tbody tr th:only-of-type {\n",
              "        vertical-align: middle;\n",
              "    }\n",
              "\n",
              "    .dataframe tbody tr th {\n",
              "        vertical-align: top;\n",
              "    }\n",
              "\n",
              "    .dataframe thead th {\n",
              "        text-align: right;\n",
              "    }\n",
              "</style>\n",
              "<table border=\"1\" class=\"dataframe\">\n",
              "  <thead>\n",
              "    <tr style=\"text-align: right;\">\n",
              "      <th></th>\n",
              "      <th>Score</th>\n",
              "    </tr>\n",
              "    <tr>\n",
              "      <th>Model</th>\n",
              "      <th></th>\n",
              "    </tr>\n",
              "  </thead>\n",
              "  <tbody>\n",
              "    <tr>\n",
              "      <th>KNN</th>\n",
              "      <td>0.947619</td>\n",
              "    </tr>\n",
              "    <tr>\n",
              "      <th>LightBGM</th>\n",
              "      <td>0.909524</td>\n",
              "    </tr>\n",
              "    <tr>\n",
              "      <th>Logistic Regression</th>\n",
              "      <td>0.428571</td>\n",
              "    </tr>\n",
              "    <tr>\n",
              "      <th>MLPClassifier</th>\n",
              "      <td>0.428571</td>\n",
              "    </tr>\n",
              "    <tr>\n",
              "      <th>Random Forest</th>\n",
              "      <td>0.428571</td>\n",
              "    </tr>\n",
              "  </tbody>\n",
              "</table>\n",
              "</div>\n",
              "      <button class=\"colab-df-convert\" onclick=\"convertToInteractive('df-39d6d5d6-365b-4121-8428-24a3169cbf5e')\"\n",
              "              title=\"Convert this dataframe to an interactive table.\"\n",
              "              style=\"display:none;\">\n",
              "        \n",
              "  <svg xmlns=\"http://www.w3.org/2000/svg\" height=\"24px\"viewBox=\"0 0 24 24\"\n",
              "       width=\"24px\">\n",
              "    <path d=\"M0 0h24v24H0V0z\" fill=\"none\"/>\n",
              "    <path d=\"M18.56 5.44l.94 2.06.94-2.06 2.06-.94-2.06-.94-.94-2.06-.94 2.06-2.06.94zm-11 1L8.5 8.5l.94-2.06 2.06-.94-2.06-.94L8.5 2.5l-.94 2.06-2.06.94zm10 10l.94 2.06.94-2.06 2.06-.94-2.06-.94-.94-2.06-.94 2.06-2.06.94z\"/><path d=\"M17.41 7.96l-1.37-1.37c-.4-.4-.92-.59-1.43-.59-.52 0-1.04.2-1.43.59L10.3 9.45l-7.72 7.72c-.78.78-.78 2.05 0 2.83L4 21.41c.39.39.9.59 1.41.59.51 0 1.02-.2 1.41-.59l7.78-7.78 2.81-2.81c.8-.78.8-2.07 0-2.86zM5.41 20L4 18.59l7.72-7.72 1.47 1.35L5.41 20z\"/>\n",
              "  </svg>\n",
              "      </button>\n",
              "      \n",
              "  <style>\n",
              "    .colab-df-container {\n",
              "      display:flex;\n",
              "      flex-wrap:wrap;\n",
              "      gap: 12px;\n",
              "    }\n",
              "\n",
              "    .colab-df-convert {\n",
              "      background-color: #E8F0FE;\n",
              "      border: none;\n",
              "      border-radius: 50%;\n",
              "      cursor: pointer;\n",
              "      display: none;\n",
              "      fill: #1967D2;\n",
              "      height: 32px;\n",
              "      padding: 0 0 0 0;\n",
              "      width: 32px;\n",
              "    }\n",
              "\n",
              "    .colab-df-convert:hover {\n",
              "      background-color: #E2EBFA;\n",
              "      box-shadow: 0px 1px 2px rgba(60, 64, 67, 0.3), 0px 1px 3px 1px rgba(60, 64, 67, 0.15);\n",
              "      fill: #174EA6;\n",
              "    }\n",
              "\n",
              "    [theme=dark] .colab-df-convert {\n",
              "      background-color: #3B4455;\n",
              "      fill: #D2E3FC;\n",
              "    }\n",
              "\n",
              "    [theme=dark] .colab-df-convert:hover {\n",
              "      background-color: #434B5C;\n",
              "      box-shadow: 0px 1px 3px 1px rgba(0, 0, 0, 0.15);\n",
              "      filter: drop-shadow(0px 1px 2px rgba(0, 0, 0, 0.3));\n",
              "      fill: #FFFFFF;\n",
              "    }\n",
              "  </style>\n",
              "\n",
              "      <script>\n",
              "        const buttonEl =\n",
              "          document.querySelector('#df-39d6d5d6-365b-4121-8428-24a3169cbf5e button.colab-df-convert');\n",
              "        buttonEl.style.display =\n",
              "          google.colab.kernel.accessAllowed ? 'block' : 'none';\n",
              "\n",
              "        async function convertToInteractive(key) {\n",
              "          const element = document.querySelector('#df-39d6d5d6-365b-4121-8428-24a3169cbf5e');\n",
              "          const dataTable =\n",
              "            await google.colab.kernel.invokeFunction('convertToInteractive',\n",
              "                                                     [key], {});\n",
              "          if (!dataTable) return;\n",
              "\n",
              "          const docLinkHtml = 'Like what you see? Visit the ' +\n",
              "            '<a target=\"_blank\" href=https://colab.research.google.com/notebooks/data_table.ipynb>data table notebook</a>'\n",
              "            + ' to learn more about interactive tables.';\n",
              "          element.innerHTML = '';\n",
              "          dataTable['output_type'] = 'display_data';\n",
              "          await google.colab.output.renderOutput(dataTable, element);\n",
              "          const docLink = document.createElement('div');\n",
              "          docLink.innerHTML = docLinkHtml;\n",
              "          element.appendChild(docLink);\n",
              "        }\n",
              "      </script>\n",
              "    </div>\n",
              "  </div>\n",
              "  "
            ]
          },
          "metadata": {},
          "execution_count": 490
        }
      ]
    },
    {
      "cell_type": "code",
      "source": [],
      "metadata": {
        "id": "cXTppWi-xPDc"
      },
      "id": "cXTppWi-xPDc",
      "execution_count": 490,
      "outputs": []
    }
  ],
  "metadata": {
    "kernelspec": {
      "display_name": "Python 3 (ipykernel)",
      "language": "python",
      "name": "python3"
    },
    "language_info": {
      "codemirror_mode": {
        "name": "ipython",
        "version": 3
      },
      "file_extension": ".py",
      "mimetype": "text/x-python",
      "name": "python",
      "nbconvert_exporter": "python",
      "pygments_lexer": "ipython3",
      "version": "3.9.12"
    },
    "colab": {
      "provenance": [],
      "toc_visible": true
    }
  },
  "nbformat": 4,
  "nbformat_minor": 5
}