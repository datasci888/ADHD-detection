{
  "cells": [
    {
      "cell_type": "code",
      "execution_count": null,
      "id": "f5253c66",
      "metadata": {
        "id": "f5253c66"
      },
      "outputs": [],
      "source": [
        "import os\n",
        "import pandas as pd\n",
        "from sklearn.metrics import confusion_matrix,classification_report,accuracy_score"
      ]
    },
    {
      "cell_type": "code",
      "source": [
        "from google.colab import drive\n",
        "drive.mount('/content/drive')"
      ],
      "metadata": {
        "colab": {
          "base_uri": "https://localhost:8080/"
        },
        "id": "AUlJPkIQNLRP",
        "outputId": "c9cd7762-ef8a-4dae-e9bf-bf0614508678"
      },
      "id": "AUlJPkIQNLRP",
      "execution_count": null,
      "outputs": [
        {
          "output_type": "stream",
          "name": "stdout",
          "text": [
            "Drive already mounted at /content/drive; to attempt to forcibly remount, call drive.mount(\"/content/drive\", force_remount=True).\n"
          ]
        }
      ]
    },
    {
      "cell_type": "code",
      "execution_count": null,
      "id": "76d14772",
      "metadata": {
        "id": "76d14772"
      },
      "outputs": [],
      "source": [
        "# path of csv files\n",
        "directory = r\"/content/drive/MyDrive/Csvs1\""
      ]
    },
    {
      "cell_type": "code",
      "execution_count": null,
      "id": "e782fea5",
      "metadata": {
        "id": "e782fea5"
      },
      "outputs": [],
      "source": [
        "lst = []\n",
        "for file in os.listdir(directory):\n",
        "    fpath = os.path.join(directory,file)\n",
        "    df_temp = pd.read_csv(fpath)\n",
        "    df_temp['Channel'] = file.split('.')[0]\n",
        "    lst.append(df_temp)"
      ]
    },
    {
      "cell_type": "code",
      "execution_count": null,
      "id": "e2d26d82",
      "metadata": {
        "id": "e2d26d82"
      },
      "outputs": [],
      "source": [
        "df_full = pd.concat(lst)"
      ]
    },
    {
      "cell_type": "code",
      "source": [
        "df_full.head()"
      ],
      "metadata": {
        "colab": {
          "base_uri": "https://localhost:8080/",
          "height": 285
        },
        "id": "adoJvhFNNaqh",
        "outputId": "047d0f00-07ab-44da-ec40-132db7ac13fa"
      },
      "id": "adoJvhFNNaqh",
      "execution_count": null,
      "outputs": [
        {
          "output_type": "execute_result",
          "data": {
            "text/plain": [
              "   Unnamed: 0  Filename Label  Absolute_Alpha  Relative_Alpha  Absolute_Beta  \\\n",
              "0           0  v173.mat  ADHD     1623.303060        0.109361    1767.356771   \n",
              "1           1  v14p.mat  ADHD     3885.988932        0.058442    2675.695475   \n",
              "2           2  v12p.mat  ADHD     2720.415690        0.024331    1104.299479   \n",
              "3           3  v15p.mat  ADHD     2196.946289        0.045699     970.403239   \n",
              "4           4  v10p.mat  ADHD     3569.600727        0.102675    1313.958923   \n",
              "\n",
              "   Relative_Beta  Absolute_Theta  Relative_Theta  Absolute_Delta  \\\n",
              "0       0.119066     3810.068359        0.256682     6486.032552   \n",
              "1       0.040240     5680.210286        0.085425    20269.679688   \n",
              "2       0.009877     5100.318359        0.045617    15617.141927   \n",
              "3       0.020185     5200.852214        0.108183    29266.421875   \n",
              "4       0.037794     2701.586405        0.077708    14201.884666   \n",
              "\n",
              "   Relative_Delta Channel  \n",
              "0        0.436960      C3  \n",
              "1        0.304838      C3  \n",
              "2        0.139678      C3  \n",
              "3        0.608773      C3  \n",
              "4        0.408498      C3  "
            ],
            "text/html": [
              "\n",
              "  <div id=\"df-801d1da7-3594-4c30-89ce-a2e0e546f427\">\n",
              "    <div class=\"colab-df-container\">\n",
              "      <div>\n",
              "<style scoped>\n",
              "    .dataframe tbody tr th:only-of-type {\n",
              "        vertical-align: middle;\n",
              "    }\n",
              "\n",
              "    .dataframe tbody tr th {\n",
              "        vertical-align: top;\n",
              "    }\n",
              "\n",
              "    .dataframe thead th {\n",
              "        text-align: right;\n",
              "    }\n",
              "</style>\n",
              "<table border=\"1\" class=\"dataframe\">\n",
              "  <thead>\n",
              "    <tr style=\"text-align: right;\">\n",
              "      <th></th>\n",
              "      <th>Unnamed: 0</th>\n",
              "      <th>Filename</th>\n",
              "      <th>Label</th>\n",
              "      <th>Absolute_Alpha</th>\n",
              "      <th>Relative_Alpha</th>\n",
              "      <th>Absolute_Beta</th>\n",
              "      <th>Relative_Beta</th>\n",
              "      <th>Absolute_Theta</th>\n",
              "      <th>Relative_Theta</th>\n",
              "      <th>Absolute_Delta</th>\n",
              "      <th>Relative_Delta</th>\n",
              "      <th>Channel</th>\n",
              "    </tr>\n",
              "  </thead>\n",
              "  <tbody>\n",
              "    <tr>\n",
              "      <th>0</th>\n",
              "      <td>0</td>\n",
              "      <td>v173.mat</td>\n",
              "      <td>ADHD</td>\n",
              "      <td>1623.303060</td>\n",
              "      <td>0.109361</td>\n",
              "      <td>1767.356771</td>\n",
              "      <td>0.119066</td>\n",
              "      <td>3810.068359</td>\n",
              "      <td>0.256682</td>\n",
              "      <td>6486.032552</td>\n",
              "      <td>0.436960</td>\n",
              "      <td>C3</td>\n",
              "    </tr>\n",
              "    <tr>\n",
              "      <th>1</th>\n",
              "      <td>1</td>\n",
              "      <td>v14p.mat</td>\n",
              "      <td>ADHD</td>\n",
              "      <td>3885.988932</td>\n",
              "      <td>0.058442</td>\n",
              "      <td>2675.695475</td>\n",
              "      <td>0.040240</td>\n",
              "      <td>5680.210286</td>\n",
              "      <td>0.085425</td>\n",
              "      <td>20269.679688</td>\n",
              "      <td>0.304838</td>\n",
              "      <td>C3</td>\n",
              "    </tr>\n",
              "    <tr>\n",
              "      <th>2</th>\n",
              "      <td>2</td>\n",
              "      <td>v12p.mat</td>\n",
              "      <td>ADHD</td>\n",
              "      <td>2720.415690</td>\n",
              "      <td>0.024331</td>\n",
              "      <td>1104.299479</td>\n",
              "      <td>0.009877</td>\n",
              "      <td>5100.318359</td>\n",
              "      <td>0.045617</td>\n",
              "      <td>15617.141927</td>\n",
              "      <td>0.139678</td>\n",
              "      <td>C3</td>\n",
              "    </tr>\n",
              "    <tr>\n",
              "      <th>3</th>\n",
              "      <td>3</td>\n",
              "      <td>v15p.mat</td>\n",
              "      <td>ADHD</td>\n",
              "      <td>2196.946289</td>\n",
              "      <td>0.045699</td>\n",
              "      <td>970.403239</td>\n",
              "      <td>0.020185</td>\n",
              "      <td>5200.852214</td>\n",
              "      <td>0.108183</td>\n",
              "      <td>29266.421875</td>\n",
              "      <td>0.608773</td>\n",
              "      <td>C3</td>\n",
              "    </tr>\n",
              "    <tr>\n",
              "      <th>4</th>\n",
              "      <td>4</td>\n",
              "      <td>v10p.mat</td>\n",
              "      <td>ADHD</td>\n",
              "      <td>3569.600727</td>\n",
              "      <td>0.102675</td>\n",
              "      <td>1313.958923</td>\n",
              "      <td>0.037794</td>\n",
              "      <td>2701.586405</td>\n",
              "      <td>0.077708</td>\n",
              "      <td>14201.884666</td>\n",
              "      <td>0.408498</td>\n",
              "      <td>C3</td>\n",
              "    </tr>\n",
              "  </tbody>\n",
              "</table>\n",
              "</div>\n",
              "      <button class=\"colab-df-convert\" onclick=\"convertToInteractive('df-801d1da7-3594-4c30-89ce-a2e0e546f427')\"\n",
              "              title=\"Convert this dataframe to an interactive table.\"\n",
              "              style=\"display:none;\">\n",
              "        \n",
              "  <svg xmlns=\"http://www.w3.org/2000/svg\" height=\"24px\"viewBox=\"0 0 24 24\"\n",
              "       width=\"24px\">\n",
              "    <path d=\"M0 0h24v24H0V0z\" fill=\"none\"/>\n",
              "    <path d=\"M18.56 5.44l.94 2.06.94-2.06 2.06-.94-2.06-.94-.94-2.06-.94 2.06-2.06.94zm-11 1L8.5 8.5l.94-2.06 2.06-.94-2.06-.94L8.5 2.5l-.94 2.06-2.06.94zm10 10l.94 2.06.94-2.06 2.06-.94-2.06-.94-.94-2.06-.94 2.06-2.06.94z\"/><path d=\"M17.41 7.96l-1.37-1.37c-.4-.4-.92-.59-1.43-.59-.52 0-1.04.2-1.43.59L10.3 9.45l-7.72 7.72c-.78.78-.78 2.05 0 2.83L4 21.41c.39.39.9.59 1.41.59.51 0 1.02-.2 1.41-.59l7.78-7.78 2.81-2.81c.8-.78.8-2.07 0-2.86zM5.41 20L4 18.59l7.72-7.72 1.47 1.35L5.41 20z\"/>\n",
              "  </svg>\n",
              "      </button>\n",
              "      \n",
              "  <style>\n",
              "    .colab-df-container {\n",
              "      display:flex;\n",
              "      flex-wrap:wrap;\n",
              "      gap: 12px;\n",
              "    }\n",
              "\n",
              "    .colab-df-convert {\n",
              "      background-color: #E8F0FE;\n",
              "      border: none;\n",
              "      border-radius: 50%;\n",
              "      cursor: pointer;\n",
              "      display: none;\n",
              "      fill: #1967D2;\n",
              "      height: 32px;\n",
              "      padding: 0 0 0 0;\n",
              "      width: 32px;\n",
              "    }\n",
              "\n",
              "    .colab-df-convert:hover {\n",
              "      background-color: #E2EBFA;\n",
              "      box-shadow: 0px 1px 2px rgba(60, 64, 67, 0.3), 0px 1px 3px 1px rgba(60, 64, 67, 0.15);\n",
              "      fill: #174EA6;\n",
              "    }\n",
              "\n",
              "    [theme=dark] .colab-df-convert {\n",
              "      background-color: #3B4455;\n",
              "      fill: #D2E3FC;\n",
              "    }\n",
              "\n",
              "    [theme=dark] .colab-df-convert:hover {\n",
              "      background-color: #434B5C;\n",
              "      box-shadow: 0px 1px 3px 1px rgba(0, 0, 0, 0.15);\n",
              "      filter: drop-shadow(0px 1px 2px rgba(0, 0, 0, 0.3));\n",
              "      fill: #FFFFFF;\n",
              "    }\n",
              "  </style>\n",
              "\n",
              "      <script>\n",
              "        const buttonEl =\n",
              "          document.querySelector('#df-801d1da7-3594-4c30-89ce-a2e0e546f427 button.colab-df-convert');\n",
              "        buttonEl.style.display =\n",
              "          google.colab.kernel.accessAllowed ? 'block' : 'none';\n",
              "\n",
              "        async function convertToInteractive(key) {\n",
              "          const element = document.querySelector('#df-801d1da7-3594-4c30-89ce-a2e0e546f427');\n",
              "          const dataTable =\n",
              "            await google.colab.kernel.invokeFunction('convertToInteractive',\n",
              "                                                     [key], {});\n",
              "          if (!dataTable) return;\n",
              "\n",
              "          const docLinkHtml = 'Like what you see? Visit the ' +\n",
              "            '<a target=\"_blank\" href=https://colab.research.google.com/notebooks/data_table.ipynb>data table notebook</a>'\n",
              "            + ' to learn more about interactive tables.';\n",
              "          element.innerHTML = '';\n",
              "          dataTable['output_type'] = 'display_data';\n",
              "          await google.colab.output.renderOutput(dataTable, element);\n",
              "          const docLink = document.createElement('div');\n",
              "          docLink.innerHTML = docLinkHtml;\n",
              "          element.appendChild(docLink);\n",
              "        }\n",
              "      </script>\n",
              "    </div>\n",
              "  </div>\n",
              "  "
            ]
          },
          "metadata": {},
          "execution_count": 111
        }
      ]
    },
    {
      "cell_type": "code",
      "execution_count": null,
      "id": "410e6e98",
      "metadata": {
        "id": "410e6e98"
      },
      "outputs": [],
      "source": [
        "# df_full['Label'] = df_full['Label'].replace(['ADHD','Non_ADHD'],[1,0])\n",
        "df_full.drop(['Unnamed: 0','Channel','Filename'],axis=1,inplace=True)"
      ]
    },
    {
      "cell_type": "code",
      "execution_count": null,
      "id": "e9b0a4c0",
      "metadata": {
        "id": "e9b0a4c0"
      },
      "outputs": [],
      "source": [
        "df = pd.get_dummies(df_full)"
      ]
    },
    {
      "cell_type": "code",
      "source": [
        "df_full.head()"
      ],
      "metadata": {
        "colab": {
          "base_uri": "https://localhost:8080/",
          "height": 268
        },
        "id": "_OVty7OzNq1X",
        "outputId": "d38667bb-42ed-4492-e2f7-7151fce334ad"
      },
      "id": "_OVty7OzNq1X",
      "execution_count": null,
      "outputs": [
        {
          "output_type": "execute_result",
          "data": {
            "text/plain": [
              "  Label  Absolute_Alpha  Relative_Alpha  Absolute_Beta  Relative_Beta  \\\n",
              "0  ADHD     1623.303060        0.109361    1767.356771       0.119066   \n",
              "1  ADHD     3885.988932        0.058442    2675.695475       0.040240   \n",
              "2  ADHD     2720.415690        0.024331    1104.299479       0.009877   \n",
              "3  ADHD     2196.946289        0.045699     970.403239       0.020185   \n",
              "4  ADHD     3569.600727        0.102675    1313.958923       0.037794   \n",
              "\n",
              "   Absolute_Theta  Relative_Theta  Absolute_Delta  Relative_Delta  \n",
              "0     3810.068359        0.256682     6486.032552        0.436960  \n",
              "1     5680.210286        0.085425    20269.679688        0.304838  \n",
              "2     5100.318359        0.045617    15617.141927        0.139678  \n",
              "3     5200.852214        0.108183    29266.421875        0.608773  \n",
              "4     2701.586405        0.077708    14201.884666        0.408498  "
            ],
            "text/html": [
              "\n",
              "  <div id=\"df-40c0651a-0920-4e16-94a6-64c24743a378\">\n",
              "    <div class=\"colab-df-container\">\n",
              "      <div>\n",
              "<style scoped>\n",
              "    .dataframe tbody tr th:only-of-type {\n",
              "        vertical-align: middle;\n",
              "    }\n",
              "\n",
              "    .dataframe tbody tr th {\n",
              "        vertical-align: top;\n",
              "    }\n",
              "\n",
              "    .dataframe thead th {\n",
              "        text-align: right;\n",
              "    }\n",
              "</style>\n",
              "<table border=\"1\" class=\"dataframe\">\n",
              "  <thead>\n",
              "    <tr style=\"text-align: right;\">\n",
              "      <th></th>\n",
              "      <th>Label</th>\n",
              "      <th>Absolute_Alpha</th>\n",
              "      <th>Relative_Alpha</th>\n",
              "      <th>Absolute_Beta</th>\n",
              "      <th>Relative_Beta</th>\n",
              "      <th>Absolute_Theta</th>\n",
              "      <th>Relative_Theta</th>\n",
              "      <th>Absolute_Delta</th>\n",
              "      <th>Relative_Delta</th>\n",
              "    </tr>\n",
              "  </thead>\n",
              "  <tbody>\n",
              "    <tr>\n",
              "      <th>0</th>\n",
              "      <td>ADHD</td>\n",
              "      <td>1623.303060</td>\n",
              "      <td>0.109361</td>\n",
              "      <td>1767.356771</td>\n",
              "      <td>0.119066</td>\n",
              "      <td>3810.068359</td>\n",
              "      <td>0.256682</td>\n",
              "      <td>6486.032552</td>\n",
              "      <td>0.436960</td>\n",
              "    </tr>\n",
              "    <tr>\n",
              "      <th>1</th>\n",
              "      <td>ADHD</td>\n",
              "      <td>3885.988932</td>\n",
              "      <td>0.058442</td>\n",
              "      <td>2675.695475</td>\n",
              "      <td>0.040240</td>\n",
              "      <td>5680.210286</td>\n",
              "      <td>0.085425</td>\n",
              "      <td>20269.679688</td>\n",
              "      <td>0.304838</td>\n",
              "    </tr>\n",
              "    <tr>\n",
              "      <th>2</th>\n",
              "      <td>ADHD</td>\n",
              "      <td>2720.415690</td>\n",
              "      <td>0.024331</td>\n",
              "      <td>1104.299479</td>\n",
              "      <td>0.009877</td>\n",
              "      <td>5100.318359</td>\n",
              "      <td>0.045617</td>\n",
              "      <td>15617.141927</td>\n",
              "      <td>0.139678</td>\n",
              "    </tr>\n",
              "    <tr>\n",
              "      <th>3</th>\n",
              "      <td>ADHD</td>\n",
              "      <td>2196.946289</td>\n",
              "      <td>0.045699</td>\n",
              "      <td>970.403239</td>\n",
              "      <td>0.020185</td>\n",
              "      <td>5200.852214</td>\n",
              "      <td>0.108183</td>\n",
              "      <td>29266.421875</td>\n",
              "      <td>0.608773</td>\n",
              "    </tr>\n",
              "    <tr>\n",
              "      <th>4</th>\n",
              "      <td>ADHD</td>\n",
              "      <td>3569.600727</td>\n",
              "      <td>0.102675</td>\n",
              "      <td>1313.958923</td>\n",
              "      <td>0.037794</td>\n",
              "      <td>2701.586405</td>\n",
              "      <td>0.077708</td>\n",
              "      <td>14201.884666</td>\n",
              "      <td>0.408498</td>\n",
              "    </tr>\n",
              "  </tbody>\n",
              "</table>\n",
              "</div>\n",
              "      <button class=\"colab-df-convert\" onclick=\"convertToInteractive('df-40c0651a-0920-4e16-94a6-64c24743a378')\"\n",
              "              title=\"Convert this dataframe to an interactive table.\"\n",
              "              style=\"display:none;\">\n",
              "        \n",
              "  <svg xmlns=\"http://www.w3.org/2000/svg\" height=\"24px\"viewBox=\"0 0 24 24\"\n",
              "       width=\"24px\">\n",
              "    <path d=\"M0 0h24v24H0V0z\" fill=\"none\"/>\n",
              "    <path d=\"M18.56 5.44l.94 2.06.94-2.06 2.06-.94-2.06-.94-.94-2.06-.94 2.06-2.06.94zm-11 1L8.5 8.5l.94-2.06 2.06-.94-2.06-.94L8.5 2.5l-.94 2.06-2.06.94zm10 10l.94 2.06.94-2.06 2.06-.94-2.06-.94-.94-2.06-.94 2.06-2.06.94z\"/><path d=\"M17.41 7.96l-1.37-1.37c-.4-.4-.92-.59-1.43-.59-.52 0-1.04.2-1.43.59L10.3 9.45l-7.72 7.72c-.78.78-.78 2.05 0 2.83L4 21.41c.39.39.9.59 1.41.59.51 0 1.02-.2 1.41-.59l7.78-7.78 2.81-2.81c.8-.78.8-2.07 0-2.86zM5.41 20L4 18.59l7.72-7.72 1.47 1.35L5.41 20z\"/>\n",
              "  </svg>\n",
              "      </button>\n",
              "      \n",
              "  <style>\n",
              "    .colab-df-container {\n",
              "      display:flex;\n",
              "      flex-wrap:wrap;\n",
              "      gap: 12px;\n",
              "    }\n",
              "\n",
              "    .colab-df-convert {\n",
              "      background-color: #E8F0FE;\n",
              "      border: none;\n",
              "      border-radius: 50%;\n",
              "      cursor: pointer;\n",
              "      display: none;\n",
              "      fill: #1967D2;\n",
              "      height: 32px;\n",
              "      padding: 0 0 0 0;\n",
              "      width: 32px;\n",
              "    }\n",
              "\n",
              "    .colab-df-convert:hover {\n",
              "      background-color: #E2EBFA;\n",
              "      box-shadow: 0px 1px 2px rgba(60, 64, 67, 0.3), 0px 1px 3px 1px rgba(60, 64, 67, 0.15);\n",
              "      fill: #174EA6;\n",
              "    }\n",
              "\n",
              "    [theme=dark] .colab-df-convert {\n",
              "      background-color: #3B4455;\n",
              "      fill: #D2E3FC;\n",
              "    }\n",
              "\n",
              "    [theme=dark] .colab-df-convert:hover {\n",
              "      background-color: #434B5C;\n",
              "      box-shadow: 0px 1px 3px 1px rgba(0, 0, 0, 0.15);\n",
              "      filter: drop-shadow(0px 1px 2px rgba(0, 0, 0, 0.3));\n",
              "      fill: #FFFFFF;\n",
              "    }\n",
              "  </style>\n",
              "\n",
              "      <script>\n",
              "        const buttonEl =\n",
              "          document.querySelector('#df-40c0651a-0920-4e16-94a6-64c24743a378 button.colab-df-convert');\n",
              "        buttonEl.style.display =\n",
              "          google.colab.kernel.accessAllowed ? 'block' : 'none';\n",
              "\n",
              "        async function convertToInteractive(key) {\n",
              "          const element = document.querySelector('#df-40c0651a-0920-4e16-94a6-64c24743a378');\n",
              "          const dataTable =\n",
              "            await google.colab.kernel.invokeFunction('convertToInteractive',\n",
              "                                                     [key], {});\n",
              "          if (!dataTable) return;\n",
              "\n",
              "          const docLinkHtml = 'Like what you see? Visit the ' +\n",
              "            '<a target=\"_blank\" href=https://colab.research.google.com/notebooks/data_table.ipynb>data table notebook</a>'\n",
              "            + ' to learn more about interactive tables.';\n",
              "          element.innerHTML = '';\n",
              "          dataTable['output_type'] = 'display_data';\n",
              "          await google.colab.output.renderOutput(dataTable, element);\n",
              "          const docLink = document.createElement('div');\n",
              "          docLink.innerHTML = docLinkHtml;\n",
              "          element.appendChild(docLink);\n",
              "        }\n",
              "      </script>\n",
              "    </div>\n",
              "  </div>\n",
              "  "
            ]
          },
          "metadata": {},
          "execution_count": 114
        }
      ]
    },
    {
      "cell_type": "code",
      "source": [
        "df"
      ],
      "metadata": {
        "colab": {
          "base_uri": "https://localhost:8080/",
          "height": 483
        },
        "id": "uSXXd-3LN3BL",
        "outputId": "ffbf8447-f270-4550-f823-8d3d257d9753"
      },
      "id": "uSXXd-3LN3BL",
      "execution_count": null,
      "outputs": [
        {
          "output_type": "execute_result",
          "data": {
            "text/plain": [
              "     Absolute_Alpha  Relative_Alpha  Absolute_Beta  Relative_Beta  \\\n",
              "0       1623.303060        0.109361    1767.356771       0.119066   \n",
              "1       3885.988932        0.058442    2675.695475       0.040240   \n",
              "2       2720.415690        0.024331    1104.299479       0.009877   \n",
              "3       2196.946289        0.045699     970.403239       0.020185   \n",
              "4       3569.600727        0.102675    1313.958923       0.037794   \n",
              "..              ...             ...            ...            ...   \n",
              "116      609.653369        0.024554     751.743585       0.030276   \n",
              "117     1736.088216        0.133209    1275.494466       0.097868   \n",
              "118      765.085910        0.092141     681.257961       0.082046   \n",
              "119     1258.154622        0.027859     862.976807       0.019108   \n",
              "120      770.769023        0.056070    1640.545529       0.119343   \n",
              "\n",
              "     Absolute_Theta  Relative_Theta  Absolute_Delta  Relative_Delta  \\\n",
              "0       3810.068359        0.256682     6486.032552        0.436960   \n",
              "1       5680.210286        0.085425    20269.679688        0.304838   \n",
              "2       5100.318359        0.045617    15617.141927        0.139678   \n",
              "3       5200.852214        0.108183    29266.421875        0.608773   \n",
              "4       2701.586405        0.077708    14201.884666        0.408498   \n",
              "..              ...             ...             ...             ...   \n",
              "116     2079.596119        0.083755     7774.368770        0.313109   \n",
              "117     2521.710612        0.193489     4258.750326        0.326771   \n",
              "118     1657.203357        0.199581     3971.219551        0.478263   \n",
              "119     3459.016276        0.076591     6574.927083        0.145585   \n",
              "120     1401.716393        0.101969     8832.467250        0.642524   \n",
              "\n",
              "     Label_ADHD  Label_Non_ADHD  \n",
              "0             1               0  \n",
              "1             1               0  \n",
              "2             1               0  \n",
              "3             1               0  \n",
              "4             1               0  \n",
              "..          ...             ...  \n",
              "116           0               1  \n",
              "117           0               1  \n",
              "118           0               1  \n",
              "119           0               1  \n",
              "120           0               1  \n",
              "\n",
              "[2299 rows x 10 columns]"
            ],
            "text/html": [
              "\n",
              "  <div id=\"df-84528aa5-0b44-4579-ab03-3dd49bebabb9\">\n",
              "    <div class=\"colab-df-container\">\n",
              "      <div>\n",
              "<style scoped>\n",
              "    .dataframe tbody tr th:only-of-type {\n",
              "        vertical-align: middle;\n",
              "    }\n",
              "\n",
              "    .dataframe tbody tr th {\n",
              "        vertical-align: top;\n",
              "    }\n",
              "\n",
              "    .dataframe thead th {\n",
              "        text-align: right;\n",
              "    }\n",
              "</style>\n",
              "<table border=\"1\" class=\"dataframe\">\n",
              "  <thead>\n",
              "    <tr style=\"text-align: right;\">\n",
              "      <th></th>\n",
              "      <th>Absolute_Alpha</th>\n",
              "      <th>Relative_Alpha</th>\n",
              "      <th>Absolute_Beta</th>\n",
              "      <th>Relative_Beta</th>\n",
              "      <th>Absolute_Theta</th>\n",
              "      <th>Relative_Theta</th>\n",
              "      <th>Absolute_Delta</th>\n",
              "      <th>Relative_Delta</th>\n",
              "      <th>Label_ADHD</th>\n",
              "      <th>Label_Non_ADHD</th>\n",
              "    </tr>\n",
              "  </thead>\n",
              "  <tbody>\n",
              "    <tr>\n",
              "      <th>0</th>\n",
              "      <td>1623.303060</td>\n",
              "      <td>0.109361</td>\n",
              "      <td>1767.356771</td>\n",
              "      <td>0.119066</td>\n",
              "      <td>3810.068359</td>\n",
              "      <td>0.256682</td>\n",
              "      <td>6486.032552</td>\n",
              "      <td>0.436960</td>\n",
              "      <td>1</td>\n",
              "      <td>0</td>\n",
              "    </tr>\n",
              "    <tr>\n",
              "      <th>1</th>\n",
              "      <td>3885.988932</td>\n",
              "      <td>0.058442</td>\n",
              "      <td>2675.695475</td>\n",
              "      <td>0.040240</td>\n",
              "      <td>5680.210286</td>\n",
              "      <td>0.085425</td>\n",
              "      <td>20269.679688</td>\n",
              "      <td>0.304838</td>\n",
              "      <td>1</td>\n",
              "      <td>0</td>\n",
              "    </tr>\n",
              "    <tr>\n",
              "      <th>2</th>\n",
              "      <td>2720.415690</td>\n",
              "      <td>0.024331</td>\n",
              "      <td>1104.299479</td>\n",
              "      <td>0.009877</td>\n",
              "      <td>5100.318359</td>\n",
              "      <td>0.045617</td>\n",
              "      <td>15617.141927</td>\n",
              "      <td>0.139678</td>\n",
              "      <td>1</td>\n",
              "      <td>0</td>\n",
              "    </tr>\n",
              "    <tr>\n",
              "      <th>3</th>\n",
              "      <td>2196.946289</td>\n",
              "      <td>0.045699</td>\n",
              "      <td>970.403239</td>\n",
              "      <td>0.020185</td>\n",
              "      <td>5200.852214</td>\n",
              "      <td>0.108183</td>\n",
              "      <td>29266.421875</td>\n",
              "      <td>0.608773</td>\n",
              "      <td>1</td>\n",
              "      <td>0</td>\n",
              "    </tr>\n",
              "    <tr>\n",
              "      <th>4</th>\n",
              "      <td>3569.600727</td>\n",
              "      <td>0.102675</td>\n",
              "      <td>1313.958923</td>\n",
              "      <td>0.037794</td>\n",
              "      <td>2701.586405</td>\n",
              "      <td>0.077708</td>\n",
              "      <td>14201.884666</td>\n",
              "      <td>0.408498</td>\n",
              "      <td>1</td>\n",
              "      <td>0</td>\n",
              "    </tr>\n",
              "    <tr>\n",
              "      <th>...</th>\n",
              "      <td>...</td>\n",
              "      <td>...</td>\n",
              "      <td>...</td>\n",
              "      <td>...</td>\n",
              "      <td>...</td>\n",
              "      <td>...</td>\n",
              "      <td>...</td>\n",
              "      <td>...</td>\n",
              "      <td>...</td>\n",
              "      <td>...</td>\n",
              "    </tr>\n",
              "    <tr>\n",
              "      <th>116</th>\n",
              "      <td>609.653369</td>\n",
              "      <td>0.024554</td>\n",
              "      <td>751.743585</td>\n",
              "      <td>0.030276</td>\n",
              "      <td>2079.596119</td>\n",
              "      <td>0.083755</td>\n",
              "      <td>7774.368770</td>\n",
              "      <td>0.313109</td>\n",
              "      <td>0</td>\n",
              "      <td>1</td>\n",
              "    </tr>\n",
              "    <tr>\n",
              "      <th>117</th>\n",
              "      <td>1736.088216</td>\n",
              "      <td>0.133209</td>\n",
              "      <td>1275.494466</td>\n",
              "      <td>0.097868</td>\n",
              "      <td>2521.710612</td>\n",
              "      <td>0.193489</td>\n",
              "      <td>4258.750326</td>\n",
              "      <td>0.326771</td>\n",
              "      <td>0</td>\n",
              "      <td>1</td>\n",
              "    </tr>\n",
              "    <tr>\n",
              "      <th>118</th>\n",
              "      <td>765.085910</td>\n",
              "      <td>0.092141</td>\n",
              "      <td>681.257961</td>\n",
              "      <td>0.082046</td>\n",
              "      <td>1657.203357</td>\n",
              "      <td>0.199581</td>\n",
              "      <td>3971.219551</td>\n",
              "      <td>0.478263</td>\n",
              "      <td>0</td>\n",
              "      <td>1</td>\n",
              "    </tr>\n",
              "    <tr>\n",
              "      <th>119</th>\n",
              "      <td>1258.154622</td>\n",
              "      <td>0.027859</td>\n",
              "      <td>862.976807</td>\n",
              "      <td>0.019108</td>\n",
              "      <td>3459.016276</td>\n",
              "      <td>0.076591</td>\n",
              "      <td>6574.927083</td>\n",
              "      <td>0.145585</td>\n",
              "      <td>0</td>\n",
              "      <td>1</td>\n",
              "    </tr>\n",
              "    <tr>\n",
              "      <th>120</th>\n",
              "      <td>770.769023</td>\n",
              "      <td>0.056070</td>\n",
              "      <td>1640.545529</td>\n",
              "      <td>0.119343</td>\n",
              "      <td>1401.716393</td>\n",
              "      <td>0.101969</td>\n",
              "      <td>8832.467250</td>\n",
              "      <td>0.642524</td>\n",
              "      <td>0</td>\n",
              "      <td>1</td>\n",
              "    </tr>\n",
              "  </tbody>\n",
              "</table>\n",
              "<p>2299 rows × 10 columns</p>\n",
              "</div>\n",
              "      <button class=\"colab-df-convert\" onclick=\"convertToInteractive('df-84528aa5-0b44-4579-ab03-3dd49bebabb9')\"\n",
              "              title=\"Convert this dataframe to an interactive table.\"\n",
              "              style=\"display:none;\">\n",
              "        \n",
              "  <svg xmlns=\"http://www.w3.org/2000/svg\" height=\"24px\"viewBox=\"0 0 24 24\"\n",
              "       width=\"24px\">\n",
              "    <path d=\"M0 0h24v24H0V0z\" fill=\"none\"/>\n",
              "    <path d=\"M18.56 5.44l.94 2.06.94-2.06 2.06-.94-2.06-.94-.94-2.06-.94 2.06-2.06.94zm-11 1L8.5 8.5l.94-2.06 2.06-.94-2.06-.94L8.5 2.5l-.94 2.06-2.06.94zm10 10l.94 2.06.94-2.06 2.06-.94-2.06-.94-.94-2.06-.94 2.06-2.06.94z\"/><path d=\"M17.41 7.96l-1.37-1.37c-.4-.4-.92-.59-1.43-.59-.52 0-1.04.2-1.43.59L10.3 9.45l-7.72 7.72c-.78.78-.78 2.05 0 2.83L4 21.41c.39.39.9.59 1.41.59.51 0 1.02-.2 1.41-.59l7.78-7.78 2.81-2.81c.8-.78.8-2.07 0-2.86zM5.41 20L4 18.59l7.72-7.72 1.47 1.35L5.41 20z\"/>\n",
              "  </svg>\n",
              "      </button>\n",
              "      \n",
              "  <style>\n",
              "    .colab-df-container {\n",
              "      display:flex;\n",
              "      flex-wrap:wrap;\n",
              "      gap: 12px;\n",
              "    }\n",
              "\n",
              "    .colab-df-convert {\n",
              "      background-color: #E8F0FE;\n",
              "      border: none;\n",
              "      border-radius: 50%;\n",
              "      cursor: pointer;\n",
              "      display: none;\n",
              "      fill: #1967D2;\n",
              "      height: 32px;\n",
              "      padding: 0 0 0 0;\n",
              "      width: 32px;\n",
              "    }\n",
              "\n",
              "    .colab-df-convert:hover {\n",
              "      background-color: #E2EBFA;\n",
              "      box-shadow: 0px 1px 2px rgba(60, 64, 67, 0.3), 0px 1px 3px 1px rgba(60, 64, 67, 0.15);\n",
              "      fill: #174EA6;\n",
              "    }\n",
              "\n",
              "    [theme=dark] .colab-df-convert {\n",
              "      background-color: #3B4455;\n",
              "      fill: #D2E3FC;\n",
              "    }\n",
              "\n",
              "    [theme=dark] .colab-df-convert:hover {\n",
              "      background-color: #434B5C;\n",
              "      box-shadow: 0px 1px 3px 1px rgba(0, 0, 0, 0.15);\n",
              "      filter: drop-shadow(0px 1px 2px rgba(0, 0, 0, 0.3));\n",
              "      fill: #FFFFFF;\n",
              "    }\n",
              "  </style>\n",
              "\n",
              "      <script>\n",
              "        const buttonEl =\n",
              "          document.querySelector('#df-84528aa5-0b44-4579-ab03-3dd49bebabb9 button.colab-df-convert');\n",
              "        buttonEl.style.display =\n",
              "          google.colab.kernel.accessAllowed ? 'block' : 'none';\n",
              "\n",
              "        async function convertToInteractive(key) {\n",
              "          const element = document.querySelector('#df-84528aa5-0b44-4579-ab03-3dd49bebabb9');\n",
              "          const dataTable =\n",
              "            await google.colab.kernel.invokeFunction('convertToInteractive',\n",
              "                                                     [key], {});\n",
              "          if (!dataTable) return;\n",
              "\n",
              "          const docLinkHtml = 'Like what you see? Visit the ' +\n",
              "            '<a target=\"_blank\" href=https://colab.research.google.com/notebooks/data_table.ipynb>data table notebook</a>'\n",
              "            + ' to learn more about interactive tables.';\n",
              "          element.innerHTML = '';\n",
              "          dataTable['output_type'] = 'display_data';\n",
              "          await google.colab.output.renderOutput(dataTable, element);\n",
              "          const docLink = document.createElement('div');\n",
              "          docLink.innerHTML = docLinkHtml;\n",
              "          element.appendChild(docLink);\n",
              "        }\n",
              "      </script>\n",
              "    </div>\n",
              "  </div>\n",
              "  "
            ]
          },
          "metadata": {},
          "execution_count": 115
        }
      ]
    },
    {
      "cell_type": "code",
      "execution_count": null,
      "id": "1186f1a0",
      "metadata": {
        "id": "1186f1a0"
      },
      "outputs": [],
      "source": [
        "X = df_full.drop('Label',axis=1)\n",
        "y = df_full['Label']"
      ]
    },
    {
      "cell_type": "code",
      "execution_count": null,
      "id": "1632630f",
      "metadata": {
        "id": "1632630f"
      },
      "outputs": [],
      "source": [
        "from sklearn.model_selection import train_test_split\n",
        "X_train, X_test, y_train, y_test = train_test_split(X, y, test_size = 0.25, random_state = 0)"
      ]
    },
    {
      "cell_type": "code",
      "source": [
        "X_train"
      ],
      "metadata": {
        "colab": {
          "base_uri": "https://localhost:8080/",
          "height": 483
        },
        "id": "EHgubNZ_QkQM",
        "outputId": "25dcb651-5efc-488a-ed08-c48ed53df147"
      },
      "id": "EHgubNZ_QkQM",
      "execution_count": null,
      "outputs": [
        {
          "output_type": "execute_result",
          "data": {
            "text/plain": [
              "     Absolute_Alpha  Relative_Alpha  Absolute_Beta  Relative_Beta  \\\n",
              "80      1286.941081        0.059033    1720.183105       0.078906   \n",
              "52      2521.277018        0.038814    2837.568359       0.043684   \n",
              "117     1400.858561        0.071071    1621.625488       0.082271   \n",
              "88       719.355632        0.026312     919.766602       0.033643   \n",
              "88      1742.308268        0.050647    1448.459310       0.042105   \n",
              "..              ...             ...            ...            ...   \n",
              "65       925.264648        0.020439    1029.514160       0.022742   \n",
              "37       700.024577        0.083933    1411.069824       0.169187   \n",
              "37      3008.566081        0.022508    3486.216797       0.026081   \n",
              "109     1261.454756        0.023440    1685.125978       0.031312   \n",
              "80      1363.545247        0.107033    1382.458496       0.108518   \n",
              "\n",
              "     Absolute_Theta  Relative_Theta  Absolute_Delta  Relative_Delta  \n",
              "80      1906.642578        0.087459     8098.747396        0.371494  \n",
              "52      7992.018229        0.123035    48186.067708        0.741812  \n",
              "117     2661.518717        0.135028     7470.615234        0.379011  \n",
              "88      2229.475911        0.081549     8502.459635        0.310999  \n",
              "88      6058.776042        0.176121    13858.936198        0.402861  \n",
              "..              ...             ...             ...             ...  \n",
              "65      3019.877604        0.066710    33181.156250        0.732978  \n",
              "37      1348.322754        0.161664     3759.441406        0.450756  \n",
              "37     10471.923828        0.078342    93810.968750        0.701817  \n",
              "109     5180.697215        0.096266    32312.219174        0.600416  \n",
              "80      1524.304036        0.119652     5569.513672        0.437186  \n",
              "\n",
              "[1724 rows x 8 columns]"
            ],
            "text/html": [
              "\n",
              "  <div id=\"df-efde042a-735d-47ff-8e1f-601581de50c7\">\n",
              "    <div class=\"colab-df-container\">\n",
              "      <div>\n",
              "<style scoped>\n",
              "    .dataframe tbody tr th:only-of-type {\n",
              "        vertical-align: middle;\n",
              "    }\n",
              "\n",
              "    .dataframe tbody tr th {\n",
              "        vertical-align: top;\n",
              "    }\n",
              "\n",
              "    .dataframe thead th {\n",
              "        text-align: right;\n",
              "    }\n",
              "</style>\n",
              "<table border=\"1\" class=\"dataframe\">\n",
              "  <thead>\n",
              "    <tr style=\"text-align: right;\">\n",
              "      <th></th>\n",
              "      <th>Absolute_Alpha</th>\n",
              "      <th>Relative_Alpha</th>\n",
              "      <th>Absolute_Beta</th>\n",
              "      <th>Relative_Beta</th>\n",
              "      <th>Absolute_Theta</th>\n",
              "      <th>Relative_Theta</th>\n",
              "      <th>Absolute_Delta</th>\n",
              "      <th>Relative_Delta</th>\n",
              "    </tr>\n",
              "  </thead>\n",
              "  <tbody>\n",
              "    <tr>\n",
              "      <th>80</th>\n",
              "      <td>1286.941081</td>\n",
              "      <td>0.059033</td>\n",
              "      <td>1720.183105</td>\n",
              "      <td>0.078906</td>\n",
              "      <td>1906.642578</td>\n",
              "      <td>0.087459</td>\n",
              "      <td>8098.747396</td>\n",
              "      <td>0.371494</td>\n",
              "    </tr>\n",
              "    <tr>\n",
              "      <th>52</th>\n",
              "      <td>2521.277018</td>\n",
              "      <td>0.038814</td>\n",
              "      <td>2837.568359</td>\n",
              "      <td>0.043684</td>\n",
              "      <td>7992.018229</td>\n",
              "      <td>0.123035</td>\n",
              "      <td>48186.067708</td>\n",
              "      <td>0.741812</td>\n",
              "    </tr>\n",
              "    <tr>\n",
              "      <th>117</th>\n",
              "      <td>1400.858561</td>\n",
              "      <td>0.071071</td>\n",
              "      <td>1621.625488</td>\n",
              "      <td>0.082271</td>\n",
              "      <td>2661.518717</td>\n",
              "      <td>0.135028</td>\n",
              "      <td>7470.615234</td>\n",
              "      <td>0.379011</td>\n",
              "    </tr>\n",
              "    <tr>\n",
              "      <th>88</th>\n",
              "      <td>719.355632</td>\n",
              "      <td>0.026312</td>\n",
              "      <td>919.766602</td>\n",
              "      <td>0.033643</td>\n",
              "      <td>2229.475911</td>\n",
              "      <td>0.081549</td>\n",
              "      <td>8502.459635</td>\n",
              "      <td>0.310999</td>\n",
              "    </tr>\n",
              "    <tr>\n",
              "      <th>88</th>\n",
              "      <td>1742.308268</td>\n",
              "      <td>0.050647</td>\n",
              "      <td>1448.459310</td>\n",
              "      <td>0.042105</td>\n",
              "      <td>6058.776042</td>\n",
              "      <td>0.176121</td>\n",
              "      <td>13858.936198</td>\n",
              "      <td>0.402861</td>\n",
              "    </tr>\n",
              "    <tr>\n",
              "      <th>...</th>\n",
              "      <td>...</td>\n",
              "      <td>...</td>\n",
              "      <td>...</td>\n",
              "      <td>...</td>\n",
              "      <td>...</td>\n",
              "      <td>...</td>\n",
              "      <td>...</td>\n",
              "      <td>...</td>\n",
              "    </tr>\n",
              "    <tr>\n",
              "      <th>65</th>\n",
              "      <td>925.264648</td>\n",
              "      <td>0.020439</td>\n",
              "      <td>1029.514160</td>\n",
              "      <td>0.022742</td>\n",
              "      <td>3019.877604</td>\n",
              "      <td>0.066710</td>\n",
              "      <td>33181.156250</td>\n",
              "      <td>0.732978</td>\n",
              "    </tr>\n",
              "    <tr>\n",
              "      <th>37</th>\n",
              "      <td>700.024577</td>\n",
              "      <td>0.083933</td>\n",
              "      <td>1411.069824</td>\n",
              "      <td>0.169187</td>\n",
              "      <td>1348.322754</td>\n",
              "      <td>0.161664</td>\n",
              "      <td>3759.441406</td>\n",
              "      <td>0.450756</td>\n",
              "    </tr>\n",
              "    <tr>\n",
              "      <th>37</th>\n",
              "      <td>3008.566081</td>\n",
              "      <td>0.022508</td>\n",
              "      <td>3486.216797</td>\n",
              "      <td>0.026081</td>\n",
              "      <td>10471.923828</td>\n",
              "      <td>0.078342</td>\n",
              "      <td>93810.968750</td>\n",
              "      <td>0.701817</td>\n",
              "    </tr>\n",
              "    <tr>\n",
              "      <th>109</th>\n",
              "      <td>1261.454756</td>\n",
              "      <td>0.023440</td>\n",
              "      <td>1685.125978</td>\n",
              "      <td>0.031312</td>\n",
              "      <td>5180.697215</td>\n",
              "      <td>0.096266</td>\n",
              "      <td>32312.219174</td>\n",
              "      <td>0.600416</td>\n",
              "    </tr>\n",
              "    <tr>\n",
              "      <th>80</th>\n",
              "      <td>1363.545247</td>\n",
              "      <td>0.107033</td>\n",
              "      <td>1382.458496</td>\n",
              "      <td>0.108518</td>\n",
              "      <td>1524.304036</td>\n",
              "      <td>0.119652</td>\n",
              "      <td>5569.513672</td>\n",
              "      <td>0.437186</td>\n",
              "    </tr>\n",
              "  </tbody>\n",
              "</table>\n",
              "<p>1724 rows × 8 columns</p>\n",
              "</div>\n",
              "      <button class=\"colab-df-convert\" onclick=\"convertToInteractive('df-efde042a-735d-47ff-8e1f-601581de50c7')\"\n",
              "              title=\"Convert this dataframe to an interactive table.\"\n",
              "              style=\"display:none;\">\n",
              "        \n",
              "  <svg xmlns=\"http://www.w3.org/2000/svg\" height=\"24px\"viewBox=\"0 0 24 24\"\n",
              "       width=\"24px\">\n",
              "    <path d=\"M0 0h24v24H0V0z\" fill=\"none\"/>\n",
              "    <path d=\"M18.56 5.44l.94 2.06.94-2.06 2.06-.94-2.06-.94-.94-2.06-.94 2.06-2.06.94zm-11 1L8.5 8.5l.94-2.06 2.06-.94-2.06-.94L8.5 2.5l-.94 2.06-2.06.94zm10 10l.94 2.06.94-2.06 2.06-.94-2.06-.94-.94-2.06-.94 2.06-2.06.94z\"/><path d=\"M17.41 7.96l-1.37-1.37c-.4-.4-.92-.59-1.43-.59-.52 0-1.04.2-1.43.59L10.3 9.45l-7.72 7.72c-.78.78-.78 2.05 0 2.83L4 21.41c.39.39.9.59 1.41.59.51 0 1.02-.2 1.41-.59l7.78-7.78 2.81-2.81c.8-.78.8-2.07 0-2.86zM5.41 20L4 18.59l7.72-7.72 1.47 1.35L5.41 20z\"/>\n",
              "  </svg>\n",
              "      </button>\n",
              "      \n",
              "  <style>\n",
              "    .colab-df-container {\n",
              "      display:flex;\n",
              "      flex-wrap:wrap;\n",
              "      gap: 12px;\n",
              "    }\n",
              "\n",
              "    .colab-df-convert {\n",
              "      background-color: #E8F0FE;\n",
              "      border: none;\n",
              "      border-radius: 50%;\n",
              "      cursor: pointer;\n",
              "      display: none;\n",
              "      fill: #1967D2;\n",
              "      height: 32px;\n",
              "      padding: 0 0 0 0;\n",
              "      width: 32px;\n",
              "    }\n",
              "\n",
              "    .colab-df-convert:hover {\n",
              "      background-color: #E2EBFA;\n",
              "      box-shadow: 0px 1px 2px rgba(60, 64, 67, 0.3), 0px 1px 3px 1px rgba(60, 64, 67, 0.15);\n",
              "      fill: #174EA6;\n",
              "    }\n",
              "\n",
              "    [theme=dark] .colab-df-convert {\n",
              "      background-color: #3B4455;\n",
              "      fill: #D2E3FC;\n",
              "    }\n",
              "\n",
              "    [theme=dark] .colab-df-convert:hover {\n",
              "      background-color: #434B5C;\n",
              "      box-shadow: 0px 1px 3px 1px rgba(0, 0, 0, 0.15);\n",
              "      filter: drop-shadow(0px 1px 2px rgba(0, 0, 0, 0.3));\n",
              "      fill: #FFFFFF;\n",
              "    }\n",
              "  </style>\n",
              "\n",
              "      <script>\n",
              "        const buttonEl =\n",
              "          document.querySelector('#df-efde042a-735d-47ff-8e1f-601581de50c7 button.colab-df-convert');\n",
              "        buttonEl.style.display =\n",
              "          google.colab.kernel.accessAllowed ? 'block' : 'none';\n",
              "\n",
              "        async function convertToInteractive(key) {\n",
              "          const element = document.querySelector('#df-efde042a-735d-47ff-8e1f-601581de50c7');\n",
              "          const dataTable =\n",
              "            await google.colab.kernel.invokeFunction('convertToInteractive',\n",
              "                                                     [key], {});\n",
              "          if (!dataTable) return;\n",
              "\n",
              "          const docLinkHtml = 'Like what you see? Visit the ' +\n",
              "            '<a target=\"_blank\" href=https://colab.research.google.com/notebooks/data_table.ipynb>data table notebook</a>'\n",
              "            + ' to learn more about interactive tables.';\n",
              "          element.innerHTML = '';\n",
              "          dataTable['output_type'] = 'display_data';\n",
              "          await google.colab.output.renderOutput(dataTable, element);\n",
              "          const docLink = document.createElement('div');\n",
              "          docLink.innerHTML = docLinkHtml;\n",
              "          element.appendChild(docLink);\n",
              "        }\n",
              "      </script>\n",
              "    </div>\n",
              "  </div>\n",
              "  "
            ]
          },
          "metadata": {},
          "execution_count": 118
        }
      ]
    },
    {
      "cell_type": "code",
      "execution_count": null,
      "id": "b3b4a366",
      "metadata": {
        "id": "b3b4a366"
      },
      "outputs": [],
      "source": [
        "from sklearn.preprocessing import StandardScaler\n",
        "sc = StandardScaler()\n",
        "X_train = sc.fit_transform(X_train)\n",
        "X_test = sc.transform(X_test)"
      ]
    },
    {
      "cell_type": "markdown",
      "id": "d353e7f8",
      "metadata": {
        "id": "d353e7f8"
      },
      "source": [
        "# DecisionTreeClassifier"
      ]
    },
    {
      "cell_type": "code",
      "execution_count": null,
      "id": "e9d6ed52",
      "metadata": {
        "colab": {
          "base_uri": "https://localhost:8080/"
        },
        "id": "e9d6ed52",
        "outputId": "8718ba55-5aa7-41ff-8d22-2c6533f0ed87"
      },
      "outputs": [
        {
          "output_type": "stream",
          "name": "stdout",
          "text": [
            "              precision    recall  f1-score   support\n",
            "\n",
            "        ADHD       0.65      0.65      0.65       295\n",
            "    Non_ADHD       0.63      0.63      0.63       280\n",
            "\n",
            "    accuracy                           0.64       575\n",
            "   macro avg       0.64      0.64      0.64       575\n",
            "weighted avg       0.64      0.64      0.64       575\n",
            "\n"
          ]
        }
      ],
      "source": [
        "from sklearn.tree import DecisionTreeClassifier\n",
        "classifier = DecisionTreeClassifier(criterion = 'entropy', random_state = 42)\n",
        "classifier.fit(X_train, y_train)\n",
        "y_pred = classifier.predict(X_test)\n",
        "dt_acc = accuracy_score(y_test,y_pred)\n",
        "print(classification_report(y_test,y_pred))"
      ]
    },
    {
      "cell_type": "markdown",
      "id": "4c8b29fa",
      "metadata": {
        "id": "4c8b29fa"
      },
      "source": [
        "# RandomForestClassifier"
      ]
    },
    {
      "cell_type": "code",
      "execution_count": null,
      "id": "74a40af6",
      "metadata": {
        "colab": {
          "base_uri": "https://localhost:8080/"
        },
        "id": "74a40af6",
        "outputId": "dbbe77ef-fae4-42a2-ccbc-6daea1710900"
      },
      "outputs": [
        {
          "output_type": "stream",
          "name": "stdout",
          "text": [
            "              precision    recall  f1-score   support\n",
            "\n",
            "        ADHD       0.72      0.77      0.74       295\n",
            "    Non_ADHD       0.73      0.68      0.71       280\n",
            "\n",
            "    accuracy                           0.73       575\n",
            "   macro avg       0.73      0.72      0.72       575\n",
            "weighted avg       0.73      0.73      0.72       575\n",
            "\n"
          ]
        }
      ],
      "source": [
        "from sklearn.ensemble import RandomForestClassifier\n",
        "classifier = RandomForestClassifier(n_estimators = 10, criterion = 'entropy', random_state = 42)\n",
        "classifier.fit(X_train, y_train)\n",
        "y_pred = classifier.predict(X_test)\n",
        "rf_acc = accuracy_score(y_test,y_pred)\n",
        "print(classification_report(y_test,y_pred))"
      ]
    },
    {
      "cell_type": "code",
      "source": [
        "from sklearn.metrics import plot_confusion_matrix\n",
        "plot_confusion_matrix(classifier, X_test, y_test)  "
      ],
      "metadata": {
        "colab": {
          "base_uri": "https://localhost:8080/",
          "height": 351
        },
        "id": "6DodvkzeV98B",
        "outputId": "8069206e-41f5-4932-c70f-48416b5bdbf1"
      },
      "id": "6DodvkzeV98B",
      "execution_count": null,
      "outputs": [
        {
          "output_type": "stream",
          "name": "stderr",
          "text": [
            "/usr/local/lib/python3.8/dist-packages/sklearn/utils/deprecation.py:87: FutureWarning: Function plot_confusion_matrix is deprecated; Function `plot_confusion_matrix` is deprecated in 1.0 and will be removed in 1.2. Use one of the class methods: ConfusionMatrixDisplay.from_predictions or ConfusionMatrixDisplay.from_estimator.\n",
            "  warnings.warn(msg, category=FutureWarning)\n"
          ]
        },
        {
          "output_type": "execute_result",
          "data": {
            "text/plain": [
              "<sklearn.metrics._plot.confusion_matrix.ConfusionMatrixDisplay at 0x7fc95b8e38b0>"
            ]
          },
          "metadata": {},
          "execution_count": 122
        },
        {
          "output_type": "display_data",
          "data": {
            "text/plain": [
              "<Figure size 432x288 with 2 Axes>"
            ],
            "image/png": "[encoded data removed]"
          },
          "metadata": {
            "needs_background": "light"
          }
        }
      ]
    },
    {
      "cell_type": "markdown",
      "id": "750e074a",
      "metadata": {
        "id": "750e074a"
      },
      "source": [
        "# XGBClassifier"
      ]
    },
    {
      "cell_type": "code",
      "execution_count": null,
      "id": "ec2b5bcc",
      "metadata": {
        "id": "ec2b5bcc"
      },
      "outputs": [],
      "source": [
        "from xgboost import XGBClassifier"
      ]
    },
    {
      "cell_type": "code",
      "execution_count": null,
      "id": "d718a934",
      "metadata": {
        "id": "d718a934"
      },
      "outputs": [],
      "source": [
        "xgb = XGBClassifier(n_estimators=100,random_state = 42)\n",
        "xgb.fit(X_train, y_train)\n",
        "preds = xgb.predict(X_test)\n",
        "xbg_acc = accuracy_score(y_test,preds)"
      ]
    },
    {
      "cell_type": "code",
      "execution_count": null,
      "id": "a8223a4f",
      "metadata": {
        "colab": {
          "base_uri": "https://localhost:8080/"
        },
        "id": "a8223a4f",
        "outputId": "9f5f666c-988e-48c3-91d6-c7cab42ef98e"
      },
      "outputs": [
        {
          "output_type": "stream",
          "name": "stdout",
          "text": [
            "              precision    recall  f1-score   support\n",
            "\n",
            "        ADHD       0.70      0.76      0.73       295\n",
            "    Non_ADHD       0.72      0.65      0.68       280\n",
            "\n",
            "    accuracy                           0.71       575\n",
            "   macro avg       0.71      0.71      0.71       575\n",
            "weighted avg       0.71      0.71      0.71       575\n",
            "\n"
          ]
        }
      ],
      "source": [
        "print(classification_report(y_test,preds))"
      ]
    },
    {
      "cell_type": "markdown",
      "id": "94dd0371",
      "metadata": {
        "id": "94dd0371"
      },
      "source": [
        "# Check Feature importances"
      ]
    },
    {
      "cell_type": "markdown",
      "id": "f1d4a71d",
      "metadata": {
        "id": "f1d4a71d"
      },
      "source": [
        "# MLP"
      ]
    },
    {
      "cell_type": "code",
      "execution_count": null,
      "id": "30e593fc",
      "metadata": {
        "id": "30e593fc"
      },
      "outputs": [],
      "source": [
        "from sklearn.neural_network import MLPClassifier"
      ]
    },
    {
      "cell_type": "code",
      "execution_count": null,
      "id": "1775e183",
      "metadata": {
        "colab": {
          "base_uri": "https://localhost:8080/"
        },
        "id": "1775e183",
        "outputId": "4d25a05b-a433-4949-d33d-3ca54b0cff5c"
      },
      "outputs": [
        {
          "output_type": "stream",
          "name": "stderr",
          "text": [
            "/usr/local/lib/python3.8/dist-packages/sklearn/neural_network/_multilayer_perceptron.py:692: ConvergenceWarning: Stochastic Optimizer: Maximum iterations (200) reached and the optimization hasn't converged yet.\n",
            "  warnings.warn(\n"
          ]
        }
      ],
      "source": [
        "clf = MLPClassifier(hidden_layer_sizes=(100,),random_state=42)\n",
        "clf.fit(X_train, y_train)\n",
        "y_pred_mlp = clf.predict(X_test)\n",
        "mlp_acc = accuracy_score(y_test,y_pred_mlp)\n"
      ]
    },
    {
      "cell_type": "code",
      "execution_count": null,
      "id": "3323064c",
      "metadata": {
        "colab": {
          "base_uri": "https://localhost:8080/"
        },
        "id": "3323064c",
        "outputId": "959cdf77-8f4e-4d04-c315-c81e088ecbf4"
      },
      "outputs": [
        {
          "output_type": "stream",
          "name": "stdout",
          "text": [
            "              precision    recall  f1-score   support\n",
            "\n",
            "        ADHD       0.75      0.69      0.72       295\n",
            "    Non_ADHD       0.70      0.75      0.73       280\n",
            "\n",
            "    accuracy                           0.72       575\n",
            "   macro avg       0.72      0.72      0.72       575\n",
            "weighted avg       0.73      0.72      0.72       575\n",
            "\n"
          ]
        }
      ],
      "source": [
        "print(classification_report(y_test,y_pred_mlp))"
      ]
    },
    {
      "cell_type": "markdown",
      "id": "4566a349",
      "metadata": {
        "id": "4566a349"
      },
      "source": [
        "# SVC"
      ]
    },
    {
      "cell_type": "code",
      "execution_count": null,
      "id": "6d359d19",
      "metadata": {
        "id": "6d359d19"
      },
      "outputs": [],
      "source": [
        "from sklearn.svm import SVC"
      ]
    },
    {
      "cell_type": "code",
      "execution_count": null,
      "id": "4e53ee71",
      "metadata": {
        "colab": {
          "base_uri": "https://localhost:8080/"
        },
        "id": "4e53ee71",
        "outputId": "df9c83d8-deaa-4388-cdae-b58323b9b16e"
      },
      "outputs": [
        {
          "output_type": "stream",
          "name": "stdout",
          "text": [
            "              precision    recall  f1-score   support\n",
            "\n",
            "        ADHD       0.71      0.74      0.73       295\n",
            "    Non_ADHD       0.71      0.69      0.70       280\n",
            "\n",
            "    accuracy                           0.71       575\n",
            "   macro avg       0.71      0.71      0.71       575\n",
            "weighted avg       0.71      0.71      0.71       575\n",
            "\n"
          ]
        }
      ],
      "source": [
        "svc = SVC(random_state = 42)\n",
        "svc.fit(X_train, y_train)\n",
        "preds = svc.predict(X_test)\n",
        "svc_acc = accuracy_score(y_test,preds)\n",
        "\n",
        "print(classification_report(y_test,preds))"
      ]
    },
    {
      "cell_type": "markdown",
      "source": [
        "## KNN"
      ],
      "metadata": {
        "id": "7XuJp5nYboNg"
      },
      "id": "7XuJp5nYboNg"
    },
    {
      "cell_type": "code",
      "source": [
        "\n",
        "from sklearn.neighbors import KNeighborsClassifier\n",
        "import math\n",
        "k=math.sqrt(60)\n",
        "classifier = KNeighborsClassifier(n_neighbors=8)\n",
        "classifier.fit(X_train, y_train)\n",
        "y_pred = classifier.predict(X_test)\n",
        "knn_acc = accuracy_score(y_test,y_pred)\n",
        "print(classification_report(y_test,y_pred))"
      ],
      "metadata": {
        "colab": {
          "base_uri": "https://localhost:8080/"
        },
        "id": "q9TXEelQTfpZ",
        "outputId": "78cd15e6-df4b-4018-f75c-d1437906f586"
      },
      "id": "q9TXEelQTfpZ",
      "execution_count": null,
      "outputs": [
        {
          "output_type": "stream",
          "name": "stdout",
          "text": [
            "              precision    recall  f1-score   support\n",
            "\n",
            "        ADHD       0.73      0.80      0.77       295\n",
            "    Non_ADHD       0.77      0.69      0.73       280\n",
            "\n",
            "    accuracy                           0.75       575\n",
            "   macro avg       0.75      0.75      0.75       575\n",
            "weighted avg       0.75      0.75      0.75       575\n",
            "\n"
          ]
        }
      ]
    },
    {
      "cell_type": "code",
      "source": [
        "from sklearn.metrics import plot_confusion_matrix\n",
        "plot_confusion_matrix(classifier, X_test, y_test)  "
      ],
      "metadata": {
        "colab": {
          "base_uri": "https://localhost:8080/",
          "height": 351
        },
        "id": "5DNAvTujVtoZ",
        "outputId": "686c48ea-9f91-4dd8-9fb8-7d7ea495c659"
      },
      "id": "5DNAvTujVtoZ",
      "execution_count": null,
      "outputs": [
        {
          "output_type": "stream",
          "name": "stderr",
          "text": [
            "/usr/local/lib/python3.8/dist-packages/sklearn/utils/deprecation.py:87: FutureWarning: Function plot_confusion_matrix is deprecated; Function `plot_confusion_matrix` is deprecated in 1.0 and will be removed in 1.2. Use one of the class methods: ConfusionMatrixDisplay.from_predictions or ConfusionMatrixDisplay.from_estimator.\n",
            "  warnings.warn(msg, category=FutureWarning)\n"
          ]
        },
        {
          "output_type": "execute_result",
          "data": {
            "text/plain": [
              "<sklearn.metrics._plot.confusion_matrix.ConfusionMatrixDisplay at 0x7fc94b10ce80>"
            ]
          },
          "metadata": {},
          "execution_count": 140
        },
        {
          "output_type": "display_data",
          "data": {
            "text/plain": [
              "<Figure size 432x288 with 2 Axes>"
            ],
            "image/png": "[encoded data removed]"
          },
          "metadata": {
            "needs_background": "light"
          }
        }
      ]
    },
    {
      "cell_type": "markdown",
      "source": [
        "##NaiveBayes"
      ],
      "metadata": {
        "id": "JVpRK-QOb7SU"
      },
      "id": "JVpRK-QOb7SU"
    },
    {
      "cell_type": "code",
      "source": [
        "\n",
        "from sklearn.naive_bayes import GaussianNB\n",
        "classifier = GaussianNB()\n",
        "classifier.fit(X_train, y_train)\n",
        "y_pred = classifier.predict(X_test)\n",
        "NB_acc = accuracy_score(y_test,y_pred)\n",
        "print(classification_report(y_test,y_pred))"
      ],
      "metadata": {
        "colab": {
          "base_uri": "https://localhost:8080/"
        },
        "id": "u-cxfD3sTlM1",
        "outputId": "ff32bfee-6a29-447d-f7f3-231137257817"
      },
      "id": "u-cxfD3sTlM1",
      "execution_count": null,
      "outputs": [
        {
          "output_type": "stream",
          "name": "stdout",
          "text": [
            "              precision    recall  f1-score   support\n",
            "\n",
            "        ADHD       0.57      0.84      0.68       295\n",
            "    Non_ADHD       0.67      0.34      0.45       280\n",
            "\n",
            "    accuracy                           0.60       575\n",
            "   macro avg       0.62      0.59      0.57       575\n",
            "weighted avg       0.62      0.60      0.57       575\n",
            "\n"
          ]
        }
      ]
    },
    {
      "cell_type": "code",
      "source": [
        "from sklearn.metrics import plot_confusion_matrix\n",
        "plot_confusion_matrix(classifier, X_test, y_test)  "
      ],
      "metadata": {
        "colab": {
          "base_uri": "https://localhost:8080/",
          "height": 351
        },
        "id": "3ZoVtq-tWG7S",
        "outputId": "56258583-8056-4027-ffb2-cb030a34456e"
      },
      "id": "3ZoVtq-tWG7S",
      "execution_count": null,
      "outputs": [
        {
          "output_type": "stream",
          "name": "stderr",
          "text": [
            "/usr/local/lib/python3.8/dist-packages/sklearn/utils/deprecation.py:87: FutureWarning: Function plot_confusion_matrix is deprecated; Function `plot_confusion_matrix` is deprecated in 1.0 and will be removed in 1.2. Use one of the class methods: ConfusionMatrixDisplay.from_predictions or ConfusionMatrixDisplay.from_estimator.\n",
            "  warnings.warn(msg, category=FutureWarning)\n"
          ]
        },
        {
          "output_type": "execute_result",
          "data": {
            "text/plain": [
              "<sklearn.metrics._plot.confusion_matrix.ConfusionMatrixDisplay at 0x7fc94b1043d0>"
            ]
          },
          "metadata": {},
          "execution_count": 142
        },
        {
          "output_type": "display_data",
          "data": {
            "text/plain": [
              "<Figure size 432x288 with 2 Axes>"
            ],
            "image/png": "[encoded data removed]"
          },
          "metadata": {
            "needs_background": "light"
          }
        }
      ]
    },
    {
      "cell_type": "markdown",
      "source": [
        "## ADABoost"
      ],
      "metadata": {
        "id": "rxCGAOQEb-dK"
      },
      "id": "rxCGAOQEb-dK"
    },
    {
      "cell_type": "code",
      "source": [
        "from sklearn.ensemble import AdaBoostClassifier\n",
        "classifier = AdaBoostClassifier(n_estimators=100, random_state=0)\n",
        "classifier.fit(X_train, y_train)\n",
        "y_pred = classifier.predict(X_test)\n",
        "ada_acc = accuracy_score(y_test,y_pred)\n",
        "print(classification_report(y_test,y_pred))"
      ],
      "metadata": {
        "colab": {
          "base_uri": "https://localhost:8080/"
        },
        "id": "abTsBY7VTq_c",
        "outputId": "c4c6b36d-d27c-4d96-bef4-02b7de1f33bf"
      },
      "id": "abTsBY7VTq_c",
      "execution_count": null,
      "outputs": [
        {
          "output_type": "stream",
          "name": "stdout",
          "text": [
            "              precision    recall  f1-score   support\n",
            "\n",
            "        ADHD       0.69      0.74      0.71       295\n",
            "    Non_ADHD       0.70      0.65      0.68       280\n",
            "\n",
            "    accuracy                           0.70       575\n",
            "   macro avg       0.70      0.70      0.70       575\n",
            "weighted avg       0.70      0.70      0.70       575\n",
            "\n"
          ]
        }
      ]
    },
    {
      "cell_type": "markdown",
      "source": [
        "##Bagging"
      ],
      "metadata": {
        "id": "1xMPZIofcBuj"
      },
      "id": "1xMPZIofcBuj"
    },
    {
      "cell_type": "code",
      "source": [
        "\n",
        "from sklearn.ensemble import BaggingClassifier\n",
        "from sklearn.svm import SVC\n",
        "classifier = BaggingClassifier(base_estimator=SVC(),n_estimators=10, random_state=0)\n",
        "classifier.fit(X_train, y_train)\n",
        "y_pred = classifier.predict(X_test)\n",
        "bg_acc = accuracy_score(y_test,y_pred)\n",
        "print(classification_report(y_test,y_pred))"
      ],
      "metadata": {
        "colab": {
          "base_uri": "https://localhost:8080/"
        },
        "id": "lFZTwJymTvVS",
        "outputId": "c943ca70-f73a-4bbb-db1d-173e237a5e0b"
      },
      "id": "lFZTwJymTvVS",
      "execution_count": null,
      "outputs": [
        {
          "output_type": "stream",
          "name": "stdout",
          "text": [
            "              precision    recall  f1-score   support\n",
            "\n",
            "        ADHD       0.70      0.76      0.73       295\n",
            "    Non_ADHD       0.72      0.66      0.69       280\n",
            "\n",
            "    accuracy                           0.71       575\n",
            "   macro avg       0.71      0.71      0.71       575\n",
            "weighted avg       0.71      0.71      0.71       575\n",
            "\n"
          ]
        }
      ]
    },
    {
      "cell_type": "markdown",
      "source": [
        "##LDA"
      ],
      "metadata": {
        "id": "BSrX2qy1cDRa"
      },
      "id": "BSrX2qy1cDRa"
    },
    {
      "cell_type": "code",
      "source": [
        "from sklearn.discriminant_analysis import LinearDiscriminantAnalysis\n",
        "classifier = LinearDiscriminantAnalysis()\n",
        "classifier.fit(X_train, y_train)\n",
        "y_pred = classifier.predict(X_test)\n",
        "lda_acc = accuracy_score(y_test,y_pred)\n",
        "print(classification_report(y_test,y_pred))"
      ],
      "metadata": {
        "colab": {
          "base_uri": "https://localhost:8080/"
        },
        "id": "tFrc7j9oTy1Z",
        "outputId": "6cca2d65-8b51-4cde-b66b-d8c2d319c2cc"
      },
      "id": "tFrc7j9oTy1Z",
      "execution_count": null,
      "outputs": [
        {
          "output_type": "stream",
          "name": "stdout",
          "text": [
            "              precision    recall  f1-score   support\n",
            "\n",
            "        ADHD       0.67      0.69      0.68       295\n",
            "    Non_ADHD       0.67      0.65      0.66       280\n",
            "\n",
            "    accuracy                           0.67       575\n",
            "   macro avg       0.67      0.67      0.67       575\n",
            "weighted avg       0.67      0.67      0.67       575\n",
            "\n"
          ]
        }
      ]
    },
    {
      "cell_type": "markdown",
      "source": [
        "## Logistic Regression"
      ],
      "metadata": {
        "id": "YDHjPE6xcFZ2"
      },
      "id": "YDHjPE6xcFZ2"
    },
    {
      "cell_type": "code",
      "source": [
        "from sklearn.linear_model import LogisticRegression\n",
        "classifier = LogisticRegression(random_state = 0)\n",
        "classifier.fit(X_train, y_train)\n",
        "y_pred = classifier.predict(X_test)\n",
        "lg_acc = accuracy_score(y_test,y_pred)\n",
        "print(lg_acc)\n",
        "print(classification_report(y_test,y_pred))"
      ],
      "metadata": {
        "colab": {
          "base_uri": "https://localhost:8080/"
        },
        "id": "CIHPOqCMXSEZ",
        "outputId": "634d79d7-e725-40f1-8f3c-d889933a12ea"
      },
      "id": "CIHPOqCMXSEZ",
      "execution_count": null,
      "outputs": [
        {
          "output_type": "stream",
          "name": "stdout",
          "text": [
            "0.6765217391304348\n",
            "              precision    recall  f1-score   support\n",
            "\n",
            "        ADHD       0.68      0.71      0.69       295\n",
            "    Non_ADHD       0.68      0.65      0.66       280\n",
            "\n",
            "    accuracy                           0.68       575\n",
            "   macro avg       0.68      0.68      0.68       575\n",
            "weighted avg       0.68      0.68      0.68       575\n",
            "\n"
          ]
        }
      ]
    },
    {
      "cell_type": "code",
      "source": [
        "from sklearn.metrics import plot_confusion_matrix\n",
        "plot_confusion_matrix(classifier, X_test, y_test)  "
      ],
      "metadata": {
        "colab": {
          "base_uri": "https://localhost:8080/",
          "height": 351
        },
        "id": "EhKQntuNXWY9",
        "outputId": "b0db2c63-f235-4a7e-9740-78f5c1403db4"
      },
      "id": "EhKQntuNXWY9",
      "execution_count": null,
      "outputs": [
        {
          "output_type": "stream",
          "name": "stderr",
          "text": [
            "/usr/local/lib/python3.8/dist-packages/sklearn/utils/deprecation.py:87: FutureWarning: Function plot_confusion_matrix is deprecated; Function `plot_confusion_matrix` is deprecated in 1.0 and will be removed in 1.2. Use one of the class methods: ConfusionMatrixDisplay.from_predictions or ConfusionMatrixDisplay.from_estimator.\n",
            "  warnings.warn(msg, category=FutureWarning)\n"
          ]
        },
        {
          "output_type": "execute_result",
          "data": {
            "text/plain": [
              "<sklearn.metrics._plot.confusion_matrix.ConfusionMatrixDisplay at 0x7fc9527e2f70>"
            ]
          },
          "metadata": {},
          "execution_count": 149
        },
        {
          "output_type": "display_data",
          "data": {
            "text/plain": [
              "<Figure size 432x288 with 2 Axes>"
            ],
            "image/png": "[encoded data removed]"
          },
          "metadata": {
            "needs_background": "light"
          }
        }
      ]
    },
    {
      "cell_type": "markdown",
      "id": "0c138e74",
      "metadata": {
        "id": "0c138e74"
      },
      "source": [
        "# performance comparison"
      ]
    },
    {
      "cell_type": "code",
      "execution_count": null,
      "id": "d1d80dbb",
      "metadata": {
        "colab": {
          "base_uri": "https://localhost:8080/",
          "height": 390
        },
        "id": "d1d80dbb",
        "outputId": "16458c87-11c6-4468-b48d-8f69a1b50ece"
      },
      "outputs": [
        {
          "output_type": "execute_result",
          "data": {
            "text/plain": [
              "                        Score\n",
              "Model                        \n",
              "KNN                  0.747826\n",
              "Random Forest        0.725217\n",
              "MLPClassifier        0.723478\n",
              "SVC                  0.713043\n",
              "XGBoost              0.707826\n",
              "Bagging              0.707826\n",
              "AdaBoost             0.697391\n",
              "Logistic Regression  0.676522\n",
              "Decision Tree        0.641739\n",
              "Naive Bayes          0.598261"
            ],
            "text/html": [
              "\n",
              "  <div id=\"df-224b0b83-820b-43a1-95d9-88bee6db3809\">\n",
              "    <div class=\"colab-df-container\">\n",
              "      <div>\n",
              "<style scoped>\n",
              "    .dataframe tbody tr th:only-of-type {\n",
              "        vertical-align: middle;\n",
              "    }\n",
              "\n",
              "    .dataframe tbody tr th {\n",
              "        vertical-align: top;\n",
              "    }\n",
              "\n",
              "    .dataframe thead th {\n",
              "        text-align: right;\n",
              "    }\n",
              "</style>\n",
              "<table border=\"1\" class=\"dataframe\">\n",
              "  <thead>\n",
              "    <tr style=\"text-align: right;\">\n",
              "      <th></th>\n",
              "      <th>Score</th>\n",
              "    </tr>\n",
              "    <tr>\n",
              "      <th>Model</th>\n",
              "      <th></th>\n",
              "    </tr>\n",
              "  </thead>\n",
              "  <tbody>\n",
              "    <tr>\n",
              "      <th>KNN</th>\n",
              "      <td>0.747826</td>\n",
              "    </tr>\n",
              "    <tr>\n",
              "      <th>Random Forest</th>\n",
              "      <td>0.725217</td>\n",
              "    </tr>\n",
              "    <tr>\n",
              "      <th>MLPClassifier</th>\n",
              "      <td>0.723478</td>\n",
              "    </tr>\n",
              "    <tr>\n",
              "      <th>SVC</th>\n",
              "      <td>0.713043</td>\n",
              "    </tr>\n",
              "    <tr>\n",
              "      <th>XGBoost</th>\n",
              "      <td>0.707826</td>\n",
              "    </tr>\n",
              "    <tr>\n",
              "      <th>Bagging</th>\n",
              "      <td>0.707826</td>\n",
              "    </tr>\n",
              "    <tr>\n",
              "      <th>AdaBoost</th>\n",
              "      <td>0.697391</td>\n",
              "    </tr>\n",
              "    <tr>\n",
              "      <th>Logistic Regression</th>\n",
              "      <td>0.676522</td>\n",
              "    </tr>\n",
              "    <tr>\n",
              "      <th>Decision Tree</th>\n",
              "      <td>0.641739</td>\n",
              "    </tr>\n",
              "    <tr>\n",
              "      <th>Naive Bayes</th>\n",
              "      <td>0.598261</td>\n",
              "    </tr>\n",
              "  </tbody>\n",
              "</table>\n",
              "</div>\n",
              "      <button class=\"colab-df-convert\" onclick=\"convertToInteractive('df-224b0b83-820b-43a1-95d9-88bee6db3809')\"\n",
              "              title=\"Convert this dataframe to an interactive table.\"\n",
              "              style=\"display:none;\">\n",
              "        \n",
              "  <svg xmlns=\"http://www.w3.org/2000/svg\" height=\"24px\"viewBox=\"0 0 24 24\"\n",
              "       width=\"24px\">\n",
              "    <path d=\"M0 0h24v24H0V0z\" fill=\"none\"/>\n",
              "    <path d=\"M18.56 5.44l.94 2.06.94-2.06 2.06-.94-2.06-.94-.94-2.06-.94 2.06-2.06.94zm-11 1L8.5 8.5l.94-2.06 2.06-.94-2.06-.94L8.5 2.5l-.94 2.06-2.06.94zm10 10l.94 2.06.94-2.06 2.06-.94-2.06-.94-.94-2.06-.94 2.06-2.06.94z\"/><path d=\"M17.41 7.96l-1.37-1.37c-.4-.4-.92-.59-1.43-.59-.52 0-1.04.2-1.43.59L10.3 9.45l-7.72 7.72c-.78.78-.78 2.05 0 2.83L4 21.41c.39.39.9.59 1.41.59.51 0 1.02-.2 1.41-.59l7.78-7.78 2.81-2.81c.8-.78.8-2.07 0-2.86zM5.41 20L4 18.59l7.72-7.72 1.47 1.35L5.41 20z\"/>\n",
              "  </svg>\n",
              "      </button>\n",
              "      \n",
              "  <style>\n",
              "    .colab-df-container {\n",
              "      display:flex;\n",
              "      flex-wrap:wrap;\n",
              "      gap: 12px;\n",
              "    }\n",
              "\n",
              "    .colab-df-convert {\n",
              "      background-color: #E8F0FE;\n",
              "      border: none;\n",
              "      border-radius: 50%;\n",
              "      cursor: pointer;\n",
              "      display: none;\n",
              "      fill: #1967D2;\n",
              "      height: 32px;\n",
              "      padding: 0 0 0 0;\n",
              "      width: 32px;\n",
              "    }\n",
              "\n",
              "    .colab-df-convert:hover {\n",
              "      background-color: #E2EBFA;\n",
              "      box-shadow: 0px 1px 2px rgba(60, 64, 67, 0.3), 0px 1px 3px 1px rgba(60, 64, 67, 0.15);\n",
              "      fill: #174EA6;\n",
              "    }\n",
              "\n",
              "    [theme=dark] .colab-df-convert {\n",
              "      background-color: #3B4455;\n",
              "      fill: #D2E3FC;\n",
              "    }\n",
              "\n",
              "    [theme=dark] .colab-df-convert:hover {\n",
              "      background-color: #434B5C;\n",
              "      box-shadow: 0px 1px 3px 1px rgba(0, 0, 0, 0.15);\n",
              "      filter: drop-shadow(0px 1px 2px rgba(0, 0, 0, 0.3));\n",
              "      fill: #FFFFFF;\n",
              "    }\n",
              "  </style>\n",
              "\n",
              "      <script>\n",
              "        const buttonEl =\n",
              "          document.querySelector('#df-224b0b83-820b-43a1-95d9-88bee6db3809 button.colab-df-convert');\n",
              "        buttonEl.style.display =\n",
              "          google.colab.kernel.accessAllowed ? 'block' : 'none';\n",
              "\n",
              "        async function convertToInteractive(key) {\n",
              "          const element = document.querySelector('#df-224b0b83-820b-43a1-95d9-88bee6db3809');\n",
              "          const dataTable =\n",
              "            await google.colab.kernel.invokeFunction('convertToInteractive',\n",
              "                                                     [key], {});\n",
              "          if (!dataTable) return;\n",
              "\n",
              "          const docLinkHtml = 'Like what you see? Visit the ' +\n",
              "            '<a target=\"_blank\" href=https://colab.research.google.com/notebooks/data_table.ipynb>data table notebook</a>'\n",
              "            + ' to learn more about interactive tables.';\n",
              "          element.innerHTML = '';\n",
              "          dataTable['output_type'] = 'display_data';\n",
              "          await google.colab.output.renderOutput(dataTable, element);\n",
              "          const docLink = document.createElement('div');\n",
              "          docLink.innerHTML = docLinkHtml;\n",
              "          element.appendChild(docLink);\n",
              "        }\n",
              "      </script>\n",
              "    </div>\n",
              "  </div>\n",
              "  "
            ]
          },
          "metadata": {},
          "execution_count": 152
        }
      ],
      "source": [
        "results = pd.DataFrame({\n",
        "    'Model': ['Decision Tree',\n",
        "              'Random Forest',\n",
        "              'Logistic Regression',\n",
        "              'XGBoost',\n",
        "              'MLPClassifier',\n",
        "              'AdaBoost',\n",
        "              'Bagging',\n",
        "              'KNN',\n",
        "              'Naive Bayes',\n",
        "              'SVC'],\n",
        "    'Score': [dt_acc,\n",
        "                rf_acc,\n",
        "                lg_acc,\n",
        "                xbg_acc,\n",
        "                mlp_acc,\n",
        "              ada_acc,\n",
        "              bg_acc,\n",
        "              knn_acc,\n",
        "              NB_acc,\n",
        "                svc_acc]})\n",
        "\n",
        "result_df = results.sort_values(by='Score', ascending=False)\n",
        "result_df = result_df.set_index('Model')\n",
        "result_df"
      ]
    },
    {
      "cell_type": "code",
      "source": [
        "  "
      ],
      "metadata": {
        "id": "vOE3L8rCUCLK"
      },
      "id": "vOE3L8rCUCLK",
      "execution_count": null,
      "outputs": []
    }
  ],
  "metadata": {
    "kernelspec": {
      "display_name": "Python 3 (ipykernel)",
      "language": "python",
      "name": "python3"
    },
    "language_info": {
      "codemirror_mode": {
        "name": "ipython",
        "version": 3
      },
      "file_extension": ".py",
      "mimetype": "text/x-python",
      "name": "python",
      "nbconvert_exporter": "python",
      "pygments_lexer": "ipython3",
      "version": "3.9.12"
    },
    "colab": {
      "provenance": [],
      "collapsed_sections": [
        "4c8b29fa",
        "750e074a",
        "94dd0371",
        "f1d4a71d"
      ]
    }
  },
  "nbformat": 4,
  "nbformat_minor": 5
}